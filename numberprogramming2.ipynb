{
 "cells": [
  {
   "cell_type": "code",
   "execution_count": 1,
   "metadata": {},
   "outputs": [
    {
     "name": "stdout",
     "output_type": "stream",
     "text": [
      "1210\n",
      "1210\n",
      "Autobiographical number\n"
     ]
    }
   ],
   "source": [
    "n=int(input())\n",
    "print(n)\n",
    "n1=n\n",
    "c=0\n",
    "l=[0]*10\n",
    "while n1!=0:\n",
    "    c+=1\n",
    "    digit=n1%10\n",
    "    l[digit]+=1\n",
    "    n1=n1//10\n",
    "res=''\n",
    "j=0\n",
    "while j<c:\n",
    "    res+=str(l[j])\n",
    "    j+=1\n",
    "print(res)\n",
    "res1=int(res)\n",
    "if n==res1:\n",
    "    print('Autobiographical number')\n",
    "else:\n",
    "    print('not autobiographical number')\n",
    "\n"
   ]
  },
  {
   "cell_type": "code",
   "execution_count": 8,
   "metadata": {},
   "outputs": [
    {
     "name": "stdout",
     "output_type": "stream",
     "text": [
      "9\n"
     ]
    }
   ],
   "source": [
    "n=int(input())\n",
    "s=0\n",
    "i=1\n",
    "while i>0:\n",
    "    while n!=0:\n",
    "        d=n%10\n",
    "        s+=d\n",
    "        n=n//10\n",
    "    if s>=10:\n",
    "        n=s\n",
    "        s=0\n",
    "    else:\n",
    "        print(s)\n",
    "        break\n",
    "    i+=1\n"
   ]
  },
  {
   "cell_type": "code",
   "execution_count": 11,
   "metadata": {},
   "outputs": [
    {
     "name": "stdout",
     "output_type": "stream",
     "text": [
      "9\n"
     ]
    }
   ],
   "source": [
    "n=int(input())\n",
    "s=0\n",
    "i=1\n",
    "while n!=0:\n",
    "    d=n%10\n",
    "    s+=d\n",
    "    n=n//10\n",
    "    if  n==0 and s<=9:\n",
    "        print(s)\n",
    "        n=0\n",
    "    elif n==0:\n",
    "        n=s\n",
    "        s=0\n"
   ]
  },
  {
   "cell_type": "code",
   "execution_count": 12,
   "metadata": {},
   "outputs": [
    {
     "name": "stdout",
     "output_type": "stream",
     "text": [
      "9\n"
     ]
    }
   ],
   "source": [
    "n=int(input())\n",
    "sum=0\n",
    "sum1=0\n",
    "while n!=0:\n",
    "    d=n%10\n",
    "    sum+=d\n",
    "    n=n//10\n",
    "if len(str(sum))>1:\n",
    "    while sum!=0:\n",
    "        d1=sum%10\n",
    "        sum1+=d1\n",
    "        sum=sum//10\n",
    "print(sum1)"
   ]
  },
  {
   "cell_type": "code",
   "execution_count": null,
   "metadata": {},
   "outputs": [],
   "source": []
  }
 ],
 "metadata": {
  "kernelspec": {
   "display_name": "Python 3",
   "language": "python",
   "name": "python3"
  },
  "language_info": {
   "codemirror_mode": {
    "name": "ipython",
    "version": 3
   },
   "file_extension": ".py",
   "mimetype": "text/x-python",
   "name": "python",
   "nbconvert_exporter": "python",
   "pygments_lexer": "ipython3",
   "version": "3.12.1"
  }
 },
 "nbformat": 4,
 "nbformat_minor": 2
}
