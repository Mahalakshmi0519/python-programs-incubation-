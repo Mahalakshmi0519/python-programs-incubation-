{
 "cells": [
  {
   "cell_type": "code",
   "execution_count": 8,
   "metadata": {},
   "outputs": [
    {
     "name": "stdout",
     "output_type": "stream",
     "text": [
      "21200\n",
      "21200\n",
      "Autobiographical number\n"
     ]
    }
   ],
   "source": [
    "n=int(input())\n",
    "print(n)\n",
    "n1=n\n",
    "c=0\n",
    "l=[0]*10\n",
    "while n1!=0:\n",
    "    c+=1\n",
    "    digit=n1%10\n",
    "    l[digit]+=1\n",
    "    n1=n1//10\n",
    "res=''\n",
    "j=0\n",
    "while j<c:\n",
    "    res+=str(l[j])\n",
    "    j+=1\n",
    "print(res)\n",
    "res1=int(res)\n",
    "if n==res1:\n",
    "    print('Autobiographical number')\n",
    "else:\n",
    "    print('not autobiographical number')\n",
    "\n"
   ]
  },
  {
   "cell_type": "code",
   "execution_count": null,
   "metadata": {},
   "outputs": [],
   "source": []
  }
 ],
 "metadata": {
  "kernelspec": {
   "display_name": "Python 3",
   "language": "python",
   "name": "python3"
  },
  "language_info": {
   "codemirror_mode": {
    "name": "ipython",
    "version": 3
   },
   "file_extension": ".py",
   "mimetype": "text/x-python",
   "name": "python",
   "nbconvert_exporter": "python",
   "pygments_lexer": "ipython3",
   "version": "3.12.1"
  }
 },
 "nbformat": 4,
 "nbformat_minor": 2
}
