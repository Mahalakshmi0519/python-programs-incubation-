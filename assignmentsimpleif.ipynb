{
 "cells": [
  {
   "cell_type": "code",
   "execution_count": 1,
   "metadata": {},
   "outputs": [
    {
     "name": "stdout",
     "output_type": "stream",
     "text": [
      "Hello Good Morning\n"
     ]
    }
   ],
   "source": [
    "num=8\n",
    "if(num>2):\n",
    "    print('Hello Good Morning')"
   ]
  },
  {
   "cell_type": "code",
   "execution_count": 4,
   "metadata": {},
   "outputs": [
    {
     "name": "stdout",
     "output_type": "stream",
     "text": [
      "58\n",
      "18\n",
      "760\n",
      "1.9\n",
      "1\n",
      "18\n",
      "39415944008219710658556042674176\n"
     ]
    }
   ],
   "source": [
    "n=38\n",
    "if(n>=30 and n<=40):\n",
    "    print(n+20)\n",
    "    print(n-20)\n",
    "    print(n*20)\n",
    "    print(n/20)\n",
    "    print(n//20)\n",
    "    print(n%20)\n",
    "    print(n**20)"
   ]
  },
  {
   "cell_type": "code",
   "execution_count": 6,
   "metadata": {},
   "outputs": [
    {
     "name": "stdout",
     "output_type": "stream",
     "text": [
      "47\n"
     ]
    }
   ],
   "source": [
    "n=27\n",
    "if(n%3==0):\n",
    "    n+=20\n",
    "print(n)"
   ]
  },
  {
   "cell_type": "code",
   "execution_count": 9,
   "metadata": {},
   "outputs": [
    {
     "name": "stdout",
     "output_type": "stream",
     "text": [
      "56\n",
      "27\n"
     ]
    }
   ],
   "source": [
    "n=28\n",
    "if(n%2==0 and n>20):\n",
    "    print(2*n)\n",
    "else:\n",
    "    print(n)\n",
    "\n",
    "n=27\n",
    "if(n%2==0 and n>20):\n",
    "    print(2*n)\n",
    "else:\n",
    "    print(n)\n"
   ]
  },
  {
   "cell_type": "code",
   "execution_count": 10,
   "metadata": {},
   "outputs": [
    {
     "name": "stdout",
     "output_type": "stream",
     "text": [
      "109\n"
     ]
    }
   ],
   "source": [
    "ch=\"m\"\n",
    "if( (ch>='A' and ch<=\"Z\") or (ch>='a' and ch<='z')):\n",
    "    print(ord(ch))"
   ]
  },
  {
   "cell_type": "code",
   "execution_count": 12,
   "metadata": {},
   "outputs": [
    {
     "name": "stdout",
     "output_type": "stream",
     "text": [
      "K\n"
     ]
    }
   ],
   "source": [
    "ch='k'\n",
    "if(ch>='a' and ch<='z'):\n",
    "    ch_up=ord(ch)-32\n",
    "    up=chr(ch_up)\n",
    "    print(up)"
   ]
  },
  {
   "cell_type": "code",
   "execution_count": 15,
   "metadata": {},
   "outputs": [
    {
     "name": "stdout",
     "output_type": "stream",
     "text": [
      "54\n",
      "4\n"
     ]
    }
   ],
   "source": [
    "ch='6'\n",
    "if(ch>='0' and ch<='9'):\n",
    "    ascii=ord(ch)\n",
    "    print(ascii)\n",
    "    l_d=ascii%10\n",
    "    print(l_d)"
   ]
  },
  {
   "cell_type": "code",
   "execution_count": 17,
   "metadata": {},
   "outputs": [
    {
     "name": "stdout",
     "output_type": "stream",
     "text": [
      "eligible to vote\n"
     ]
    }
   ],
   "source": [
    "a=21\n",
    "b=30\n",
    "if(a>18 and b>18):\n",
    "    print('eligible to vote')"
   ]
  },
  {
   "cell_type": "code",
   "execution_count": 18,
   "metadata": {},
   "outputs": [
    {
     "name": "stdout",
     "output_type": "stream",
     "text": [
      "eligible to get married\n"
     ]
    }
   ],
   "source": [
    "lover1=30\n",
    "lover2=27\n",
    "if(lover1>21 and lover2>21):\n",
    "    print('eligible to get married')"
   ]
  }
 ],
 "metadata": {
  "kernelspec": {
   "display_name": "Python 3",
   "language": "python",
   "name": "python3"
  },
  "language_info": {
   "codemirror_mode": {
    "name": "ipython",
    "version": 3
   },
   "file_extension": ".py",
   "mimetype": "text/x-python",
   "name": "python",
   "nbconvert_exporter": "python",
   "pygments_lexer": "ipython3",
   "version": "3.12.1"
  }
 },
 "nbformat": 4,
 "nbformat_minor": 2
}
