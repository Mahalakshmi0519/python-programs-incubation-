{
 "cells": [
  {
   "cell_type": "code",
   "execution_count": 7,
   "metadata": {},
   "outputs": [
    {
     "name": "stdout",
     "output_type": "stream",
     "text": [
      "m\n",
      "v\n",
      "k\n",
      "k\n",
      "l\n",
      "k\n"
     ]
    }
   ],
   "source": [
    "st=input()\n",
    "for i in st:\n",
    "    if i>=\"a\" and i<=\"z\":\n",
    "        print(i)"
   ]
  },
  {
   "cell_type": "code",
   "execution_count": 11,
   "metadata": {},
   "outputs": [
    {
     "name": "stdout",
     "output_type": "stream",
     "text": [
      "@\n",
      "!\n",
      "#\n",
      "#\n",
      "$\n",
      "%\n",
      ">\n",
      "?\n",
      ">\n",
      "?\n",
      ">\n"
     ]
    }
   ],
   "source": [
    "st='hello@!##$%123>?>?>'\n",
    "for i in st:\n",
    "    if  not ((i>=\"a\" and i<=\"z\") or  (i>=\"A\" and i<=\"Z\") or ( i>=\"0\" and i<=\"9\")):\n",
    "        print(i)"
   ]
  },
  {
   "cell_type": "code",
   "execution_count": 12,
   "metadata": {},
   "outputs": [
    {
     "name": "stdout",
     "output_type": "stream",
     "text": [
      "H\n",
      "W\n"
     ]
    }
   ],
   "source": [
    "st='Hello!@World'\n",
    "for i in st:\n",
    "    if  (i>=\"A\" and i<=\"Z\") and  ( i not in \"aeiouAEIOU\"):\n",
    "        print(i)"
   ]
  },
  {
   "cell_type": "code",
   "execution_count": 17,
   "metadata": {},
   "outputs": [
    {
     "name": "stdout",
     "output_type": "stream",
     "text": [
      "m\n",
      "m\n",
      "k\n"
     ]
    }
   ],
   "source": [
    "st=input()\n",
    "\n",
    "for i in st:\n",
    "    if ord(i)%2==1:\n",
    "        if (i>=\"A\" and i<=\"Z\") or (i>=\"a\" and i<=\"z\") and  ( i not in \"aeiouAEIOU\"):\n",
    "            print(i)"
   ]
  },
  {
   "cell_type": "code",
   "execution_count": 19,
   "metadata": {},
   "outputs": [
    {
     "name": "stdout",
     "output_type": "stream",
     "text": [
      "3\n"
     ]
    }
   ],
   "source": [
    "st='hello@!##$%123>?>?>'\n",
    "c=0\n",
    "for i in st:\n",
    "    if  not ((i>=\"a\" and i<=\"z\") or  (i>=\"A\" and i<=\"Z\")) and i>=\"0\" and i<=\"9\":\n",
    "        c+=1\n",
    "print(c)"
   ]
  },
  {
   "cell_type": "code",
   "execution_count": 22,
   "metadata": {},
   "outputs": [
    {
     "name": "stdout",
     "output_type": "stream",
     "text": [
      "12\n"
     ]
    }
   ],
   "source": [
    "st='hello@!ADGF##$%123>?>?>'\n",
    "c=0\n",
    "for i in st:\n",
    "    if   (i>=\"a\" and i<=\"z\") or  (i>=\"A\" and i<=\"Z\") or i>=\"0\" and i<=\"9\":\n",
    "        c+=1\n",
    "print(c)"
   ]
  },
  {
   "cell_type": "code",
   "execution_count": 23,
   "metadata": {},
   "outputs": [
    {
     "name": "stdout",
     "output_type": "stream",
     "text": [
      "7\n"
     ]
    }
   ],
   "source": [
    "st='hello@!ADGF##$%123>?>?>'\n",
    "c=0\n",
    "for i in st:\n",
    "    if   ord(i)%2==0 and  (i>=\"a\" and i<=\"z\") or  (i>=\"A\" and i<=\"Z\"):\n",
    "        c+=1\n",
    "print(c)"
   ]
  },
  {
   "cell_type": "code",
   "execution_count": 24,
   "metadata": {},
   "outputs": [
    {
     "name": "stdout",
     "output_type": "stream",
     "text": [
      "7\n"
     ]
    }
   ],
   "source": [
    "st=input()\n",
    "c=0\n",
    "for i in st:\n",
    "    if ord(i)%2==0:\n",
    "        c+=1\n",
    "print(c)\n"
   ]
  },
  {
   "cell_type": "code",
   "execution_count": 1,
   "metadata": {},
   "outputs": [
    {
     "name": "stdout",
     "output_type": "stream",
     "text": [
      " Python\n"
     ]
    }
   ],
   "source": [
    "st=\"Python\"\n",
    "res=\" \"\n",
    "for i in st:\n",
    "    res=res+i\n",
    "print(res)"
   ]
  },
  {
   "cell_type": "code",
   "execution_count": 2,
   "metadata": {},
   "outputs": [
    {
     "name": "stdout",
     "output_type": "stream",
     "text": [
      " PTON\n"
     ]
    }
   ],
   "source": [
    "st=\"PyThON\"\n",
    "res=\" \"\n",
    "for i in st:\n",
    "    if i>='A' and i<='Z':\n",
    "        res=res+i\n",
    "print(res)"
   ]
  },
  {
   "cell_type": "code",
   "execution_count": 3,
   "metadata": {},
   "outputs": [
    {
     "name": "stdout",
     "output_type": "stream",
     "text": [
      " PyThON1234\n"
     ]
    }
   ],
   "source": [
    "st=\"PyThON@1234\"\n",
    "res=\" \"\n",
    "for i in st:\n",
    "    if   (i>=\"a\" and i<=\"z\") or  (i>=\"A\" and i<=\"Z\") or i>=\"0\" and i<=\"9\":\n",
    "        res=res+i\n",
    "print(res)"
   ]
  },
  {
   "cell_type": "code",
   "execution_count": 4,
   "metadata": {},
   "outputs": [
    {
     "name": "stdout",
     "output_type": "stream",
     "text": [
      " pytho\n"
     ]
    }
   ],
   "source": [
    "st=\"python@1234\"\n",
    "res=\" \"\n",
    "i=0\n",
    "m=len(st)//2\n",
    "while i<m:\n",
    "    ch=st[i]\n",
    "    res=res+ch\n",
    "    i+=1\n",
    "print(res)"
   ]
  },
  {
   "cell_type": "code",
   "execution_count": 5,
   "metadata": {},
   "outputs": [
    {
     "name": "stdout",
     "output_type": "stream",
     "text": [
      "nohtyp\n"
     ]
    }
   ],
   "source": [
    "st=\"python\"\n",
    "res=''\n",
    "for i in st:\n",
    "    res=res+i\n",
    "print(res[::-1])"
   ]
  },
  {
   "cell_type": "code",
   "execution_count": 6,
   "metadata": {},
   "outputs": [
    {
     "name": "stdout",
     "output_type": "stream",
     "text": [
      "True\n",
      "False\n",
      "False\n",
      "True\n",
      "True\n",
      "False\n",
      "False\n",
      "False\n",
      "True\n",
      "False\n",
      "True\n",
      "True\n",
      "False\n",
      "False\n",
      "True\n",
      "False\n",
      "True\n",
      "True\n",
      "True\n",
      "False\n",
      "False\n",
      "True\n",
      "True\n",
      "False\n",
      "False\n",
      "False\n",
      "True\n",
      "False\n",
      "True\n",
      "True\n",
      "True\n",
      "False\n",
      "False\n",
      "True\n",
      "True\n",
      "False\n",
      "False\n",
      "True\n",
      "False\n",
      "True\n",
      "False\n",
      "True\n"
     ]
    }
   ],
   "source": [
    "st=\"aabccdda\"\n",
    "i=0\n",
    "while i<len(st)-1:\n",
    "    ch=st[i]\n",
    "    ch1=st[i+1]\n",
    "    print(ch==ch1)\n",
    "    print(ch>ch1)\n",
    "    print(ch<ch1)\n",
    "    print(ch>=ch1)\n",
    "    print(ch<=ch1)\n",
    "    print(ch!=ch1)\n",
    "    i+=1\n"
   ]
  },
  {
   "cell_type": "code",
   "execution_count": 8,
   "metadata": {},
   "outputs": [
    {
     "name": "stdout",
     "output_type": "stream",
     "text": [
      "o\n"
     ]
    }
   ],
   "source": [
    "st=input()\n",
    "i=0\n",
    "while i<len(st)-1:\n",
    "    ch=st[i]\n",
    "    ch1=st[i+1]\n",
    "    if ch == ch1:\n",
    "        print(ch)\n",
    "    i+=1"
   ]
  },
  {
   "cell_type": "code",
   "execution_count": 11,
   "metadata": {},
   "outputs": [
    {
     "name": "stdout",
     "output_type": "stream",
     "text": [
      "m\n",
      "t\n"
     ]
    }
   ],
   "source": [
    "st=input()\n",
    "i=0\n",
    "while i<len(st)-1:\n",
    "    ch=st[i]\n",
    "    ch1=st[i+1]\n",
    "    if ch > ch1:\n",
    "        print(ch)\n",
    "    i+=1"
   ]
  },
  {
   "cell_type": "code",
   "execution_count": 13,
   "metadata": {},
   "outputs": [
    {
     "name": "stdout",
     "output_type": "stream",
     "text": [
      "a3b1c2d1\n"
     ]
    }
   ],
   "source": [
    "st=\"aaabccd\"\n",
    "i=0\n",
    "c=1\n",
    "res=''\n",
    "while i<len(st)-1:\n",
    "    ch=st[i]\n",
    "    ch1=st[i+1]\n",
    "    if ch!=ch1:\n",
    "        res+=ch+str(c)\n",
    "        c=1\n",
    "    else:\n",
    "        c+=1\n",
    "    i+=1\n",
    "res+=st[-1]+str(c)\n",
    "print(res)"
   ]
  },
  {
   "cell_type": "code",
   "execution_count": 15,
   "metadata": {},
   "outputs": [
    {
     "name": "stdout",
     "output_type": "stream",
     "text": [
      "aaabccd\n"
     ]
    }
   ],
   "source": [
    "st=\"a3b1c2d1\"\n",
    "i=0\n",
    "res=\"\"\n",
    "while i<len(st)-1:\n",
    "    res+=st[i]*int(st[i+1])\n",
    "    i+=2\n",
    "print(res)"
   ]
  },
  {
   "cell_type": "code",
   "execution_count": 16,
   "metadata": {},
   "outputs": [
    {
     "name": "stdout",
     "output_type": "stream",
     "text": [
      "aaabccdeeeeefffffff\n"
     ]
    }
   ],
   "source": [
    "st=\"a3b1c2d1e5f7\"\n",
    "i=0\n",
    "res=\"\"\n",
    "while i<len(st)-1:\n",
    "    res+=st[i]*int(st[i+1])\n",
    "    i+=2\n",
    "print(res)"
   ]
  }
 ],
 "metadata": {
  "kernelspec": {
   "display_name": "Python 3",
   "language": "python",
   "name": "python3"
  },
  "language_info": {
   "codemirror_mode": {
    "name": "ipython",
    "version": 3
   },
   "file_extension": ".py",
   "mimetype": "text/x-python",
   "name": "python",
   "nbconvert_exporter": "python",
   "pygments_lexer": "ipython3",
   "version": "3.12.1"
  }
 },
 "nbformat": 4,
 "nbformat_minor": 2
}
