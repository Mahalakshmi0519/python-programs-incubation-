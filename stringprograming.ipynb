{
 "cells": [
  {
   "cell_type": "code",
   "execution_count": 7,
   "metadata": {},
   "outputs": [
    {
     "name": "stdout",
     "output_type": "stream",
     "text": [
      "m\n",
      "v\n",
      "k\n",
      "k\n",
      "l\n",
      "k\n"
     ]
    }
   ],
   "source": [
    "st=input()\n",
    "for i in st:\n",
    "    if i>=\"a\" and i<=\"z\":\n",
    "        print(i)"
   ]
  },
  {
   "cell_type": "code",
   "execution_count": 11,
   "metadata": {},
   "outputs": [
    {
     "name": "stdout",
     "output_type": "stream",
     "text": [
      "@\n",
      "!\n",
      "#\n",
      "#\n",
      "$\n",
      "%\n",
      ">\n",
      "?\n",
      ">\n",
      "?\n",
      ">\n"
     ]
    }
   ],
   "source": [
    "st='hello@!##$%123>?>?>'\n",
    "for i in st:\n",
    "    if  not ((i>=\"a\" and i<=\"z\") or  (i>=\"A\" and i<=\"Z\") or ( i>=\"0\" and i<=\"9\")):\n",
    "        print(i)"
   ]
  },
  {
   "cell_type": "code",
   "execution_count": 12,
   "metadata": {},
   "outputs": [
    {
     "name": "stdout",
     "output_type": "stream",
     "text": [
      "H\n",
      "W\n"
     ]
    }
   ],
   "source": [
    "st='Hello!@World'\n",
    "for i in st:\n",
    "    if  (i>=\"A\" and i<=\"Z\") and  ( i not in \"aeiouAEIOU\"):\n",
    "        print(i)"
   ]
  },
  {
   "cell_type": "code",
   "execution_count": 17,
   "metadata": {},
   "outputs": [
    {
     "name": "stdout",
     "output_type": "stream",
     "text": [
      "m\n",
      "m\n",
      "k\n"
     ]
    }
   ],
   "source": [
    "st=input()\n",
    "\n",
    "for i in st:\n",
    "    if ord(i)%2==1:\n",
    "        if (i>=\"A\" and i<=\"Z\") or (i>=\"a\" and i<=\"z\") and  ( i not in \"aeiouAEIOU\"):\n",
    "            print(i)"
   ]
  },
  {
   "cell_type": "code",
   "execution_count": 19,
   "metadata": {},
   "outputs": [
    {
     "name": "stdout",
     "output_type": "stream",
     "text": [
      "3\n"
     ]
    }
   ],
   "source": [
    "st='hello@!##$%123>?>?>'\n",
    "c=0\n",
    "for i in st:\n",
    "    if  not ((i>=\"a\" and i<=\"z\") or  (i>=\"A\" and i<=\"Z\")) and i>=\"0\" and i<=\"9\":\n",
    "        c+=1\n",
    "print(c)"
   ]
  },
  {
   "cell_type": "code",
   "execution_count": 22,
   "metadata": {},
   "outputs": [
    {
     "name": "stdout",
     "output_type": "stream",
     "text": [
      "12\n"
     ]
    }
   ],
   "source": [
    "st='hello@!ADGF##$%123>?>?>'\n",
    "c=0\n",
    "for i in st:\n",
    "    if   (i>=\"a\" and i<=\"z\") or  (i>=\"A\" and i<=\"Z\") or i>=\"0\" and i<=\"9\":\n",
    "        c+=1\n",
    "print(c)"
   ]
  },
  {
   "cell_type": "code",
   "execution_count": 23,
   "metadata": {},
   "outputs": [
    {
     "name": "stdout",
     "output_type": "stream",
     "text": [
      "7\n"
     ]
    }
   ],
   "source": [
    "st='hello@!ADGF##$%123>?>?>'\n",
    "c=0\n",
    "for i in st:\n",
    "    if   ord(i)%2==0 and  (i>=\"a\" and i<=\"z\") or  (i>=\"A\" and i<=\"Z\"):\n",
    "        c+=1\n",
    "print(c)"
   ]
  },
  {
   "cell_type": "code",
   "execution_count": 24,
   "metadata": {},
   "outputs": [
    {
     "name": "stdout",
     "output_type": "stream",
     "text": [
      "7\n"
     ]
    }
   ],
   "source": [
    "st=input()\n",
    "c=0\n",
    "for i in st:\n",
    "    if ord(i)%2==0:\n",
    "        c+=1\n",
    "print(c)\n"
   ]
  },
  {
   "cell_type": "code",
   "execution_count": 1,
   "metadata": {},
   "outputs": [
    {
     "name": "stdout",
     "output_type": "stream",
     "text": [
      " Python\n"
     ]
    }
   ],
   "source": [
    "st=\"Python\"\n",
    "res=\" \"\n",
    "for i in st:\n",
    "    res=res+i\n",
    "print(res)"
   ]
  },
  {
   "cell_type": "code",
   "execution_count": 2,
   "metadata": {},
   "outputs": [
    {
     "name": "stdout",
     "output_type": "stream",
     "text": [
      " PTON\n"
     ]
    }
   ],
   "source": [
    "st=\"PyThON\"\n",
    "res=\" \"\n",
    "for i in st:\n",
    "    if i>='A' and i<='Z':\n",
    "        res=res+i\n",
    "print(res)"
   ]
  },
  {
   "cell_type": "code",
   "execution_count": 3,
   "metadata": {},
   "outputs": [
    {
     "name": "stdout",
     "output_type": "stream",
     "text": [
      " PyThON1234\n"
     ]
    }
   ],
   "source": [
    "st=\"PyThON@1234\"\n",
    "res=\" \"\n",
    "for i in st:\n",
    "    if   (i>=\"a\" and i<=\"z\") or  (i>=\"A\" and i<=\"Z\") or i>=\"0\" and i<=\"9\":\n",
    "        res=res+i\n",
    "print(res)"
   ]
  },
  {
   "cell_type": "code",
   "execution_count": 4,
   "metadata": {},
   "outputs": [
    {
     "name": "stdout",
     "output_type": "stream",
     "text": [
      " pytho\n"
     ]
    }
   ],
   "source": [
    "st=\"python@1234\"\n",
    "res=\" \"\n",
    "i=0\n",
    "m=len(st)//2\n",
    "while i<m:\n",
    "    ch=st[i]\n",
    "    res=res+ch\n",
    "    i+=1\n",
    "print(res)"
   ]
  },
  {
   "cell_type": "code",
   "execution_count": 5,
   "metadata": {},
   "outputs": [
    {
     "name": "stdout",
     "output_type": "stream",
     "text": [
      "nohtyp\n"
     ]
    }
   ],
   "source": [
    "st=\"python\"\n",
    "res=''\n",
    "for i in st:\n",
    "    res=res+i\n",
    "print(res[::-1])"
   ]
  },
  {
   "cell_type": "code",
   "execution_count": 6,
   "metadata": {},
   "outputs": [
    {
     "name": "stdout",
     "output_type": "stream",
     "text": [
      "True\n",
      "False\n",
      "False\n",
      "True\n",
      "True\n",
      "False\n",
      "False\n",
      "False\n",
      "True\n",
      "False\n",
      "True\n",
      "True\n",
      "False\n",
      "False\n",
      "True\n",
      "False\n",
      "True\n",
      "True\n",
      "True\n",
      "False\n",
      "False\n",
      "True\n",
      "True\n",
      "False\n",
      "False\n",
      "False\n",
      "True\n",
      "False\n",
      "True\n",
      "True\n",
      "True\n",
      "False\n",
      "False\n",
      "True\n",
      "True\n",
      "False\n",
      "False\n",
      "True\n",
      "False\n",
      "True\n",
      "False\n",
      "True\n"
     ]
    }
   ],
   "source": [
    "st=\"aabccdda\"\n",
    "i=0\n",
    "while i<len(st)-1:\n",
    "    ch=st[i]\n",
    "    ch1=st[i+1]\n",
    "    print(ch==ch1)\n",
    "    print(ch>ch1)\n",
    "    print(ch<ch1)\n",
    "    print(ch>=ch1)\n",
    "    print(ch<=ch1)\n",
    "    print(ch!=ch1)\n",
    "    i+=1\n"
   ]
  },
  {
   "cell_type": "code",
   "execution_count": 8,
   "metadata": {},
   "outputs": [
    {
     "name": "stdout",
     "output_type": "stream",
     "text": [
      "o\n"
     ]
    }
   ],
   "source": [
    "st=input()\n",
    "i=0\n",
    "while i<len(st)-1:\n",
    "    ch=st[i]\n",
    "    ch1=st[i+1]\n",
    "    if ch == ch1:\n",
    "        print(ch)\n",
    "    i+=1"
   ]
  },
  {
   "cell_type": "code",
   "execution_count": 11,
   "metadata": {},
   "outputs": [
    {
     "name": "stdout",
     "output_type": "stream",
     "text": [
      "m\n",
      "t\n"
     ]
    }
   ],
   "source": [
    "st=input()\n",
    "i=0\n",
    "while i<len(st)-1:\n",
    "    ch=st[i]\n",
    "    ch1=st[i+1]\n",
    "    if ch > ch1:\n",
    "        print(ch)\n",
    "    i+=1"
   ]
  },
  {
   "cell_type": "code",
   "execution_count": 13,
   "metadata": {},
   "outputs": [
    {
     "name": "stdout",
     "output_type": "stream",
     "text": [
      "a3b1c2d1\n"
     ]
    }
   ],
   "source": [
    "st=\"aaabccd\"\n",
    "i=0\n",
    "c=1\n",
    "res=''\n",
    "while i<len(st)-1:\n",
    "    ch=st[i]\n",
    "    ch1=st[i+1]\n",
    "    if ch!=ch1:\n",
    "        res+=ch+str(c)\n",
    "        c=1\n",
    "    else:\n",
    "        c+=1\n",
    "    i+=1\n",
    "res+=st[-1]+str(c)\n",
    "print(res)"
   ]
  },
  {
   "cell_type": "code",
   "execution_count": 15,
   "metadata": {},
   "outputs": [
    {
     "name": "stdout",
     "output_type": "stream",
     "text": [
      "aaabccd\n"
     ]
    }
   ],
   "source": [
    "st=\"a3b1c2d1\"\n",
    "i=0\n",
    "res=\"\"\n",
    "while i<len(st)-1:\n",
    "    res+=st[i]*int(st[i+1])\n",
    "    i+=2\n",
    "print(res)"
   ]
  },
  {
   "cell_type": "code",
   "execution_count": 16,
   "metadata": {},
   "outputs": [
    {
     "name": "stdout",
     "output_type": "stream",
     "text": [
      "aaabccdeeeeefffffff\n"
     ]
    }
   ],
   "source": [
    "st=\"a3b1c2d1e5f7\"\n",
    "i=0\n",
    "res=\"\"\n",
    "while i<len(st)-1:\n",
    "    res+=st[i]*int(st[i+1])\n",
    "    i+=2\n",
    "print(res)"
   ]
  },
  {
   "cell_type": "code",
   "execution_count": 13,
   "metadata": {},
   "outputs": [
    {
     "name": "stdout",
     "output_type": "stream",
     "text": [
      "abbcccd\n"
     ]
    }
   ],
   "source": [
    "st='ab2c3d'\n",
    "i=0\n",
    "res=''\n",
    "while i < len(st)-1:\n",
    "    ch=st[i]\n",
    "    ch1=st[i+1]\n",
    "\n",
    "    if  ch>=\"a\" and ch<=\"z\" and ch1 >='0' and ch1<='9':\n",
    "        res+=ch*int(ch1)\n",
    "    elif ch>=\"a\" and ch<=\"z\" and ch1>=\"a\" and ch1<=\"z\":\n",
    "        res+=ch\n",
    "    i+=1\n",
    "res+=st[-1]\n",
    "print(res)"
   ]
  },
  {
   "cell_type": "code",
   "execution_count": 29,
   "metadata": {},
   "outputs": [
    {
     "name": "stdout",
     "output_type": "stream",
     "text": [
      "abbcccdedd\n"
     ]
    }
   ],
   "source": [
    "st='ab2c3ded2'\n",
    "i=0\n",
    "res=''\n",
    "while i < len(st)-1:\n",
    "    ch=st[i]\n",
    "    ch1=st[i+1]\n",
    "\n",
    "    if  ch>=\"a\" and ch<=\"z\" and ch1 >='0' and ch1<='9':\n",
    "        res+=ch*int(ch1)\n",
    "    elif ch>=\"a\" and ch<=\"z\" and ch1>=\"a\" and ch1<=\"z\":\n",
    "        res+=ch\n",
    "    i+=1\n",
    "if st[-1]>='a' and st[-1]<='z':\n",
    "    res+=st[-1]\n",
    "\n",
    "print(res)"
   ]
  },
  {
   "cell_type": "code",
   "execution_count": 30,
   "metadata": {},
   "outputs": [
    {
     "name": "stdout",
     "output_type": "stream",
     "text": [
      "no of alphbets: 13\n",
      "no of digits: 6\n",
      "no of special characters: 5\n"
     ]
    }
   ],
   "source": [
    "st=input()\n",
    "c1=0\n",
    "c2=0\n",
    "c3=0\n",
    "for i in st:\n",
    "    if (i>=\"a\" and i<=\"z\") or  (i>=\"A\" and i<=\"Z\") :\n",
    "        c1+=1\n",
    "    elif i>=\"0\" and i<=\"9\":\n",
    "        c2+=1\n",
    "    else:\n",
    "        c3+=1\n",
    "print('no of alphbets:',c1)\n",
    "print('no of digits:',c2)\n",
    "print('no of special characters:',c3)"
   ]
  },
  {
   "cell_type": "code",
   "execution_count": 31,
   "metadata": {},
   "outputs": [
    {
     "name": "stdout",
     "output_type": "stream",
     "text": [
      "25\n"
     ]
    }
   ],
   "source": [
    "st=input()\n",
    "s=0\n",
    "for i in st:\n",
    "    if i>='0' and i<='9':\n",
    "        s+=int(i)\n",
    "    \n",
    "print(s)"
   ]
  },
  {
   "cell_type": "code",
   "execution_count": 66,
   "metadata": {},
   "outputs": [
    {
     "name": "stdout",
     "output_type": "stream",
     "text": [
      "9\n"
     ]
    }
   ],
   "source": [
    "st='''  Hiii how are you \n",
    "      hope your doing well  .\n",
    "      '''\n",
    "c=0\n",
    "i=1\n",
    "while i<len(st):\n",
    "    ch=st[i-1]\n",
    "    ch1=st[i]\n",
    "    if ch!=' '  and  ch1==' ':\n",
    "        c+=1\n",
    "    i+=1\n",
    "if st[0]==' ':\n",
    "    c-=1\n",
    "    \n",
    "print(c)"
   ]
  },
  {
   "cell_type": "code",
   "execution_count": 61,
   "metadata": {},
   "outputs": [
    {
     "name": "stdout",
     "output_type": "stream",
     "text": [
      "4\n"
     ]
    }
   ],
   "source": [
    "st=\" hello how are you \"\n",
    "c=0\n",
    "i=1\n",
    "while i<len(st):\n",
    "    ch=st[i-1]\n",
    "    ch1=st[i]\n",
    "    if ch!=''  and  ch1==' ':\n",
    "        c+=1\n",
    "    i+=1\n",
    "if st[0]=='':\n",
    "    c-=1\n",
    "print(c)"
   ]
  },
  {
   "cell_type": "code",
   "execution_count": 86,
   "metadata": {},
   "outputs": [
    {
     "name": "stdout",
     "output_type": "stream",
     "text": [
      "mahalakshmi\n",
      "a\n",
      "first occurence is at index: 1\n"
     ]
    }
   ],
   "source": [
    "st=input()\n",
    "ch=input()\n",
    "print(st)\n",
    "print(ch)\n",
    "i=0\n",
    "c=0\n",
    "while i<len(st):\n",
    "    \n",
    "    if st[i]==ch:\n",
    "        c+=1\n",
    "        if c<=1:\n",
    "            print(\"first occurence is at index:\" ,i)\n",
    "    i+=1\n",
    "    \n",
    "    "
   ]
  },
  {
   "cell_type": "code",
   "execution_count": 84,
   "metadata": {},
   "outputs": [
    {
     "name": "stdout",
     "output_type": "stream",
     "text": [
      "schoool\n",
      "o\n",
      "last occurence: 5\n"
     ]
    }
   ],
   "source": [
    "st=input()\n",
    "ch=input()\n",
    "print(st)\n",
    "print(ch)\n",
    "i=len(st)-1\n",
    "c=0\n",
    "while i >= 0:\n",
    "    if st[i]==ch:\n",
    "        c+=1\n",
    "        if c<=1:\n",
    "            print(\"last occurence is at index:\",i)\n",
    "    i-=1\n",
    "        "
   ]
  },
  {
   "cell_type": "code",
   "execution_count": 91,
   "metadata": {},
   "outputs": [
    {
     "name": "stdout",
     "output_type": "stream",
     "text": [
      "mahalakshmi\n",
      "a\n",
      "not first occurence is at index: 3\n",
      "not first occurence is at index: 5\n"
     ]
    }
   ],
   "source": [
    "st=input()\n",
    "ch=input()\n",
    "print(st)\n",
    "print(ch)\n",
    "i=0\n",
    "c=0\n",
    "while i<len(st):\n",
    "    \n",
    "    if st[i]==ch:\n",
    "        c+=1\n",
    "        if c!=1:\n",
    "            print(\"not first occurence is at index:\" ,i)\n",
    "    i+=1"
   ]
  },
  {
   "cell_type": "code",
   "execution_count": 92,
   "metadata": {},
   "outputs": [
    {
     "name": "stdout",
     "output_type": "stream",
     "text": [
      "bbbbkkkkmmmnoybdlkjhg\n",
      "b\n",
      " not last occurence is at index: 3\n",
      " not last occurence is at index: 2\n",
      " not last occurence is at index: 1\n",
      " not last occurence is at index: 0\n"
     ]
    }
   ],
   "source": [
    "st=input()\n",
    "ch=input()\n",
    "print(st)\n",
    "print(ch)\n",
    "i=len(st)-1\n",
    "c=0\n",
    "while i >= 0:\n",
    "    if st[i]==ch:\n",
    "        c+=1\n",
    "        if c!=1:\n",
    "            print(\" not last occurence is at index:\",i)\n",
    "    i-=1"
   ]
  },
  {
   "cell_type": "code",
   "execution_count": 94,
   "metadata": {},
   "outputs": [
    {
     "name": "stdout",
     "output_type": "stream",
     "text": [
      "mmahalakshm\n",
      "m\n",
      "mahalakshm\n"
     ]
    }
   ],
   "source": [
    "st=input()\n",
    "ch=input()\n",
    "print(st)\n",
    "print(ch)\n",
    "i=0\n",
    "c=0\n",
    "while i<len(st):\n",
    "    \n",
    "    if st[i]==ch:\n",
    "        c+=1\n",
    "        if c<=1:\n",
    "            res=st[0:i]+st[i+1:]\n",
    "    i+=1\n",
    "print(res)"
   ]
  },
  {
   "cell_type": "code",
   "execution_count": 95,
   "metadata": {},
   "outputs": [
    {
     "name": "stdout",
     "output_type": "stream",
     "text": [
      "mahalakshmi\n",
      "a\n",
      "mahalkshmi\n"
     ]
    }
   ],
   "source": [
    "st=input()\n",
    "ch=input()\n",
    "print(st)\n",
    "print(ch)\n",
    "i=len(st)-1\n",
    "c=0\n",
    "while i >= 0:\n",
    "    if st[i]==ch:\n",
    "        c+=1\n",
    "        if c<=1:\n",
    "            res=st[0:i]+st[i+1:]\n",
    "    i-=1\n",
    "print(res)"
   ]
  },
  {
   "cell_type": "code",
   "execution_count": 100,
   "metadata": {},
   "outputs": [
    {
     "name": "stdout",
     "output_type": "stream",
     "text": [
      "ramanujan\n",
      "a\n",
      "count of specific character :  3\n"
     ]
    }
   ],
   "source": [
    "\n",
    "st=input()\n",
    "ch=input()\n",
    "print(st)\n",
    "print(ch)\n",
    "i=0\n",
    "c=0\n",
    "while i<len(st):\n",
    "    \n",
    "    if st[i]==ch:\n",
    "        c+=1\n",
    "        \n",
    "    i+=1\n",
    "print(\"count of specific character : \",c)"
   ]
  },
  {
   "cell_type": "code",
   "execution_count": 123,
   "metadata": {},
   "outputs": [
    {
     "name": "stdout",
     "output_type": "stream",
     "text": [
      "school\n",
      "o\n"
     ]
    }
   ],
   "source": [
    "st=input()\n",
    "print(st)\n",
    "st1=st\n",
    "max_c=0\n",
    "max_occured=st[0]\n",
    "i=0\n",
    "while i<len(st):\n",
    "    ch=st[i]\n",
    "    st2=st1\n",
    "    j=0\n",
    "    c=0\n",
    "    while j<len(st2):\n",
    "        if ch==st2[j]:\n",
    "            c+=1\n",
    "        j+=1\n",
    "    if c>max_c:\n",
    "        max_c=c\n",
    "        max_occured=ch\n",
    "        \n",
    "    i+=1\n",
    "print(max_occured)\n"
   ]
  },
  {
   "cell_type": "code",
   "execution_count": 1,
   "metadata": {},
   "outputs": [
    {
     "name": "stdout",
     "output_type": "stream",
     "text": [
      "qwertyuioppoiuytrewqs\n",
      "s\n"
     ]
    }
   ],
   "source": [
    "st=input()\n",
    "print(st)\n",
    "st1=st\n",
    "min_c=len(st)\n",
    "min_occured=st[0]\n",
    "i=0\n",
    "while i<len(st):\n",
    "    ch=st[i]\n",
    "    st2=st1\n",
    "    j=0\n",
    "    c=0\n",
    "    while j<len(st2):\n",
    "        if ch==st2[j]:\n",
    "            c+=1\n",
    "        j+=1\n",
    "    if c<min_c:\n",
    "        min_c=c\n",
    "        min_occured=ch\n",
    "        \n",
    "    i+=1\n",
    "print(min_occured)\n"
   ]
  },
  {
   "cell_type": "code",
   "execution_count": 3,
   "metadata": {},
   "outputs": [
    {
     "name": "stdout",
     "output_type": "stream",
     "text": [
      "eoo123aii\n"
     ]
    }
   ],
   "source": [
    "#121\n",
    "ip=\"hello world 123 haii\"\n",
    "res=\"\"\n",
    "for i in ip:\n",
    "    if i>='0' and i<='9' or i in 'aeiou':\n",
    "        res+=i\n",
    "print(res)\n"
   ]
  },
  {
   "cell_type": "code",
   "execution_count": 4,
   "metadata": {},
   "outputs": [
    {
     "name": "stdout",
     "output_type": "stream",
     "text": [
      "eo o 123 aii\n"
     ]
    }
   ],
   "source": [
    "#122\n",
    "ip=\"hello world 123 haii\"\n",
    "res=\"\"\n",
    "for i in ip:\n",
    "    if i>='0' and i<='9' or i in 'aeiou' or i==' ':\n",
    "        res+=i\n",
    "print(res)\n",
    "        "
   ]
  },
  {
   "cell_type": "code",
   "execution_count": 5,
   "metadata": {},
   "outputs": [
    {
     "name": "stdout",
     "output_type": "stream",
     "text": [
      "eo o  aii\n"
     ]
    }
   ],
   "source": [
    "#123\n",
    "ip=\"hello world 123 haii\"\n",
    "res=\"\"\n",
    "for i in ip:\n",
    "    if  i in 'aeiou' or i==' ':\n",
    "        res+=i\n",
    "print(res)"
   ]
  },
  {
   "cell_type": "code",
   "execution_count": 1,
   "metadata": {},
   "outputs": [
    {
     "name": "stdout",
     "output_type": "stream",
     "text": [
      "hll world  haii\n"
     ]
    }
   ],
   "source": [
    "#124\n",
    "ip=\"hello world 123 haii\"\n",
    "res=\"\"\n",
    "c=0\n",
    "for i in ip:\n",
    "    if i in \"aeiou\" and c<2 or (i>='0' and i<=\"9\"):\n",
    "        c+=1\n",
    "    else:\n",
    "        res+=i\n",
    "\n",
    "        \n",
    "print(res)"
   ]
  },
  {
   "cell_type": "code",
   "execution_count": 19,
   "metadata": {},
   "outputs": [
    {
     "name": "stdout",
     "output_type": "stream",
     "text": [
      " hll wrld\n",
      " eoo\n"
     ]
    }
   ],
   "source": [
    "#125\n",
    "ip=\"hello world\"\n",
    "res1=\" \"\n",
    "res2=\" \"\n",
    "for i in ip:\n",
    "    if i in 'aeiou':\n",
    "        res2+=i\n",
    "    else:\n",
    "        res1+=i\n",
    "print(res1)\n",
    "print(res2)"
   ]
  },
  {
   "cell_type": "code",
   "execution_count": 20,
   "metadata": {},
   "outputs": [
    {
     "name": "stdout",
     "output_type": "stream",
     "text": [
      " hll wrld\n",
      " eoo\n",
      " 12344\n"
     ]
    }
   ],
   "source": [
    "#125\n",
    "ip=\"12hello3 4world4\"\n",
    "res1=\" \"\n",
    "res2=\" \"\n",
    "res3=\" \"\n",
    "for i in ip:\n",
    "    if i in 'aeiou':\n",
    "        res2+=i\n",
    "    elif i>='0' and i<='9':\n",
    "        res3+=i\n",
    "    else:\n",
    "        res1+=i\n",
    "print(res1)\n",
    "print(res2)\n",
    "print(res3)"
   ]
  },
  {
   "cell_type": "code",
   "execution_count": 28,
   "metadata": {},
   "outputs": [
    {
     "name": "stdout",
     "output_type": "stream",
     "text": [
      " hllwrld\n",
      " eoo\n",
      " 12344\n",
      " (*$ $#*)\n"
     ]
    }
   ],
   "source": [
    "\n",
    "#127\n",
    "ip=\"(*12hello3$ $4#world4*)\"\n",
    "res1=\" \"\n",
    "res2=\" \"\n",
    "res3=\" \"\n",
    "res4=\" \"\n",
    "for i in ip:\n",
    "    if i>='a' and i<='z' and i not in 'aeiou':\n",
    "        res1+=i\n",
    "    elif  i in 'aeiou':\n",
    "        res2+=i\n",
    "    elif i>='0' and i<='9':\n",
    "        res3+=i\n",
    "    else:\n",
    "        res4+=i\n",
    "print(res1)\n",
    "print(res2)\n",
    "print(res3)\n",
    "print(res4)"
   ]
  },
  {
   "cell_type": "code",
   "execution_count": 56,
   "metadata": {},
   "outputs": [
    {
     "name": "stdout",
     "output_type": "stream",
     "text": [
      ")*#$ $*(,44321,ooe,dlrwllh\n"
     ]
    }
   ],
   "source": [
    "#128\n",
    "ip=\"(*12hello3$ $4#world4*)\"\n",
    "res1=\"\"\n",
    "res2=\"\"\n",
    "res3=\"\"\n",
    "res4=\"\"\n",
    "for i in ip:\n",
    "    if i>='a' and i<='z' and i not in 'aeiou':\n",
    "        res1+=i\n",
    "    elif  i in 'aeiou':\n",
    "        res2+=i\n",
    "    elif i>='0' and i<='9':\n",
    "        res3+=i\n",
    "    else:\n",
    "        res4+=i\n",
    "print(res4[::-1],res3[::-1],res2[::-1],res1[::-1],sep=',')"
   ]
  },
  {
   "cell_type": "code",
   "execution_count": 59,
   "metadata": {},
   "outputs": [
    {
     "name": "stdout",
     "output_type": "stream",
     "text": [
      "hllwrld,eoo,12344,(*$ $#*)\n"
     ]
    }
   ],
   "source": [
    "#129\n",
    "ip=\"(*12hello3$ $4#world4*)\"\n",
    "res1=\"\"\n",
    "res2=\"\"\n",
    "res3=\"\"\n",
    "res4=\"\"\n",
    "for i in ip:\n",
    "    if i>='a' and i<='z' and i not in 'aeiou':\n",
    "        res1+=i\n",
    "    elif  i in 'aeiou':\n",
    "        res2+=i\n",
    "    elif i>='0' and i<='9':\n",
    "        res3+=i\n",
    "    else:\n",
    "        res4+=i\n",
    "print(res1,res2,res3,res4,sep=',')"
   ]
  },
  {
   "cell_type": "code",
   "execution_count": 63,
   "metadata": {},
   "outputs": [
    {
     "name": "stdout",
     "output_type": "stream",
     "text": [
      "hllwrld,)*#$ $*(,eoo,44321\n"
     ]
    }
   ],
   "source": [
    "#130\n",
    "ip=\"(*12hello3$ $4#world4*)\"\n",
    "res1=\"\"\n",
    "res2=\"\"\n",
    "res3=\"\"\n",
    "res4=\"\"\n",
    "\n",
    "for i in ip:\n",
    "    if i>='a' and i<='z' and i not in 'aeiou':\n",
    "        res1+=i\n",
    "    elif  i in 'aeiou':\n",
    "        res2+=i\n",
    "    elif i>='0' and i<='9':\n",
    "        res3+=i\n",
    "    else:\n",
    "        res4+=i\n",
    "print(res1,res4[::-1],res2,res3[::-1],sep=',')"
   ]
  },
  {
   "cell_type": "code",
   "execution_count": 69,
   "metadata": {},
   "outputs": [
    {
     "name": "stdout",
     "output_type": "stream",
     "text": [
      ")*#$ $*(,44321,ooe,dlrwllh\n"
     ]
    }
   ],
   "source": [
    "#131\n",
    "ip=\"(*12hello3$ $4#world4*)\"\n",
    "res1=\"\"\n",
    "res2=\"\"\n",
    "res3=\"\"\n",
    "res4=\"\"\n",
    "\n",
    "for i in ip:\n",
    "    if i>='a' and i<='z' and i not in 'aeiou':\n",
    "        res1+=i\n",
    "    elif  i in 'aeiou':\n",
    "        res2+=i\n",
    "    elif i>='0' and i<='9':\n",
    "        res3+=i\n",
    "    else:\n",
    "        res4+=i\n",
    "print(res4[::-1],res3[::-1],res2[::-1],res1[::-1],sep=',')"
   ]
  },
  {
   "cell_type": "code",
   "execution_count": 70,
   "metadata": {},
   "outputs": [
    {
     "name": "stdout",
     "output_type": "stream",
     "text": [
      "dlrwllh )*#$ $*( ooe 44321\n"
     ]
    }
   ],
   "source": [
    "#132\n",
    "ip=\"(*12hello3$ $4#world4*)\"\n",
    "res1=\"\"\n",
    "res2=\"\"\n",
    "res3=\"\"\n",
    "res4=\"\"\n",
    "\n",
    "for i in ip:\n",
    "    if i>='a' and i<='z' and i not in 'aeiou':\n",
    "        res1+=i\n",
    "    elif  i in 'aeiou':\n",
    "        res2+=i\n",
    "    elif i>='0' and i<='9':\n",
    "        res3+=i\n",
    "    else:\n",
    "        res4+=i\n",
    "print(res1[::-1],res4[::-1],res2[::-1],res3[::-1])"
   ]
  },
  {
   "cell_type": "code",
   "execution_count": 2,
   "metadata": {},
   "outputs": [
    {
     "name": "stdout",
     "output_type": "stream",
     "text": [
      "h$ll*w*rld\n"
     ]
    }
   ],
   "source": [
    "#133\n",
    "ip='HELLOWORLD'\n",
    "res=''\n",
    "for i in ip:\n",
    "    if i>='A' and i<='Z' and i not in \"AEIOU\":\n",
    "        i=chr(ord(i)+32)\n",
    "        res+=i\n",
    "    elif i=='E':\n",
    "        res+=\"$\"\n",
    "    elif i=='O':\n",
    "        res+=\"*\"    \n",
    "print(res)    "
   ]
  },
  {
   "cell_type": "code",
   "execution_count": 9,
   "metadata": {},
   "outputs": [
    {
     "name": "stdout",
     "output_type": "stream",
     "text": [
      "hllwrld21\n"
     ]
    }
   ],
   "source": [
    "#134\n",
    "ip='123HELLO WORLD456'\n",
    "res=''\n",
    "for i in ip:\n",
    "    if i>='A' and i<='Z' and i not in \"AEIOU\" and not(i>='0' and i<='9'):\n",
    "        i=chr(ord(i)+32)\n",
    "        res+=i\n",
    "res+=ip[1]+ip[0]\n",
    "print(res)"
   ]
  },
  {
   "cell_type": "code",
   "execution_count": 13,
   "metadata": {},
   "outputs": [
    {
     "name": "stdout",
     "output_type": "stream",
     "text": [
      "123hEllO wOrld456\n"
     ]
    }
   ],
   "source": [
    "#135\n",
    "ip='123HELLO WORLD456'\n",
    "res=''\n",
    "for i in ip:\n",
    "    if i>='A' and i<='Z' and i not in \"AEIOU\" and not(i>='0' and i<='9') :\n",
    "        i=chr(ord(i)+32)\n",
    "        res+=i\n",
    "    elif i in \"AEIOU\" or i==' ' :\n",
    "        res+=i\n",
    "    elif i>='0' and i<='9':\n",
    "        res+=i\n",
    "print(res)"
   ]
  },
  {
   "cell_type": "code",
   "execution_count": 19,
   "metadata": {},
   "outputs": [
    {
     "name": "stdout",
     "output_type": "stream",
     "text": [
      "321hEllO wOrld654\n"
     ]
    }
   ],
   "source": [
    "#136\n",
    "ip='123HELLO WORLD456'\n",
    "res=''\n",
    "res1=''\n",
    "res2=''\n",
    "for i in ip:\n",
    "    if i>='A' and i<='Z' and i not in \"AEIOU\" and not(i>='0' and i<='9') :\n",
    "        i=chr(ord(i)+32)\n",
    "        res+=i\n",
    "    elif i in \"AEIOU\" or i==' ' :\n",
    "        res+=i\n",
    "    elif i>='0' and i<='3':\n",
    "        res1+=i\n",
    "    elif i>='4' and i <='6':\n",
    "        res2+=i\n",
    "      \n",
    "print(res1[::-1]+res+res2[::-1])"
   ]
  },
  {
   "cell_type": "code",
   "execution_count": 20,
   "metadata": {},
   "outputs": [
    {
     "name": "stdout",
     "output_type": "stream",
     "text": [
      "321*E**O *O***654\n"
     ]
    }
   ],
   "source": [
    "#137\n",
    "ip='123HELLO WORLD456'\n",
    "res=''\n",
    "res1=''\n",
    "res2=''\n",
    "for i in ip:\n",
    "    if i>='A' and i<='Z' and i not in \"AEIOU\" and not(i>='0' and i<='9') :\n",
    "        i=chr(ord(i)+32)\n",
    "        res+='*'\n",
    "    elif i in \"AEIOU\" or i==' ' :\n",
    "        res+=i\n",
    "    elif i>='0' and i<='3':\n",
    "        res1+=i\n",
    "    elif i>='4' and i <='6':\n",
    "        res2+=i\n",
    "      \n",
    "print(res1[::-1]+res+res2[::-1])"
   ]
  },
  {
   "cell_type": "code",
   "execution_count": 21,
   "metadata": {},
   "outputs": [
    {
     "name": "stdout",
     "output_type": "stream",
     "text": [
      "123*E**O *O***456\n"
     ]
    }
   ],
   "source": [
    "#138\n",
    "ip='123HELLO WORLD456'\n",
    "res=''\n",
    "res1=''\n",
    "res2=''\n",
    "for i in ip:\n",
    "    if i>='A' and i<='Z' and i not in \"AEIOU\" and not(i>='0' and i<='9') :\n",
    "        i=chr(ord(i)+32)\n",
    "        res+='*'\n",
    "    elif i in \"AEIOU\" or i==' ' :\n",
    "        res+=i\n",
    "    elif i>='0' and i<='3':\n",
    "        res1+=i\n",
    "    elif i>='4' and i <='6':\n",
    "        res2+=i\n",
    "      \n",
    "print(res1+res+res2)"
   ]
  },
  {
   "cell_type": "code",
   "execution_count": 22,
   "metadata": {},
   "outputs": [
    {
     "name": "stdout",
     "output_type": "stream",
     "text": [
      "h$ll*w*rld\n"
     ]
    }
   ],
   "source": [
    "#139\n",
    "ip='HELLOWORLD'\n",
    "res=''\n",
    "for i in ip:\n",
    "    if i>='A' and i<='Z' and i not in \"AEIOU\":\n",
    "        i=chr(ord(i)+32)\n",
    "        res+=i\n",
    "    elif i=='E':\n",
    "        res+=\"$\"\n",
    "    elif i=='O':\n",
    "        res+=\"*\"    \n",
    "print(res)    "
   ]
  },
  {
   "cell_type": "code",
   "execution_count": 39,
   "metadata": {},
   "outputs": [
    {
     "name": "stdout",
     "output_type": "stream",
     "text": [
      "axbycz\n"
     ]
    }
   ],
   "source": [
    "#140\n",
    "ip1=\"abc\"\n",
    "ip2='xyz'\n",
    "res=''\n",
    "i=0\n",
    "while i<len(ip1):\n",
    "        res+=ip1[i]+ip2[i]\n",
    "        i+=1\n",
    "print(res)\n"
   ]
  },
  {
   "cell_type": "code",
   "execution_count": 45,
   "metadata": {},
   "outputs": [
    {
     "name": "stdout",
     "output_type": "stream",
     "text": [
      "axbyczw\n"
     ]
    }
   ],
   "source": [
    "#141\n",
    "ip1=\"abc\"\n",
    "ip2='xyzw'\n",
    "res=''\n",
    "i=0\n",
    "while i<len(ip1) or i<len(ip2):\n",
    "    if i<len(ip1):\n",
    "        res+=ip1[i]\n",
    "    if i<len(ip2):\n",
    "        res+=ip2[i]\n",
    "    i+=1\n",
    "\n",
    "print(res)"
   ]
  },
  {
   "cell_type": "code",
   "execution_count": 46,
   "metadata": {},
   "outputs": [
    {
     "name": "stdout",
     "output_type": "stream",
     "text": [
      "axbyczd\n"
     ]
    }
   ],
   "source": [
    "#142\n",
    "ip1=\"abcd\"\n",
    "ip2='xyz'\n",
    "res=''\n",
    "i=0\n",
    "while i<len(ip1) or i<len(ip2):\n",
    "    if i<len(ip1):\n",
    "        res+=ip1[i]\n",
    "    if i<len(ip2):\n",
    "        res+=ip2[i]\n",
    "    i+=1\n",
    "\n",
    "print(res)"
   ]
  },
  {
   "cell_type": "code",
   "execution_count": 47,
   "metadata": {},
   "outputs": [
    {
     "name": "stdout",
     "output_type": "stream",
     "text": [
      "axbyczwop\n"
     ]
    }
   ],
   "source": [
    "#143\n",
    "ip1=\"abc\"\n",
    "ip2='xyzwop'\n",
    "res=''\n",
    "i=0\n",
    "while i<len(ip1) or i<len(ip2):\n",
    "    if i<len(ip1):\n",
    "        res+=ip1[i]\n",
    "    if i<len(ip2):\n",
    "        res+=ip2[i]\n",
    "    i+=1\n",
    "\n",
    "print(res)"
   ]
  },
  {
   "cell_type": "code",
   "execution_count": 56,
   "metadata": {},
   "outputs": [
    {
     "name": "stdout",
     "output_type": "stream",
     "text": [
      "a1b2c3\n"
     ]
    }
   ],
   "source": [
    "#144\n",
    "ip='abc123'\n",
    "ip1=''\n",
    "ip2=''\n",
    "for i in ip:\n",
    "    if i>='a' and i<='z':\n",
    "        ip1+=i\n",
    "    elif i>='0' and i<='9':\n",
    "        ip2+=i\n",
    "res=''\n",
    "i=0\n",
    "while i<len(ip1) or i<len(ip2):\n",
    "    if i<len(ip1):\n",
    "        res+=ip1[i]\n",
    "    if i<len(ip2):\n",
    "        res+=ip2[i]\n",
    "    i+=1\n",
    "\n",
    "print(res)\n",
    "\n"
   ]
  },
  {
   "cell_type": "code",
   "execution_count": 57,
   "metadata": {},
   "outputs": [
    {
     "name": "stdout",
     "output_type": "stream",
     "text": [
      "a1b2c\n"
     ]
    }
   ],
   "source": [
    "#145\n",
    "ip='abc12'\n",
    "ip1=''\n",
    "ip2=''\n",
    "for i in ip:\n",
    "    if i>='a' and i<='z':\n",
    "        ip1+=i\n",
    "    elif i>='0' and i<='9':\n",
    "        ip2+=i\n",
    "res=''\n",
    "i=0\n",
    "while i<len(ip1) or i<len(ip2):\n",
    "    if i<len(ip1):\n",
    "        res+=ip1[i]\n",
    "    if i<len(ip2):\n",
    "        res+=ip2[i]\n",
    "    i+=1\n",
    "\n",
    "print(res)"
   ]
  },
  {
   "cell_type": "code",
   "execution_count": 58,
   "metadata": {},
   "outputs": [
    {
     "name": "stdout",
     "output_type": "stream",
     "text": [
      "a1b2c34\n"
     ]
    }
   ],
   "source": [
    "#146\n",
    "ip='abc1234'\n",
    "ip1=''\n",
    "ip2=''\n",
    "for i in ip:\n",
    "    if i>='a' and i<='z':\n",
    "        ip1+=i\n",
    "    elif i>='0' and i<='9':\n",
    "        ip2+=i\n",
    "res=''\n",
    "i=0\n",
    "while i<len(ip1) or i<len(ip2):\n",
    "    if i<len(ip1):\n",
    "        res+=ip1[i]\n",
    "    if i<len(ip2):\n",
    "        res+=ip2[i]\n",
    "    i+=1\n",
    "\n",
    "print(res)"
   ]
  },
  {
   "cell_type": "code",
   "execution_count": 59,
   "metadata": {},
   "outputs": [
    {
     "name": "stdout",
     "output_type": "stream",
     "text": [
      "a1b2c34\n"
     ]
    }
   ],
   "source": [
    "#147\n",
    "ip='1a2bc34'\n",
    "ip1=''\n",
    "ip2=''\n",
    "for i in ip:\n",
    "    if i>='a' and i<='z':\n",
    "        ip1+=i\n",
    "    elif i>='0' and i<='9':\n",
    "        ip2+=i\n",
    "res=''\n",
    "i=0\n",
    "while i<len(ip1) or i<len(ip2):\n",
    "    if i<len(ip1):\n",
    "        res+=ip1[i]\n",
    "    if i<len(ip2):\n",
    "        res+=ip2[i]\n",
    "    i+=1\n",
    "\n",
    "print(res)"
   ]
  },
  {
   "cell_type": "code",
   "execution_count": 26,
   "metadata": {},
   "outputs": [
    {
     "name": "stdout",
     "output_type": "stream",
     "text": [
      "3\n"
     ]
    }
   ],
   "source": [
    "#148\n",
    "ip='abcdnmpoijkl12yzabcd5'\n",
    "c=0\n",
    "for i in ip:\n",
    "    if i>='0' and i<='9':\n",
    "        c+=1\n",
    "print(c)"
   ]
  },
  {
   "cell_type": "code",
   "execution_count": 30,
   "metadata": {},
   "outputs": [
    {
     "name": "stdout",
     "output_type": "stream",
     "text": [
      "HA1I2I3 HE4LLO5\n"
     ]
    }
   ],
   "source": [
    "#149\n",
    "ip='HAII HELLO'\n",
    "res=''\n",
    "c=0\n",
    "for i in ip:\n",
    "    if i in 'AEIOU':\n",
    "        c+=1\n",
    "        res+=i+str(c)\n",
    "    else:\n",
    "        res+=i\n",
    "print(res)"
   ]
  },
  {
   "cell_type": "code",
   "execution_count": 53,
   "metadata": {},
   "outputs": [
    {
     "name": "stdout",
     "output_type": "stream",
     "text": [
      "H1AII 2H3EL4L5O\n"
     ]
    }
   ],
   "source": [
    "#150\n",
    "ip='HAII HELLO'\n",
    "res=''\n",
    "c=0\n",
    "for i in ip:\n",
    "    if i not in 'AEIOU':\n",
    "        c+=1\n",
    "        res+=i+str(c)\n",
    "    else:\n",
    "        res+=i\n",
    "print(res)"
   ]
  },
  {
   "cell_type": "code",
   "execution_count": 5,
   "metadata": {},
   "outputs": [
    {
     "name": "stdout",
     "output_type": "stream",
     "text": [
      "badcfeg\n"
     ]
    }
   ],
   "source": [
    "st='abcdefg'\n",
    "res=''\n",
    "for i in range (0,len(st)-1,2):\n",
    "    ch=st[i]\n",
    "    ch1=st[i+1]\n",
    "    res+=ch1+ch\n",
    "if len(st)%2==1:\n",
    "    res+=st[-1]\n",
    "print(res)\n",
    "\n",
    "\n",
    "\n",
    "    "
   ]
  },
  {
   "cell_type": "code",
   "execution_count": 6,
   "metadata": {},
   "outputs": [
    {
     "name": "stdout",
     "output_type": "stream",
     "text": [
      "1\n",
      "2\n",
      "3\n"
     ]
    }
   ],
   "source": [
    "i=1\n",
    "while i<=3:\n",
    "    j=1\n",
    "    while j<=3:\n",
    "        print(j)\n",
    "        i+=1\n",
    "        j+=1\n",
    "    i+=1"
   ]
  }
 ],
 "metadata": {
  "kernelspec": {
   "display_name": "Python 3",
   "language": "python",
   "name": "python3"
  },
  "language_info": {
   "codemirror_mode": {
    "name": "ipython",
    "version": 3
   },
   "file_extension": ".py",
   "mimetype": "text/x-python",
   "name": "python",
   "nbconvert_exporter": "python",
   "pygments_lexer": "ipython3",
   "version": "3.12.1"
  }
 },
 "nbformat": 4,
 "nbformat_minor": 2
}
