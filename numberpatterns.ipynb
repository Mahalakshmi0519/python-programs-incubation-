{
 "cells": [
  {
   "cell_type": "code",
   "execution_count": 3,
   "metadata": {},
   "outputs": [
    {
     "name": "stdout",
     "output_type": "stream",
     "text": [
      "1         \n",
      "1 2       \n",
      "1 2 3     \n",
      "1 2 3 4   \n",
      "1 2 3 4 5 \n"
     ]
    }
   ],
   "source": [
    "n=int(input())\n",
    "i=1\n",
    "while i<=n:\n",
    "    j=1\n",
    "    while j<=n:\n",
    "        if i>=j:\n",
    "            print(j,end=\" \")\n",
    "        else:\n",
    "            print(\" \",end=\" \")\n",
    "        j+=1\n",
    "    print()\n",
    "    i+=1"
   ]
  },
  {
   "cell_type": "code",
   "execution_count": 1,
   "metadata": {},
   "outputs": [
    {
     "name": "stdout",
     "output_type": "stream",
     "text": [
      "        5 \n",
      "      4 5 \n",
      "    3 4 5 \n",
      "  2 3 4 5 \n",
      "1 2 3 4 5 \n"
     ]
    }
   ],
   "source": [
    "n=int(input())\n",
    "i=1\n",
    "while i<=n:\n",
    "    j=1\n",
    "    while j<=n:\n",
    "        a=1\n",
    "        if i+j>=n+1:\n",
    "            print(j,end=\" \")\n",
    "        else:\n",
    "            print(\" \",end=\" \")\n",
    "        j+=1\n",
    "        a-=1\n",
    "    print()\n",
    "    i+=1"
   ]
  },
  {
   "cell_type": "code",
   "execution_count": 2,
   "metadata": {},
   "outputs": [
    {
     "name": "stdout",
     "output_type": "stream",
     "text": [
      "1 2 3 4 5 \n",
      "1 2 3 4   \n",
      "1 2 3     \n",
      "1 2       \n",
      "1         \n"
     ]
    }
   ],
   "source": [
    "n=int(input())\n",
    "i=1\n",
    "while i<=n:\n",
    "    j=1\n",
    "    while j<=n:\n",
    "        a=5\n",
    "        if i+j<=n+1:\n",
    "            print(j,end=\" \")\n",
    "        else:\n",
    "            print(\" \",end=\" \")\n",
    "        j+=1\n",
    "        a-=1\n",
    "    print()\n",
    "    i+=1"
   ]
  },
  {
   "cell_type": "code",
   "execution_count": 4,
   "metadata": {},
   "outputs": [
    {
     "name": "stdout",
     "output_type": "stream",
     "text": [
      "        5 \n",
      "      4 5 \n",
      "    3 4 5 \n",
      "  2 3 4 5 \n",
      "1 2 3 4 5 \n"
     ]
    }
   ],
   "source": [
    "n=int(input())\n",
    "i=1\n",
    "while i<=n:\n",
    "    j=1\n",
    "    while j<=n:\n",
    "        a=1\n",
    "        if i+j>=n+1:\n",
    "            print(j,end=\" \")\n",
    "        else:\n",
    "            print(\" \",end=\" \")\n",
    "        j+=1\n",
    "        a+1\n",
    "    print()\n",
    "    i+=1"
   ]
  },
  {
   "cell_type": "code",
   "execution_count": 19,
   "metadata": {},
   "outputs": [
    {
     "name": "stdout",
     "output_type": "stream",
     "text": [
      "5 4 3 2 1 \n",
      "4 3 2 1   \n",
      "3 2 1     \n",
      "2 1       \n",
      "1         \n"
     ]
    }
   ],
   "source": [
    "n=int(input())\n",
    "i=1\n",
    "while i<=n:\n",
    "    j=1\n",
    "    a=n-(i-1)\n",
    "    while j<=n:\n",
    "        if i+j<=n+1:\n",
    "            print(a,end=\" \")\n",
    "        else:\n",
    "            print(\" \",end=\" \")\n",
    "        a-=1\n",
    "        j+=1\n",
    "    print()\n",
    "    i+=1"
   ]
  },
  {
   "cell_type": "code",
   "execution_count": 52,
   "metadata": {},
   "outputs": [
    {
     "name": "stdout",
     "output_type": "stream",
     "text": [
      "5 4 3 2 1 \n",
      "4 3 2 1 \n",
      "3 2 1 \n",
      "2 1 \n",
      "1 \n"
     ]
    }
   ],
   "source": [
    "n=5\n",
    "i=1\n",
    "while i<=n:\n",
    "    j=1\n",
    "    a=n-(i-1)\n",
    "    while j<=n:\n",
    "        if a>=1:\n",
    "            if i+j<=n+1:\n",
    "                print(a,end=\" \")\n",
    "            else:\n",
    "                print(\" \",end=\" \")\n",
    "        a-=1\n",
    "        j+=1\n",
    "    print()\n",
    "    i+=1"
   ]
  },
  {
   "cell_type": "code",
   "execution_count": 62,
   "metadata": {},
   "outputs": [
    {
     "name": "stdout",
     "output_type": "stream",
     "text": [
      "A         \n",
      "A B       \n",
      "A B C     \n",
      "A B C D   \n",
      "A B C D E \n"
     ]
    }
   ],
   "source": [
    "def alpabetpattern(n):\n",
    "    i=1\n",
    "    while i<=n:\n",
    "        j=1\n",
    "        ascii=65\n",
    "        while j<=n:\n",
    "        \n",
    "            if i>=j:\n",
    "                print(chr(ascii),end=\" \")\n",
    "            else:\n",
    "                print(\" \",end=\" \")\n",
    "            ascii+=1\n",
    "            j+=1\n",
    "        print()\n",
    "        i+=1\n",
    "alpabetpattern(5)"
   ]
  },
  {
   "cell_type": "code",
   "execution_count": 69,
   "metadata": {},
   "outputs": [
    {
     "name": "stdout",
     "output_type": "stream",
     "text": [
      "A B C D E \n",
      "B C D E   \n",
      "C D E     \n",
      "D E       \n",
      "E         \n"
     ]
    }
   ],
   "source": [
    "def alpabetpattern(n):\n",
    "    i=1\n",
    "    while i<=n:\n",
    "        j=1\n",
    "        ascii=65+(i-1)\n",
    "        while j<=n:\n",
    "            if i+j<=n+1:\n",
    "                print(chr(ascii),end=\" \")\n",
    "            else:\n",
    "                print(\" \",end=\" \")\n",
    "            ascii+=1\n",
    "            j+=1\n",
    "        print()\n",
    "        i+=1\n",
    "alpabetpattern(5)"
   ]
  },
  {
   "cell_type": "code",
   "execution_count": 67,
   "metadata": {},
   "outputs": [
    {
     "name": "stdout",
     "output_type": "stream",
     "text": [
      "        E \n",
      "      D E \n",
      "    C D E \n",
      "  B C D E \n",
      "A B C D E \n"
     ]
    }
   ],
   "source": [
    "def alpabetpattern(n):\n",
    "    i=1\n",
    "    while i<=n:\n",
    "        j=1\n",
    "        ascii=65\n",
    "        while j<=n:\n",
    "            if i+j>=n+1:\n",
    "                print(chr(ascii),end=\" \")\n",
    "            else:\n",
    "                print(\" \",end=\" \")\n",
    "            ascii+=1\n",
    "            j+=1\n",
    "        print()\n",
    "        i+=1\n",
    "alpabetpattern(5)"
   ]
  }
 ],
 "metadata": {
  "kernelspec": {
   "display_name": "Python 3",
   "language": "python",
   "name": "python3"
  },
  "language_info": {
   "codemirror_mode": {
    "name": "ipython",
    "version": 3
   },
   "file_extension": ".py",
   "mimetype": "text/x-python",
   "name": "python",
   "nbconvert_exporter": "python",
   "pygments_lexer": "ipython3",
   "version": "3.12.1"
  }
 },
 "nbformat": 4,
 "nbformat_minor": 2
}
