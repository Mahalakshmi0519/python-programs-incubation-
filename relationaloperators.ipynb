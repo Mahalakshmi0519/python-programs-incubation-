{
 "cells": [
  {
   "cell_type": "code",
   "execution_count": 2,
   "metadata": {},
   "outputs": [
    {
     "name": "stdout",
     "output_type": "stream",
     "text": [
      "False\n",
      "True\n",
      "True\n",
      "False\n"
     ]
    },
    {
     "ename": "TypeError",
     "evalue": "'>' not supported between instances of 'int' and 'str'",
     "output_type": "error",
     "traceback": [
      "\u001b[1;31m---------------------------------------------------------------------------\u001b[0m",
      "\u001b[1;31mTypeError\u001b[0m                                 Traceback (most recent call last)",
      "Cell \u001b[1;32mIn[2], line 20\u001b[0m\n\u001b[0;32m     18\u001b[0m n\u001b[38;5;241m=\u001b[39m\u001b[38;5;241m6\u001b[39m\n\u001b[0;32m     19\u001b[0m m\u001b[38;5;241m=\u001b[39m\u001b[38;5;124m\"\u001b[39m\u001b[38;5;124m2\u001b[39m\u001b[38;5;124m\"\u001b[39m\n\u001b[1;32m---> 20\u001b[0m \u001b[38;5;28mprint\u001b[39m(\u001b[43mn\u001b[49m\u001b[38;5;241;43m>\u001b[39;49m\u001b[43mm\u001b[49m)\n",
      "\u001b[1;31mTypeError\u001b[0m: '>' not supported between instances of 'int' and 'str'"
     ]
    }
   ],
   "source": [
    "#greater than(>)\n",
    "n=34\n",
    "m=45\n",
    "print(n>m)\n",
    "\n",
    "n=56\n",
    "m=46\n",
    "print(n>m)\n",
    "\n",
    "n=10.5\n",
    "m=10\n",
    "print(n>m)\n",
    "\n",
    "n=8\n",
    "m=8\n",
    "print(n>m)\n",
    "\n",
    "n=6\n",
    "m=\"2\"\n",
    "print(n>m)"
   ]
  },
  {
   "cell_type": "code",
   "execution_count": 3,
   "metadata": {},
   "outputs": [
    {
     "name": "stdout",
     "output_type": "stream",
     "text": [
      "0b1001110\n",
      "-0b110\n"
     ]
    }
   ],
   "source": [
    "# converting number or  integer into binary ---> bin(value/number)\n",
    "\n",
    "print(bin(78))\n",
    "\n",
    "print(bin(-6))"
   ]
  },
  {
   "cell_type": "code",
   "execution_count": 4,
   "metadata": {},
   "outputs": [
    {
     "name": "stdout",
     "output_type": "stream",
     "text": [
      "72\n",
      "75\n",
      "C\n",
      "1\n"
     ]
    }
   ],
   "source": [
    "#ASCII values --> ord(chr)\n",
    "# (65-90 --> A - Z) , (97-122 --> a - z) , (48-57 --> 0 - 9)\n",
    "#character value  --> chr(ascii value)\n",
    "\n",
    "print(ord('H'))\n",
    "\n",
    "print(ord('K'))\n",
    "\n",
    "print(chr(67))\n",
    "\n",
    "print(chr(49))"
   ]
  },
  {
   "cell_type": "code",
   "execution_count": 5,
   "metadata": {},
   "outputs": [
    {
     "name": "stdout",
     "output_type": "stream",
     "text": [
      "False\n",
      "False\n",
      "False\n"
     ]
    }
   ],
   "source": [
    "#(>) --> string \n",
    "s='raju'\n",
    "s1='rani'\n",
    "print(s>s1)\n",
    "\n",
    "s='Developer'\n",
    "s1='doll'\n",
    "print(s>s1)\n",
    "\n",
    "s='ra'\n",
    "s1='rani'\n",
    "print(s>s1)"
   ]
  },
  {
   "cell_type": "code",
   "execution_count": 6,
   "metadata": {},
   "outputs": [
    {
     "name": "stdout",
     "output_type": "stream",
     "text": [
      "False\n",
      "True\n"
     ]
    },
    {
     "ename": "TypeError",
     "evalue": "'>' not supported between instances of 'str' and 'int'",
     "output_type": "error",
     "traceback": [
      "\u001b[1;31m---------------------------------------------------------------------------\u001b[0m",
      "\u001b[1;31mTypeError\u001b[0m                                 Traceback (most recent call last)",
      "Cell \u001b[1;32mIn[6], line 13\u001b[0m\n\u001b[0;32m     11\u001b[0m l\u001b[38;5;241m=\u001b[39m[\u001b[38;5;241m1\u001b[39m,\u001b[38;5;124m'\u001b[39m\u001b[38;5;124mrani\u001b[39m\u001b[38;5;124m'\u001b[39m]\n\u001b[0;32m     12\u001b[0m l1\u001b[38;5;241m=\u001b[39m[\u001b[38;5;241m1\u001b[39m,\u001b[38;5;241m789\u001b[39m]\n\u001b[1;32m---> 13\u001b[0m \u001b[38;5;28mprint\u001b[39m(\u001b[43ml\u001b[49m\u001b[38;5;241;43m>\u001b[39;49m\u001b[43ml1\u001b[49m)\n\u001b[0;32m     15\u001b[0m l\u001b[38;5;241m=\u001b[39m[\u001b[38;5;241m1\u001b[39m,\u001b[38;5;124m'\u001b[39m\u001b[38;5;124mraju\u001b[39m\u001b[38;5;124m'\u001b[39m]\n\u001b[0;32m     16\u001b[0m l1\u001b[38;5;241m=\u001b[39m[\u001b[38;5;241m1\u001b[39m,\u001b[38;5;241m28765390\u001b[39m]\n",
      "\u001b[1;31mTypeError\u001b[0m: '>' not supported between instances of 'str' and 'int'"
     ]
    }
   ],
   "source": [
    "#(>) --> list ,tuple\n",
    "\n",
    "l=[1,2,3]\n",
    "l1=[1,2,3,4]\n",
    "print(l>l1)\n",
    "\n",
    "l=[100,2,3]\n",
    "l1=[45,6,7]\n",
    "print(l>l1)\n",
    "\n",
    "l=[1,'rani']\n",
    "l1=[1,789]\n",
    "print(l>l1)\n",
    "\n",
    "l=[1,'raju']\n",
    "l1=[1,28765390]\n",
    "print(l>l1)"
   ]
  },
  {
   "cell_type": "code",
   "execution_count": 8,
   "metadata": {},
   "outputs": [
    {
     "name": "stdout",
     "output_type": "stream",
     "text": [
      "True\n",
      "False\n",
      "False\n"
     ]
    },
    {
     "ename": "TypeError",
     "evalue": "'>' not supported between instances of 'dict' and 'dict'",
     "output_type": "error",
     "traceback": [
      "\u001b[1;31m---------------------------------------------------------------------------\u001b[0m",
      "\u001b[1;31mTypeError\u001b[0m                                 Traceback (most recent call last)",
      "Cell \u001b[1;32mIn[8], line 17\u001b[0m\n\u001b[0;32m     15\u001b[0m d\u001b[38;5;241m=\u001b[39m{\u001b[38;5;241m1\u001b[39m:\u001b[38;5;241m10\u001b[39m,\u001b[38;5;241m2\u001b[39m:\u001b[38;5;124m'\u001b[39m\u001b[38;5;124mra\u001b[39m\u001b[38;5;124m'\u001b[39m,\u001b[38;5;241m3\u001b[39m:\u001b[38;5;241m90\u001b[39m}\n\u001b[0;32m     16\u001b[0m d2\u001b[38;5;241m=\u001b[39m{\u001b[38;5;241m1\u001b[39m:\u001b[38;5;241m67\u001b[39m}\n\u001b[1;32m---> 17\u001b[0m \u001b[38;5;28mprint\u001b[39m(\u001b[43md\u001b[49m\u001b[38;5;241;43m>\u001b[39;49m\u001b[43md2\u001b[49m)\n",
      "\u001b[1;31mTypeError\u001b[0m: '>' not supported between instances of 'dict' and 'dict'"
     ]
    }
   ],
   "source": [
    "#(>)-->set : depends of subsets\n",
    "\n",
    "s={1,2,3}\n",
    "s2={3}\n",
    "print(s>s2)\n",
    "\n",
    "s={1,2,3}\n",
    "s2={3,2,1}\n",
    "print(s>s2)\n",
    "\n",
    "s={1,2,3}\n",
    "s2={3,4}\n",
    "print(s>s2)\n",
    "\n",
    "d={1:10,2:'ra',3:90}\n",
    "d2={1:67}\n",
    "print(d>d2)"
   ]
  },
  {
   "cell_type": "code",
   "execution_count": 10,
   "metadata": {},
   "outputs": [
    {
     "name": "stdout",
     "output_type": "stream",
     "text": [
      "True\n",
      "False\n",
      "False\n"
     ]
    },
    {
     "ename": "TypeError",
     "evalue": "'<' not supported between instances of 'int' and 'str'",
     "output_type": "error",
     "traceback": [
      "\u001b[1;31m---------------------------------------------------------------------------\u001b[0m",
      "\u001b[1;31mTypeError\u001b[0m                                 Traceback (most recent call last)",
      "Cell \u001b[1;32mIn[10], line 16\u001b[0m\n\u001b[0;32m     14\u001b[0m n\u001b[38;5;241m=\u001b[39m\u001b[38;5;241m3\u001b[39m\n\u001b[0;32m     15\u001b[0m m\u001b[38;5;241m=\u001b[39m\u001b[38;5;124m'\u001b[39m\u001b[38;5;124m4\u001b[39m\u001b[38;5;124m'\u001b[39m\n\u001b[1;32m---> 16\u001b[0m \u001b[38;5;28mprint\u001b[39m(\u001b[43mn\u001b[49m\u001b[38;5;241;43m<\u001b[39;49m\u001b[43mm\u001b[49m)\n",
      "\u001b[1;31mTypeError\u001b[0m: '<' not supported between instances of 'int' and 'str'"
     ]
    }
   ],
   "source": [
    "#lessthan(<)\n",
    "n=3\n",
    "m=4\n",
    "print(n<m)\n",
    "\n",
    "n=3\n",
    "m=3\n",
    "print(n<m)\n",
    "\n",
    "n=30\n",
    "m=4\n",
    "print(n<m)\n",
    "\n",
    "n=3\n",
    "m='4'\n",
    "print(n<m)"
   ]
  },
  {
   "cell_type": "code",
   "execution_count": 11,
   "metadata": {},
   "outputs": [
    {
     "name": "stdout",
     "output_type": "stream",
     "text": [
      "True\n",
      "True\n",
      "True\n"
     ]
    },
    {
     "ename": "TypeError",
     "evalue": "'<' not supported between instances of 'str' and 'int'",
     "output_type": "error",
     "traceback": [
      "\u001b[1;31m---------------------------------------------------------------------------\u001b[0m",
      "\u001b[1;31mTypeError\u001b[0m                                 Traceback (most recent call last)",
      "Cell \u001b[1;32mIn[11], line 17\u001b[0m\n\u001b[0;32m     15\u001b[0m t\u001b[38;5;241m=\u001b[39m(\u001b[38;5;241m500\u001b[39m,\u001b[38;5;124m'\u001b[39m\u001b[38;5;124mhut\u001b[39m\u001b[38;5;124m'\u001b[39m)\n\u001b[0;32m     16\u001b[0m t1\u001b[38;5;241m=\u001b[39m(\u001b[38;5;241m500\u001b[39m, \u001b[38;5;241m6000\u001b[39m)\n\u001b[1;32m---> 17\u001b[0m \u001b[38;5;28mprint\u001b[39m(\u001b[43mt\u001b[49m\u001b[38;5;241;43m<\u001b[39;49m\u001b[43mt1\u001b[49m)\n",
      "\u001b[1;31mTypeError\u001b[0m: '<' not supported between instances of 'str' and 'int'"
     ]
    }
   ],
   "source": [
    "#(<)-->string ,list , tuple\n",
    "\n",
    "s='maha'\n",
    "s3='mahi'\n",
    "print(s<s3)\n",
    "\n",
    "l=[1,2,3]\n",
    "l1=[1,2,3,4]\n",
    "print(l<l1)\n",
    "\n",
    "t=(1,3.2,3)\n",
    "t1=(1,4.2,3,4)\n",
    "print(t<t1)\n",
    "\n",
    "t=(500,'hut')\n",
    "t1=(500, 6000)\n",
    "print(t<t1)"
   ]
  },
  {
   "cell_type": "code",
   "execution_count": 13,
   "metadata": {},
   "outputs": [
    {
     "name": "stdout",
     "output_type": "stream",
     "text": [
      "True\n",
      "False\n"
     ]
    },
    {
     "ename": "NameError",
     "evalue": "name 'd5' is not defined",
     "output_type": "error",
     "traceback": [
      "\u001b[1;31m---------------------------------------------------------------------------\u001b[0m",
      "\u001b[1;31mNameError\u001b[0m                                 Traceback (most recent call last)",
      "Cell \u001b[1;32mIn[13], line 13\u001b[0m\n\u001b[0;32m     11\u001b[0m d\u001b[38;5;241m=\u001b[39m{\u001b[38;5;241m1\u001b[39m:\u001b[38;5;241m34\u001b[39m,\u001b[38;5;241m4\u001b[39m:\u001b[38;5;241m678\u001b[39m}\n\u001b[0;32m     12\u001b[0m d4\u001b[38;5;241m=\u001b[39m{\u001b[38;5;241m1\u001b[39m:\u001b[38;5;241m2\u001b[39m,\u001b[38;5;241m7\u001b[39m:\u001b[38;5;241m56\u001b[39m}\n\u001b[1;32m---> 13\u001b[0m \u001b[38;5;28mprint\u001b[39m(d\u001b[38;5;241m<\u001b[39m\u001b[43md5\u001b[49m)\n",
      "\u001b[1;31mNameError\u001b[0m: name 'd5' is not defined"
     ]
    }
   ],
   "source": [
    "#(<)--> set : depends on the proper set\n",
    "\n",
    "s={1,2,3}\n",
    "s5={1,2,3,4,5,6,7}\n",
    "print(s<s5)\n",
    "\n",
    "s={1,2,3}\n",
    "s5={1,2,3}\n",
    "print(s<s5)\n",
    "\n",
    "d={1:34,4:678}\n",
    "d4={1:2,7:56}\n",
    "print(d<d5)"
   ]
  },
  {
   "cell_type": "code",
   "execution_count": 18,
   "metadata": {},
   "outputs": [
    {
     "name": "stdout",
     "output_type": "stream",
     "text": [
      "True\n",
      "True\n",
      "False\n",
      "True\n",
      "True\n",
      "False\n",
      "True\n"
     ]
    },
    {
     "ename": "TypeError",
     "evalue": "'>=' not supported between instances of 'complex' and 'complex'",
     "output_type": "error",
     "traceback": [
      "\u001b[1;31m---------------------------------------------------------------------------\u001b[0m",
      "\u001b[1;31mTypeError\u001b[0m                                 Traceback (most recent call last)",
      "Cell \u001b[1;32mIn[18], line 33\u001b[0m\n\u001b[0;32m     31\u001b[0m n\u001b[38;5;241m=\u001b[39m\u001b[38;5;241m10\u001b[39m\u001b[38;5;241m+\u001b[39m\u001b[38;5;241m2\u001b[39mj\n\u001b[0;32m     32\u001b[0m m\u001b[38;5;241m=\u001b[39m\u001b[38;5;241m10\u001b[39m\u001b[38;5;241m+\u001b[39m\u001b[38;5;241m3\u001b[39mJ\n\u001b[1;32m---> 33\u001b[0m \u001b[38;5;28mprint\u001b[39m(\u001b[43mn\u001b[49m\u001b[38;5;241;43m>\u001b[39;49m\u001b[38;5;241;43m=\u001b[39;49m\u001b[43mm\u001b[49m)\n",
      "\u001b[1;31mTypeError\u001b[0m: '>=' not supported between instances of 'complex' and 'complex'"
     ]
    }
   ],
   "source": [
    "#greather than or equal (>=) -->int ,float,string , list ,tuple\n",
    "\n",
    "a=10\n",
    "b=10\n",
    "print(a>=b)\n",
    "\n",
    "a=10.5\n",
    "b=10\n",
    "print(a>=b)\n",
    "\n",
    "a=10\n",
    "b=100\n",
    "print(a>=b)\n",
    "\n",
    "s='rani'\n",
    "s2=\"rani\"\n",
    "print(s>=s2)\n",
    "\n",
    "l=[1,2,3]\n",
    "l2=[1,2,3]\n",
    "print(l>=l2)\n",
    "\n",
    "t=(1,3,7)\n",
    "t1=(3,4.6)\n",
    "print(t>=t1)\n",
    "\n",
    "s={1,2,3}\n",
    "sr={2,3,1}\n",
    "print(s>=sr)\n",
    "\n",
    "n=10+2j\n",
    "m=10+3J\n",
    "print(n>=m)\n"
   ]
  },
  {
   "cell_type": "code",
   "execution_count": 19,
   "metadata": {},
   "outputs": [
    {
     "name": "stdout",
     "output_type": "stream",
     "text": [
      "True\n",
      "False\n",
      "True\n",
      "True\n",
      "True\n",
      "True\n",
      "True\n"
     ]
    },
    {
     "ename": "TypeError",
     "evalue": "'<=' not supported between instances of 'complex' and 'complex'",
     "output_type": "error",
     "traceback": [
      "\u001b[1;31m---------------------------------------------------------------------------\u001b[0m",
      "\u001b[1;31mTypeError\u001b[0m                                 Traceback (most recent call last)",
      "Cell \u001b[1;32mIn[19], line 33\u001b[0m\n\u001b[0;32m     31\u001b[0m n\u001b[38;5;241m=\u001b[39m\u001b[38;5;241m10\u001b[39m\u001b[38;5;241m+\u001b[39m\u001b[38;5;241m2\u001b[39mj\n\u001b[0;32m     32\u001b[0m m\u001b[38;5;241m=\u001b[39m\u001b[38;5;241m10\u001b[39m\u001b[38;5;241m+\u001b[39m\u001b[38;5;241m3\u001b[39mJ\n\u001b[1;32m---> 33\u001b[0m \u001b[38;5;28mprint\u001b[39m(\u001b[43mn\u001b[49m\u001b[38;5;241;43m<\u001b[39;49m\u001b[38;5;241;43m=\u001b[39;49m\u001b[43mm\u001b[49m)\n",
      "\u001b[1;31mTypeError\u001b[0m: '<=' not supported between instances of 'complex' and 'complex'"
     ]
    }
   ],
   "source": [
    "#less than or equal (<=) -->int ,float,string , list ,tuple\n",
    "\n",
    "a=10\n",
    "b=10\n",
    "print(a<=b)\n",
    "\n",
    "a=10.5\n",
    "b=10\n",
    "print(a<=b)\n",
    "\n",
    "a=10\n",
    "b=100\n",
    "print(a<=b)\n",
    "\n",
    "s='rani'\n",
    "s2=\"rani\"\n",
    "print(s>=s2)\n",
    "\n",
    "l=[1,2,3]\n",
    "l2=[1,2,3]\n",
    "print(l<=l2)\n",
    "\n",
    "t=(1,3,7)\n",
    "t1=(3,4.6)\n",
    "print(t<=t1)\n",
    "\n",
    "s={1,2,3}\n",
    "sr={2,3,1}\n",
    "print(s<=sr)\n",
    "\n",
    "n=10+2j\n",
    "m=10+3J\n",
    "print(n<=m)\n"
   ]
  },
  {
   "cell_type": "code",
   "execution_count": null,
   "metadata": {},
   "outputs": [],
   "source": []
  },
  {
   "cell_type": "code",
   "execution_count": null,
   "metadata": {},
   "outputs": [],
   "source": []
  }
 ],
 "metadata": {
  "kernelspec": {
   "display_name": "Python 3",
   "language": "python",
   "name": "python3"
  },
  "language_info": {
   "codemirror_mode": {
    "name": "ipython",
    "version": 3
   },
   "file_extension": ".py",
   "mimetype": "text/x-python",
   "name": "python",
   "nbconvert_exporter": "python",
   "pygments_lexer": "ipython3",
   "version": "3.12.1"
  }
 },
 "nbformat": 4,
 "nbformat_minor": 2
}
