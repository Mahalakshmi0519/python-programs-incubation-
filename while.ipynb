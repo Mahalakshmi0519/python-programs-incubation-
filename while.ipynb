{
 "cells": [
  {
   "cell_type": "code",
   "execution_count": 1,
   "metadata": {},
   "outputs": [
    {
     "name": "stdout",
     "output_type": "stream",
     "text": [
      "1\n",
      "2\n",
      "3\n",
      "4\n",
      "5\n",
      "6\n",
      "7\n",
      "8\n",
      "9\n",
      "10\n"
     ]
    }
   ],
   "source": [
    "i=1\n",
    "while i<=10:\n",
    "    print(i)\n",
    "    i+=1"
   ]
  },
  {
   "cell_type": "code",
   "execution_count": 2,
   "metadata": {},
   "outputs": [
    {
     "name": "stdout",
     "output_type": "stream",
     "text": [
      "Good Afternoon\n",
      "Had your lunch?\n",
      "Good Afternoon\n",
      "Had your lunch?\n",
      "Good Afternoon\n",
      "Had your lunch?\n",
      "Good Afternoon\n",
      "Had your lunch?\n",
      "Good Afternoon\n",
      "Had your lunch?\n",
      "Good Afternoon\n",
      "Had your lunch?\n",
      "Good Afternoon\n",
      "Had your lunch?\n",
      "Good Afternoon\n",
      "Had your lunch?\n",
      "Good Afternoon\n",
      "Had your lunch?\n",
      "Good Afternoon\n",
      "Had your lunch?\n",
      "Good Afternoon\n",
      "Had your lunch?\n",
      "Good Afternoon\n",
      "Had your lunch?\n",
      "Good Afternoon\n",
      "Had your lunch?\n",
      "Good Afternoon\n",
      "Had your lunch?\n"
     ]
    }
   ],
   "source": [
    "i=1\n",
    "while i<15:\n",
    "    print('Good Afternoon')\n",
    "    print('Had your lunch?')\n",
    "    i+=1"
   ]
  },
  {
   "cell_type": "code",
   "execution_count": 8,
   "metadata": {},
   "outputs": [
    {
     "name": "stdout",
     "output_type": "stream",
     "text": [
      "\n",
      "M\n",
      "Ma\n",
      "Mah\n",
      "Maha\n",
      "Mahal\n",
      "Mahala\n",
      "Mahalak\n",
      "Mahalaks\n",
      "Mahalaksh\n",
      "Mahalakshm\n",
      "Mahalakshmi\n"
     ]
    }
   ],
   "source": [
    "s='Mahalakshmi'\n",
    "i=0\n",
    "while i<=len(s):\n",
    "    print(s[0:i])\n",
    "    i+=1\n"
   ]
  },
  {
   "cell_type": "code",
   "execution_count": 37,
   "metadata": {},
   "outputs": [
    {
     "name": "stdout",
     "output_type": "stream",
     "text": [
      "palindrome\n"
     ]
    }
   ],
   "source": [
    "n=12321\n",
    "n2=n\n",
    "n1=0\n",
    "while n!=0:\n",
    "    r=n%10\n",
    "    n1=n1*10+r\n",
    "    n=n//10\n",
    "if n2==n1:\n",
    "    print('palindrome')\n",
    "else:\n",
    "    print('not palindrome')"
   ]
  },
  {
   "cell_type": "code",
   "execution_count": 1,
   "metadata": {},
   "outputs": [
    {
     "name": "stdout",
     "output_type": "stream",
     "text": [
      "15\n",
      "14\n",
      "13\n",
      "12\n",
      "11\n",
      "10\n",
      "9\n",
      "8\n",
      "7\n",
      "6\n",
      "5\n",
      "4\n",
      "3\n",
      "2\n",
      "1\n"
     ]
    }
   ],
   "source": [
    "i=15\n",
    "while i>=1:\n",
    "    print(i)\n",
    "    i-=1"
   ]
  },
  {
   "cell_type": "code",
   "execution_count": 2,
   "metadata": {},
   "outputs": [
    {
     "name": "stdout",
     "output_type": "stream",
     "text": [
      "15\n",
      "14\n",
      "13\n",
      "12\n",
      "11\n",
      "10\n",
      "9\n",
      "8\n",
      "7\n",
      "6\n",
      "5\n",
      "4\n",
      "3\n",
      "2\n",
      "1\n"
     ]
    }
   ],
   "source": [
    "i=1\n",
    "j=15\n",
    "while i<=15:\n",
    "    print(j)\n",
    "    j-=1\n",
    "    i+=1"
   ]
  },
  {
   "cell_type": "code",
   "execution_count": 3,
   "metadata": {},
   "outputs": [
    {
     "name": "stdout",
     "output_type": "stream",
     "text": [
      "6\n",
      "12\n",
      "18\n",
      "24\n",
      "30\n",
      "36\n",
      "42\n",
      "48\n",
      "54\n",
      "60\n"
     ]
    }
   ],
   "source": [
    "n=int(input())\n",
    "i=1\n",
    "while i<=10:\n",
    "    print(n*i)\n",
    "    i+=1"
   ]
  },
  {
   "cell_type": "code",
   "execution_count": 4,
   "metadata": {},
   "outputs": [
    {
     "name": "stdout",
     "output_type": "stream",
     "text": [
      "8\n",
      "10\n",
      "12\n",
      "14\n",
      "16\n",
      "18\n",
      "20\n",
      "22\n",
      "24\n"
     ]
    }
   ],
   "source": [
    "i=7\n",
    "while i<=25:\n",
    "    if i%2==0:\n",
    "        print(i)\n",
    "    i+=1"
   ]
  },
  {
   "cell_type": "code",
   "execution_count": 5,
   "metadata": {},
   "outputs": [
    {
     "name": "stdout",
     "output_type": "stream",
     "text": [
      "15\n"
     ]
    }
   ],
   "source": [
    "i=10\n",
    "while i<25:\n",
    "    if i%3==0 and i%5==0:\n",
    "        print(i)\n",
    "    i+=1"
   ]
  },
  {
   "cell_type": "code",
   "execution_count": 6,
   "metadata": {},
   "outputs": [
    {
     "name": "stdout",
     "output_type": "stream",
     "text": [
      "2\n",
      "4\n"
     ]
    }
   ],
   "source": [
    "j=0\n",
    "i=1\n",
    "while i<=5:\n",
    "    if i%2==0 and j<3:\n",
    "        print(i)\n",
    "        j+=1\n",
    "    i+=1    "
   ]
  },
  {
   "cell_type": "code",
   "execution_count": 8,
   "metadata": {},
   "outputs": [
    {
     "name": "stdout",
     "output_type": "stream",
     "text": [
      "25\n",
      "23\n",
      "21\n",
      "19\n",
      "17\n"
     ]
    }
   ],
   "source": [
    "j=0\n",
    "i=25\n",
    "while i<=25 and j<5:\n",
    "    if i%2==1:\n",
    "        print(i)\n",
    "        j+=1\n",
    "    i-=1  "
   ]
  }
 ],
 "metadata": {
  "kernelspec": {
   "display_name": "Python 3",
   "language": "python",
   "name": "python3"
  },
  "language_info": {
   "codemirror_mode": {
    "name": "ipython",
    "version": 3
   },
   "file_extension": ".py",
   "mimetype": "text/x-python",
   "name": "python",
   "nbconvert_exporter": "python",
   "pygments_lexer": "ipython3",
   "version": "3.12.1"
  }
 },
 "nbformat": 4,
 "nbformat_minor": 2
}
