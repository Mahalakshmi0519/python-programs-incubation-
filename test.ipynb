{
 "cells": [
  {
   "cell_type": "code",
   "execution_count": 24,
   "metadata": {},
   "outputs": [
    {
     "data": {
      "text/plain": [
       "['m', 'madam', 'a', 'ada', 'd', 'a']"
      ]
     },
     "execution_count": 24,
     "metadata": {},
     "output_type": "execute_result"
    }
   ],
   "source": [
    "def palin(s):             #12\n",
    "    l=[]\n",
    "    for i in range(0,len(s)-1):\n",
    "        for j in range(1,len(s)+1):\n",
    "            res=s[i:j]\n",
    "            res1=res[::-1]\n",
    "            if res==res1 and res!='':\n",
    "                 l+=[res]\n",
    "    return l\n",
    "palin(\"madam\")\n"
   ]
  },
  {
   "cell_type": "code",
   "execution_count": 6,
   "metadata": {},
   "outputs": [
    {
     "data": {
      "text/plain": [
       "False"
      ]
     },
     "execution_count": 6,
     "metadata": {},
     "output_type": "execute_result"
    }
   ],
   "source": [
    "def product(n):              #11\n",
    "    p=1\n",
    "    n1=n\n",
    "    while n!=0:\n",
    "        d=n%10\n",
    "        p*=d\n",
    "        n=n//10\n",
    "    if p==n1:\n",
    "        return True\n",
    "    return False\n",
    "product(123)\n",
    "    "
   ]
  },
  {
   "cell_type": "code",
   "execution_count": 10,
   "metadata": {},
   "outputs": [
    {
     "data": {
      "text/plain": [
       "False"
      ]
     },
     "execution_count": 10,
     "metadata": {},
     "output_type": "execute_result"
    }
   ],
   "source": [
    "def even(n):                    #10\n",
    "    count=0\n",
    "    while n!=0:\n",
    "        d=n%10\n",
    "        i=1\n",
    "        c=0\n",
    "        while i<=d:\n",
    "            if d%i==0:\n",
    "                c+=1\n",
    "            i+=1\n",
    "        if c==2:\n",
    "            count+=1\n",
    "        n=n//10\n",
    "    if count%2==0:\n",
    "        return True\n",
    "    return False\n",
    "even(123456)\n"
   ]
  },
  {
   "cell_type": "code",
   "execution_count": 11,
   "metadata": {},
   "outputs": [
    {
     "data": {
      "text/plain": [
       "True"
      ]
     },
     "execution_count": 11,
     "metadata": {},
     "output_type": "execute_result"
    }
   ],
   "source": [
    "def strongnumber(n):                #9\n",
    "    c=0\n",
    "    while n!=0:\n",
    "        c+=1\n",
    "        n=n//10\n",
    "    n2=c\n",
    "    sum=0\n",
    "    while c!=0:\n",
    "        d=c%10\n",
    "        fact=1\n",
    "        i=1\n",
    "        while i<=d:\n",
    "            fact=fact*i\n",
    "            i+=1\n",
    "        sum+=fact\n",
    "        c=c//10\n",
    "        if sum==n2:\n",
    "            return True\n",
    "        else:\n",
    "            return False\n",
    "strongnumber(1)\n",
    "\n"
   ]
  },
  {
   "cell_type": "code",
   "execution_count": 12,
   "metadata": {},
   "outputs": [
    {
     "data": {
      "text/plain": [
       "False"
      ]
     },
     "execution_count": 12,
     "metadata": {},
     "output_type": "execute_result"
    }
   ],
   "source": [
    "def spy(n):                         #8\n",
    "    n1=n%100\n",
    "    s=0\n",
    "    p=1\n",
    "    while n1!=0:\n",
    "        d=n%10\n",
    "        s+=d\n",
    "        p*=d\n",
    "        n1=n1//10\n",
    "    if s==p:\n",
    "        return True\n",
    "    return False\n",
    "spy(1234)"
   ]
  },
  {
   "cell_type": "code",
   "execution_count": 13,
   "metadata": {},
   "outputs": [
    {
     "data": {
      "text/plain": [
       "True"
      ]
     },
     "execution_count": 13,
     "metadata": {},
     "output_type": "execute_result"
    }
   ],
   "source": [
    "def midchar(st):                           #7\n",
    "    mid = len(st)//2\n",
    "    if st[mid]>=\"A\" and st[mid]<=\"Z\":\n",
    "        return True\n",
    "    return False\n",
    "midchar(\"SCHOOL\")"
   ]
  },
  {
   "cell_type": "code",
   "execution_count": 16,
   "metadata": {},
   "outputs": [
    {
     "data": {
      "text/plain": [
       "True"
      ]
     },
     "execution_count": 16,
     "metadata": {},
     "output_type": "execute_result"
    }
   ],
   "source": [
    "def prime(n):                             #6\n",
    "    c=0\n",
    "    while n!=0:\n",
    "        c+=1\n",
    "        n=n//10\n",
    "        i=1\n",
    "    c1=0\n",
    "    i=1\n",
    "    while i<=c:\n",
    "        if c%i==0:\n",
    "            c1+=1\n",
    "        i+=1\n",
    "    if c1==2:\n",
    "        return True\n",
    "    else:\n",
    "        return False\n",
    "prime(12345)"
   ]
  },
  {
   "cell_type": "code",
   "execution_count": 17,
   "metadata": {},
   "outputs": [
    {
     "data": {
      "text/plain": [
       "True"
      ]
     },
     "execution_count": 17,
     "metadata": {},
     "output_type": "execute_result"
    }
   ],
   "source": [
    "def reverseofstring(st):            #5\n",
    "    res=\"\"\n",
    "    for i in st:\n",
    "        res=i+res\n",
    "    if res==st:\n",
    "        return True\n",
    "    return False\n",
    "reverseofstring(\"madam\")"
   ]
  },
  {
   "cell_type": "code",
   "execution_count": 18,
   "metadata": {},
   "outputs": [
    {
     "data": {
      "text/plain": [
       "False"
      ]
     },
     "execution_count": 18,
     "metadata": {},
     "output_type": "execute_result"
    }
   ],
   "source": [
    "def armstrong(n):                          #4\n",
    "    n1=n\n",
    "    s=0\n",
    "    while n!=0:\n",
    "        d=n%10\n",
    "        s+=d\n",
    "        n=n//10\n",
    "    sum=s\n",
    "    sum2=s\n",
    "    c=0\n",
    "    while s!=0:\n",
    "        c+=1\n",
    "        s=s//10\n",
    "    s2=0\n",
    "    while sum!=0:\n",
    "        d=sum%10\n",
    "        s2+=d**c\n",
    "        sum//=10\n",
    "    if sum2==s2:\n",
    "        return True\n",
    "    return False\n",
    "armstrong(1234)"
   ]
  },
  {
   "cell_type": "code",
   "execution_count": 19,
   "metadata": {},
   "outputs": [
    {
     "data": {
      "text/plain": [
       "54321"
      ]
     },
     "execution_count": 19,
     "metadata": {},
     "output_type": "execute_result"
    }
   ],
   "source": [
    "def reverseofnumber(n):                        #3\n",
    "    res=0\n",
    "    while n!=0:\n",
    "        d=n%10\n",
    "        res=res*10+d\n",
    "        n//=10\n",
    "    return res\n",
    "reverseofnumber(12345)"
   ]
  },
  {
   "cell_type": "code",
   "execution_count": 20,
   "metadata": {},
   "outputs": [
    {
     "data": {
      "text/plain": [
       "68"
      ]
     },
     "execution_count": 20,
     "metadata": {},
     "output_type": "execute_result"
    }
   ],
   "source": [
    "def upper(ch):                      #2\n",
    "    if ch>=\"A\" and ch<=\"Z\":\n",
    "        return ord(ch)\n",
    "upper(\"D\")"
   ]
  },
  {
   "cell_type": "code",
   "execution_count": 21,
   "metadata": {},
   "outputs": [
    {
     "data": {
      "text/plain": [
       "36"
      ]
     },
     "execution_count": 21,
     "metadata": {},
     "output_type": "execute_result"
    }
   ],
   "source": [
    "def perfect(n):                     #1\n",
    "    n1=n\n",
    "    s=0\n",
    "    for i in range(1,n):\n",
    "        if n%i==0:\n",
    "            s+=i\n",
    "    if s==n1:\n",
    "        d=n1%10\n",
    "        return d**2\n",
    "    return False\n",
    "perfect(6)"
   ]
  },
  {
   "cell_type": "code",
   "execution_count": 1,
   "metadata": {},
   "outputs": [
    {
     "name": "stdout",
     "output_type": "stream",
     "text": [
      "ramesh\n"
     ]
    }
   ],
   "source": [
    "n=\"ramesh\"\n",
    "res=\"\"\n",
    "for i in n:\n",
    "    res=res+i\n",
    "print(res)"
   ]
  },
  {
   "cell_type": "code",
   "execution_count": null,
   "metadata": {},
   "outputs": [],
   "source": []
  }
 ],
 "metadata": {
  "kernelspec": {
   "display_name": "Python 3",
   "language": "python",
   "name": "python3"
  },
  "language_info": {
   "codemirror_mode": {
    "name": "ipython",
    "version": 3
   },
   "file_extension": ".py",
   "mimetype": "text/x-python",
   "name": "python",
   "nbconvert_exporter": "python",
   "pygments_lexer": "ipython3",
   "version": "3.12.1"
  }
 },
 "nbformat": 4,
 "nbformat_minor": 2
}
