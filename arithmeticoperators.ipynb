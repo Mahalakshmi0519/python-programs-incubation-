{
 "cells": [
  {
   "cell_type": "code",
   "execution_count": 1,
   "metadata": {},
   "outputs": [
    {
     "name": "stdout",
     "output_type": "stream",
     "text": [
      "30\n",
      "9.39\n",
      "9.39\n",
      "2\n"
     ]
    }
   ],
   "source": [
    "#addition(+)-->operands can be any type\n",
    "a=10\n",
    "b=20\n",
    "print(a+b)\n",
    "\n",
    "c=3.5\n",
    "d=5.89\n",
    "print(c+d)\n",
    "\n",
    "e=45+9j\n",
    "f=5+2j\n",
    "print(c+d)\n",
    "\n",
    "g=True\n",
    "h=1\n",
    "print(g+h)\n"
   ]
  },
  {
   "cell_type": "code",
   "execution_count": 2,
   "metadata": {},
   "outputs": [
    {
     "name": "stdout",
     "output_type": "stream",
     "text": [
      "rajurani\n",
      "[1, 2, 3, 4, 5, 6]\n",
      "(5.6, 6, 8, 4, 5, 8)\n"
     ]
    }
   ],
   "source": [
    "#concatenation(+)-->operands must be of same type\n",
    "s='raju'\n",
    "s1='rani'\n",
    "print(s+s1)\n",
    "\n",
    "l=[1,2,3]\n",
    "l1=[4,5,6]\n",
    "print(l+l1)\n",
    "\n",
    "t=(5.6,6,8)\n",
    "t1=(4,5,8)\n",
    "print(t+t1)"
   ]
  },
  {
   "cell_type": "code",
   "execution_count": 4,
   "metadata": {},
   "outputs": [
    {
     "name": "stdout",
     "output_type": "stream",
     "text": [
      "12\n",
      "20.0\n",
      "(1+2j)\n",
      "-1\n"
     ]
    }
   ],
   "source": [
    "#subtraction(-)\n",
    "a=15\n",
    "b=3\n",
    "print(a-b)\n",
    "\n",
    "c=23.5\n",
    "d=3.5\n",
    "print(c-d)\n",
    "\n",
    "g=3-2j\n",
    "h=2-4j\n",
    "print(g-h)\n",
    "\n",
    "i=False\n",
    "j=1\n",
    "print(i-j)"
   ]
  },
  {
   "cell_type": "code",
   "execution_count": 8,
   "metadata": {},
   "outputs": [
    {
     "name": "stdout",
     "output_type": "stream",
     "text": [
      "46\n",
      "14.62\n",
      "(16+8j)\n",
      "raniranirani\n",
      "[1, 2, 3, 1, 2, 3]\n",
      "(1, 4, 6, 1, 4, 6, 1, 4, 6, 1, 4, 6)\n"
     ]
    },
    {
     "ename": "TypeError",
     "evalue": "unsupported operand type(s) for *: 'set' and 'int'",
     "output_type": "error",
     "traceback": [
      "\u001b[1;31m---------------------------------------------------------------------------\u001b[0m",
      "\u001b[1;31mTypeError\u001b[0m                                 Traceback (most recent call last)",
      "Cell \u001b[1;32mIn[8], line 26\u001b[0m\n\u001b[0;32m     23\u001b[0m \u001b[38;5;28mprint\u001b[39m(t\u001b[38;5;241m*\u001b[39m\u001b[38;5;241m4\u001b[39m)\n\u001b[0;32m     25\u001b[0m \u001b[38;5;28mset\u001b[39m\u001b[38;5;241m=\u001b[39m{\u001b[38;5;241m2\u001b[39m,\u001b[38;5;241m5\u001b[39m,\u001b[38;5;241m8\u001b[39m}\n\u001b[1;32m---> 26\u001b[0m \u001b[38;5;28mprint\u001b[39m(\u001b[38;5;28;43mset\u001b[39;49m\u001b[38;5;241;43m*\u001b[39;49m\u001b[38;5;241;43m2\u001b[39;49m)\n",
      "\u001b[1;31mTypeError\u001b[0m: unsupported operand type(s) for *: 'set' and 'int'"
     ]
    }
   ],
   "source": [
    "#multiplication(*)-->product\n",
    "n1=23\n",
    "n2=2\n",
    "print(n1*n2)\n",
    "\n",
    "v=4.3\n",
    "v1=3.4\n",
    "print(v1*v)\n",
    "\n",
    "c=4+2j\n",
    "d=4\n",
    "print(c*d)\n",
    "\n",
    "#multiplication(*)-->increasing the memory\n",
    "st='rani'\n",
    "v=3\n",
    "print(st*v)\n",
    "\n",
    "l=[1,2,3]\n",
    "print(l*2)\n",
    "\n",
    "t=(1,4,6)\n",
    "print(t*4)\n",
    "\n",
    "set={2,5,8}\n",
    "print(set*2)\n"
   ]
  },
  {
   "cell_type": "code",
   "execution_count": 9,
   "metadata": {},
   "outputs": [
    {
     "name": "stdout",
     "output_type": "stream",
     "text": [
      "3.0\n",
      "2.1\n",
      "(0.88-0.24j)\n"
     ]
    }
   ],
   "source": [
    "#division(/)-->gives float result\n",
    "n1=45\n",
    "n2=15\n",
    "print(n1/n2)\n",
    "\n",
    "n3=10.5\n",
    "n4=5\n",
    "print(n3/n4)\n",
    "\n",
    "n5=10+2j\n",
    "n6=10+5j\n",
    "print(n5/n6)"
   ]
  },
  {
   "cell_type": "code",
   "execution_count": 11,
   "metadata": {},
   "outputs": [
    {
     "name": "stdout",
     "output_type": "stream",
     "text": [
      "3\n",
      "9.0\n"
     ]
    },
    {
     "ename": "TypeError",
     "evalue": "unsupported operand type(s) for //: 'complex' and 'int'",
     "output_type": "error",
     "traceback": [
      "\u001b[1;31m---------------------------------------------------------------------------\u001b[0m",
      "\u001b[1;31mTypeError\u001b[0m                                 Traceback (most recent call last)",
      "Cell \u001b[1;32mIn[11], line 12\u001b[0m\n\u001b[0;32m     10\u001b[0m c\u001b[38;5;241m=\u001b[39m\u001b[38;5;241m19\u001b[39m\u001b[38;5;241m+\u001b[39m\u001b[38;5;241m2\u001b[39mj\n\u001b[0;32m     11\u001b[0m e\u001b[38;5;241m=\u001b[39m\u001b[38;5;241m6\u001b[39m\n\u001b[1;32m---> 12\u001b[0m \u001b[38;5;28mprint\u001b[39m(\u001b[43mc\u001b[49m\u001b[38;5;241;43m/\u001b[39;49m\u001b[38;5;241;43m/\u001b[39;49m\u001b[43me\u001b[49m)\n",
      "\u001b[1;31mTypeError\u001b[0m: unsupported operand type(s) for //: 'complex' and 'int'"
     ]
    }
   ],
   "source": [
    "#floordivision(//)-->gives int result for int values\n",
    "b=6\n",
    "c=2\n",
    "print(b//c)\n",
    "\n",
    "d=45.6\n",
    "f=5\n",
    "print(d//f)\n",
    "\n",
    "c=19+2j\n",
    "e=6\n",
    "print(c//e)"
   ]
  },
  {
   "cell_type": "code",
   "execution_count": 15,
   "metadata": {},
   "outputs": [
    {
     "name": "stdout",
     "output_type": "stream",
     "text": [
      "123\n",
      "344\n",
      "456789\n",
      "46303779265243\n"
     ]
    }
   ],
   "source": [
    "#*>Removing or eleminating last digit from a given number\n",
    "#Floor divide by 10 --> operand//10\n",
    "\n",
    "print(1234//10)\n",
    "\n",
    "print(3445//10)\n",
    "\n",
    "print(4567893//10)\n",
    "\n",
    "print(463037792652437//10)\n"
   ]
  },
  {
   "cell_type": "code",
   "execution_count": 12,
   "metadata": {},
   "outputs": [
    {
     "name": "stdout",
     "output_type": "stream",
     "text": [
      "2\n",
      "0.6699999999999999\n",
      "0\n"
     ]
    }
   ],
   "source": [
    "#modulus(%)-->remainder\n",
    "#  numerator<denominator==>numerator\n",
    "\n",
    "n1=26\n",
    "n2=4\n",
    "print(n1%n2)\n",
    "\n",
    "n3=5.67\n",
    "n4=5\n",
    "print(n3%n4)\n",
    "\n",
    "n5=58\n",
    "n6=58\n",
    "print(58%58)"
   ]
  },
  {
   "cell_type": "code",
   "execution_count": 16,
   "metadata": {},
   "outputs": [
    {
     "name": "stdout",
     "output_type": "stream",
     "text": [
      "4\n",
      "6\n",
      "6\n",
      "8\n"
     ]
    }
   ],
   "source": [
    "#*>Getting the last digit from a given number\n",
    "#Modulus by 10 --> operand%10\n",
    "\n",
    "print(24%10)\n",
    "\n",
    "print(36%10)\n",
    "\n",
    "print(25386%10)\n",
    "\n",
    "print(36598%10)\n",
    "\n"
   ]
  },
  {
   "cell_type": "code",
   "execution_count": 19,
   "metadata": {},
   "outputs": [
    {
     "name": "stdout",
     "output_type": "stream",
     "text": [
      "0\n",
      "0\n",
      "0\n",
      "0\n",
      "0\n"
     ]
    }
   ],
   "source": [
    "#checking divisibility-->modulus by 10==0\n",
    "# (operand%10)==0\n",
    "\n",
    "print(8%4)\n",
    "print(12%4)\n",
    "print(16%4)\n",
    "print(24%4)\n",
    "print(36%4)"
   ]
  },
  {
   "cell_type": "code",
   "execution_count": 20,
   "metadata": {},
   "outputs": [
    {
     "name": "stdout",
     "output_type": "stream",
     "text": [
      "1237\n"
     ]
    }
   ],
   "source": [
    "#to increase digit for a given number\n",
    "# num=(num*10)+digit\n",
    "\n",
    "num=123\n",
    "digit=7\n",
    "num=(num*10)+digit\n",
    "print(num)\n",
    "\n",
    "\n"
   ]
  },
  {
   "cell_type": "code",
   "execution_count": 14,
   "metadata": {},
   "outputs": [
    {
     "name": "stdout",
     "output_type": "stream",
     "text": [
      "243\n",
      "4096\n",
      "8\n",
      "4 3 5\n"
     ]
    }
   ],
   "source": [
    "#power(**)\n",
    "n=3\n",
    "n2=5\n",
    "print(n**n2)\n",
    "\n",
    "print(4**6)\n",
    "\n",
    "\n",
    "#using pow() method-->two auguments ==>power\n",
    "print(pow(2,3))\n",
    "\n",
    "#using pow() method-->three auguments ==>(x,y,z)=(x**y)%z\n",
    "print(4,3,5)\n",
    "\n",
    "\n"
   ]
  },
  {
   "cell_type": "code",
   "execution_count": null,
   "metadata": {},
   "outputs": [],
   "source": []
  }
 ],
 "metadata": {
  "kernelspec": {
   "display_name": "Python 3",
   "language": "python",
   "name": "python3"
  },
  "language_info": {
   "codemirror_mode": {
    "name": "ipython",
    "version": 3
   },
   "file_extension": ".py",
   "mimetype": "text/x-python",
   "name": "python",
   "nbconvert_exporter": "python",
   "pygments_lexer": "ipython3",
   "version": "3.12.1"
  }
 },
 "nbformat": 4,
 "nbformat_minor": 2
}
