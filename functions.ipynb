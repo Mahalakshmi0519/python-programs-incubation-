{
 "cells": [
  {
   "cell_type": "code",
   "execution_count": 1,
   "metadata": {},
   "outputs": [
    {
     "name": "stdout",
     "output_type": "stream",
     "text": [
      "Hello\n",
      "I'm Sheela\n"
     ]
    }
   ],
   "source": [
    "def sheela():\n",
    "    print(\"Hello\")\n",
    "    print(\"I'm Sheela\")\n",
    "sheela()"
   ]
  },
  {
   "cell_type": "code",
   "execution_count": 2,
   "metadata": {},
   "outputs": [
    {
     "name": "stdout",
     "output_type": "stream",
     "text": [
      "def\n",
      "abc\n"
     ]
    }
   ],
   "source": [
    "def lex():\n",
    "    print(\"abc\")\n",
    "def next():\n",
    "    print(\"def\")\n",
    "next()\n",
    "lex()"
   ]
  },
  {
   "cell_type": "code",
   "execution_count": 3,
   "metadata": {},
   "outputs": [
    {
     "name": "stdout",
     "output_type": "stream",
     "text": [
      "f1\n",
      "f2\n",
      "f3\n",
      "f4\n",
      "f5\n",
      "f6\n"
     ]
    }
   ],
   "source": [
    "def f1():\n",
    "    print(\"f1\")\n",
    "def f2():\n",
    "    print(\"f2\")\n",
    "def f3():\n",
    "    print(\"f3\")\n",
    "def f4():\n",
    "    print(\"f4\")\n",
    "def f5():\n",
    "    print(\"f5\")\n",
    "def f6():\n",
    "    print(\"f6\")\n",
    "f1()\n",
    "f2()\n",
    "f3()\n",
    "f4()\n",
    "f5()\n",
    "f6()"
   ]
  },
  {
   "cell_type": "code",
   "execution_count": 1,
   "metadata": {},
   "outputs": [
    {
     "name": "stdout",
     "output_type": "stream",
     "text": [
      "even\n"
     ]
    }
   ],
   "source": [
    "def even():\n",
    "    n=int(input())\n",
    "    if n%2==0:\n",
    "        print(\"even\")\n",
    "    else:\n",
    "        print(\"odd\")\n",
    "even()"
   ]
  },
  {
   "cell_type": "code",
   "execution_count": 2,
   "metadata": {},
   "outputs": [
    {
     "name": "stdout",
     "output_type": "stream",
     "text": [
      "prime\n"
     ]
    }
   ],
   "source": [
    "def prime():\n",
    "    n=int(input())\n",
    "    i=1\n",
    "    c=0\n",
    "    while i<=n:\n",
    "        if n%i==0:\n",
    "            c+=1\n",
    "        i+=1\n",
    "    if c==2:\n",
    "        print(\"prime\")\n",
    "    else:\n",
    "        print(\"not prime\")\n",
    "prime()"
   ]
  },
  {
   "cell_type": "code",
   "execution_count": 3,
   "metadata": {},
   "outputs": [
    {
     "name": "stdout",
     "output_type": "stream",
     "text": [
      "perfect number\n"
     ]
    }
   ],
   "source": [
    "def perfect():\n",
    "    n=int(input())\n",
    "    i=1\n",
    "    s=0\n",
    "    while i<n:\n",
    "        if n%i==0:\n",
    "            s+=i\n",
    "        i+=1\n",
    "    if s==n:\n",
    "        print(\"perfect number\")\n",
    "    else:\n",
    "        print(\"not perfect number\")\n",
    "perfect()"
   ]
  },
  {
   "cell_type": "code",
   "execution_count": 4,
   "metadata": {},
   "outputs": [
    {
     "name": "stdout",
     "output_type": "stream",
     "text": [
      "hello jeevan\n"
     ]
    },
    {
     "ename": "TypeError",
     "evalue": "wish() missing 1 required positional argument: 'name'",
     "output_type": "error",
     "traceback": [
      "\u001b[1;31m---------------------------------------------------------------------------\u001b[0m",
      "\u001b[1;31mTypeError\u001b[0m                                 Traceback (most recent call last)",
      "Cell \u001b[1;32mIn[4], line 4\u001b[0m\n\u001b[0;32m      2\u001b[0m     \u001b[38;5;28mprint\u001b[39m(\u001b[38;5;124m\"\u001b[39m\u001b[38;5;124mhello\u001b[39m\u001b[38;5;124m\"\u001b[39m,name)\n\u001b[0;32m      3\u001b[0m wish(\u001b[38;5;124m\"\u001b[39m\u001b[38;5;124mjeevan\u001b[39m\u001b[38;5;124m\"\u001b[39m)\n\u001b[1;32m----> 4\u001b[0m \u001b[43mwish\u001b[49m\u001b[43m(\u001b[49m\u001b[43m)\u001b[49m\n",
      "\u001b[1;31mTypeError\u001b[0m: wish() missing 1 required positional argument: 'name'"
     ]
    }
   ],
   "source": [
    "def wish(name):\n",
    "    print(\"hello\",name)\n",
    "wish(\"jeevan\")\n",
    "wish()"
   ]
  },
  {
   "cell_type": "code",
   "execution_count": 5,
   "metadata": {},
   "outputs": [
    {
     "name": "stdout",
     "output_type": "stream",
     "text": [
      "7\n",
      "15\n"
     ]
    }
   ],
   "source": [
    "def sum(a,b):\n",
    "    print(a+b)\n",
    "sum(3,4)\n",
    "sum(7,8)"
   ]
  },
  {
   "cell_type": "code",
   "execution_count": 6,
   "metadata": {},
   "outputs": [
    {
     "name": "stdout",
     "output_type": "stream",
     "text": [
      "even\n",
      "odd\n",
      "even\n"
     ]
    }
   ],
   "source": [
    "def even(n):\n",
    "   \n",
    "    if n%2==0:\n",
    "        print(\"even\")\n",
    "    else:\n",
    "        print(\"odd\")\n",
    "even(2)\n",
    "even(3)\n",
    "even(4)"
   ]
  },
  {
   "cell_type": "code",
   "execution_count": 8,
   "metadata": {},
   "outputs": [
    {
     "name": "stdout",
     "output_type": "stream",
     "text": [
      "prime\n",
      "prime\n",
      "not prime\n"
     ]
    }
   ],
   "source": [
    "def prime(n):\n",
    " \n",
    "    i=1\n",
    "    c=0\n",
    "    while i<=n:\n",
    "        if n%i==0:\n",
    "            c+=1\n",
    "        i+=1\n",
    "    if c==2:\n",
    "        print(\"prime\")\n",
    "    else:\n",
    "        print(\"not prime\")\n",
    "prime(3)\n",
    "prime(5)\n",
    "prime(8)"
   ]
  },
  {
   "cell_type": "code",
   "execution_count": 9,
   "metadata": {},
   "outputs": [
    {
     "name": "stdout",
     "output_type": "stream",
     "text": [
      "perfect number\n",
      "not perfect number\n",
      "not perfect number\n"
     ]
    }
   ],
   "source": [
    "def perfect(n):\n",
    "    \n",
    "    i=1\n",
    "    s=0\n",
    "    while i<n:\n",
    "        if n%i==0:\n",
    "            s+=i\n",
    "        i+=1\n",
    "    if s==n:\n",
    "        print(\"perfect number\")\n",
    "    else:\n",
    "        print(\"not perfect number\")\n",
    "perfect(6)\n",
    "perfect(15)\n",
    "perfect(20)"
   ]
  },
  {
   "cell_type": "code",
   "execution_count": 10,
   "metadata": {},
   "outputs": [
    {
     "name": "stdout",
     "output_type": "stream",
     "text": [
      "zero\n",
      "positive\n",
      "negative\n"
     ]
    }
   ],
   "source": [
    "def checkvalue(n):\n",
    "    if n==0:\n",
    "        print(\"zero\")\n",
    "    elif n>0:\n",
    "        print(\"positive\")\n",
    "    else:\n",
    "        print(\"negative\")\n",
    "checkvalue(0)\n",
    "checkvalue(2)\n",
    "checkvalue(-8)"
   ]
  },
  {
   "cell_type": "code",
   "execution_count": 11,
   "metadata": {},
   "outputs": [
    {
     "name": "stdout",
     "output_type": "stream",
     "text": [
      "12\n",
      "55\n"
     ]
    }
   ],
   "source": [
    "def sum(n1,n2):\n",
    "    s=0\n",
    "    while n1<=n2:\n",
    "        s+=n1\n",
    "        n1+=1\n",
    "    print(s)\n",
    "sum(3,5)\n",
    "sum(9,13)"
   ]
  },
  {
   "cell_type": "code",
   "execution_count": 12,
   "metadata": {},
   "outputs": [
    {
     "name": "stdout",
     "output_type": "stream",
     "text": [
      "loohcs\n"
     ]
    }
   ],
   "source": [
    "def reverse(st):\n",
    "    res=\"\"\n",
    "    for i in st:\n",
    "        res=i+res\n",
    "    print(res)\n",
    "reverse('school')"
   ]
  },
  {
   "cell_type": "code",
   "execution_count": 13,
   "metadata": {},
   "outputs": [
    {
     "name": "stdout",
     "output_type": "stream",
     "text": [
      "40320\n",
      "720\n"
     ]
    }
   ],
   "source": [
    "def factorial(n):\n",
    "    i=1\n",
    "    fact=1\n",
    "    while i<=n:\n",
    "        fact=fact*i\n",
    "        i+=1\n",
    "    print(fact)\n",
    "factorial(8)\n",
    "factorial(6)"
   ]
  },
  {
   "cell_type": "code",
   "execution_count": 15,
   "metadata": {},
   "outputs": [
    {
     "name": "stdout",
     "output_type": "stream",
     "text": [
      "4\n",
      "5\n"
     ]
    }
   ],
   "source": [
    "def upper(s):\n",
    "    c=0\n",
    "    for i in s:\n",
    "        if i>='A' and i<='Z':\n",
    "            c+=1\n",
    "    print(c)\n",
    "upper(\"MahaLaksHMi\")\n",
    "upper(\"TITAN\")\n"
   ]
  },
  {
   "cell_type": "code",
   "execution_count": 16,
   "metadata": {},
   "outputs": [
    {
     "name": "stdout",
     "output_type": "stream",
     "text": [
      "schol\n",
      "encylopdia\n"
     ]
    }
   ],
   "source": [
    "def duplicate(st):\n",
    "    res=\"\"\n",
    "    for i in st:\n",
    "        if i not in res:\n",
    "            res+=i\n",
    "    print(res)\n",
    "duplicate(\"school\")\n",
    "duplicate(\"encyclopedia\")"
   ]
  },
  {
   "cell_type": "code",
   "execution_count": 18,
   "metadata": {},
   "outputs": [
    {
     "name": "stdout",
     "output_type": "stream",
     "text": [
      "[1, 2, 3, 4]\n",
      "[1, 2, 3, 4, 5, 6, 7, 8, 9]\n"
     ]
    }
   ],
   "source": [
    "def duplicate(l):\n",
    "    res=[]\n",
    "    for i in l:\n",
    "        if i not in res:\n",
    "            res+=[i]\n",
    "    print(res)\n",
    "duplicate([1,2,3,4,2,3,4,4])\n",
    "duplicate([1,2,3,4,5,6,7,7,8,9,])"
   ]
  },
  {
   "cell_type": "code",
   "execution_count": 20,
   "metadata": {},
   "outputs": [
    {
     "name": "stdout",
     "output_type": "stream",
     "text": [
      "43\n"
     ]
    }
   ],
   "source": [
    "def maxi(l):\n",
    "    mx=l[0]\n",
    "    for i in l:\n",
    "        if i>mx:\n",
    "            mx=i\n",
    "    print(mx)\n",
    "maxi([1,2,3,4,5,6,7,43,1,8])"
   ]
  }
 ],
 "metadata": {
  "kernelspec": {
   "display_name": "Python 3",
   "language": "python",
   "name": "python3"
  },
  "language_info": {
   "codemirror_mode": {
    "name": "ipython",
    "version": 3
   },
   "file_extension": ".py",
   "mimetype": "text/x-python",
   "name": "python",
   "nbconvert_exporter": "python",
   "pygments_lexer": "ipython3",
   "version": "3.12.1"
  }
 },
 "nbformat": 4,
 "nbformat_minor": 2
}
