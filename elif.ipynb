{
 "cells": [
  {
   "cell_type": "markdown",
   "metadata": {},
   "source": [
    "elif statement :\n",
    " syntax: if(condition1):\n",
    "              task 1\n",
    "         elif(condition2):\n",
    "              task 2\n",
    "        .\n",
    "        .\n",
    "        .\n",
    "        elif(condition n):\n",
    "               task n\n",
    "        else:\n",
    "           _____\n",
    "\n",
    "always starts with if(con..)\n",
    "here else statement is not mandatory"
   ]
  },
  {
   "cell_type": "code",
   "execution_count": 1,
   "metadata": {},
   "outputs": [
    {
     "name": "stdout",
     "output_type": "stream",
     "text": [
      "zero\n"
     ]
    }
   ],
   "source": [
    "num=int(input())\n",
    "if(num>0):\n",
    "    print('positive')\n",
    "elif(num<0) :\n",
    "    print('negative')\n",
    "elif(num==0):\n",
    "    print('zero')"
   ]
  },
  {
   "cell_type": "code",
   "execution_count": 2,
   "metadata": {},
   "outputs": [
    {
     "name": "stdout",
     "output_type": "stream",
     "text": [
      "odd\n"
     ]
    }
   ],
   "source": [
    "num=int(input())\n",
    "if(num==0):\n",
    "    print('zero')\n",
    "elif(num%2==0) :\n",
    "    print('even')\n",
    "elif(num%2==1):\n",
    "    print('odd')"
   ]
  },
  {
   "cell_type": "code",
   "execution_count": 3,
   "metadata": {},
   "outputs": [
    {
     "name": "stdout",
     "output_type": "stream",
     "text": [
      "fizzbuzz\n"
     ]
    }
   ],
   "source": [
    "num=int(input())\n",
    "if(num%3==0 and num%5==0):\n",
    "    print('fizzbuzz')\n",
    "elif(num%3==0) :\n",
    "    print('fizz')\n",
    "elif(num%5==0):\n",
    "    print('buzz')\n",
    "else:\n",
    "    print(num)"
   ]
  },
  {
   "cell_type": "code",
   "execution_count": 4,
   "metadata": {},
   "outputs": [
    {
     "name": "stdout",
     "output_type": "stream",
     "text": [
      "it is symbol\n"
     ]
    }
   ],
   "source": [
    "chr=input()\n",
    "if (chr>=\"A\"and chr<=\"Z\"):\n",
    "    print(\"uppercase\")\n",
    "elif( chr>=\"a\"and chr<=\"z\"):\n",
    "    print('lowercase')\n",
    "elif( chr>=\"0\"and chr<=\"9\"):\n",
    "    print('digit') \n",
    "else:\n",
    "    print('it is symbol')"
   ]
  }
 ],
 "metadata": {
  "kernelspec": {
   "display_name": "Python 3",
   "language": "python",
   "name": "python3"
  },
  "language_info": {
   "codemirror_mode": {
    "name": "ipython",
    "version": 3
   },
   "file_extension": ".py",
   "mimetype": "text/x-python",
   "name": "python",
   "nbconvert_exporter": "python",
   "pygments_lexer": "ipython3",
   "version": "3.12.1"
  }
 },
 "nbformat": 4,
 "nbformat_minor": 2
}
