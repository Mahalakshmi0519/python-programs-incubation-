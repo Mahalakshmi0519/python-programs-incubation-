{
 "cells": [
  {
   "cell_type": "markdown",
   "metadata": {},
   "source": [
    "elif statement :\n",
    " syntax: if(condition1):\n",
    "              task 1\n",
    "         elif(condition2):\n",
    "              task 2\n",
    "        .\n",
    "        .\n",
    "        .\n",
    "        elif(condition n):\n",
    "               task n\n",
    "        else:\n",
    "           _____\n",
    "\n",
    "always starts with if(con..)\n",
    "here else statement is not mandatory"
   ]
  },
  {
   "cell_type": "code",
   "execution_count": 1,
   "metadata": {},
   "outputs": [
    {
     "name": "stdout",
     "output_type": "stream",
     "text": [
      "zero\n"
     ]
    }
   ],
   "source": [
    "num=int(input())\n",
    "if(num>0):\n",
    "    print('positive')\n",
    "elif(num<0) :\n",
    "    print('negative')\n",
    "elif(num==0):\n",
    "    print('zero')"
   ]
  },
  {
   "cell_type": "code",
   "execution_count": 2,
   "metadata": {},
   "outputs": [
    {
     "name": "stdout",
     "output_type": "stream",
     "text": [
      "odd\n"
     ]
    }
   ],
   "source": [
    "num=int(input())\n",
    "if(num==0):\n",
    "    print('zero')\n",
    "elif(num%2==0) :\n",
    "    print('even')\n",
    "elif(num%2==1):\n",
    "    print('odd')"
   ]
  },
  {
   "cell_type": "code",
   "execution_count": 3,
   "metadata": {},
   "outputs": [
    {
     "name": "stdout",
     "output_type": "stream",
     "text": [
      "fizzbuzz\n"
     ]
    }
   ],
   "source": [
    "num=int(input())\n",
    "if(num%3==0 and num%5==0):\n",
    "    print('fizzbuzz')\n",
    "elif(num%3==0) :\n",
    "    print('fizz')\n",
    "elif(num%5==0):\n",
    "    print('buzz')\n",
    "else:\n",
    "    print(num)"
   ]
  },
  {
   "cell_type": "code",
   "execution_count": 4,
   "metadata": {},
   "outputs": [
    {
     "name": "stdout",
     "output_type": "stream",
     "text": [
      "it is symbol\n"
     ]
    }
   ],
   "source": [
    "ch=input()\n",
    "if (ch>=\"A\"and ch<=\"Z\"):\n",
    "    print(\"uppercase\")\n",
    "elif( ch>=\"a\"and ch<=\"z\"):\n",
    "    print('lowercase')\n",
    "elif( ch>=\"0\"and ch<=\"9\"):\n",
    "    print('digit') \n",
    "else:\n",
    "    print('it is symbol')"
   ]
  },
  {
   "cell_type": "code",
   "execution_count": 24,
   "metadata": {},
   "outputs": [
    {
     "ename": "TypeError",
     "evalue": "'str' object is not callable",
     "output_type": "error",
     "traceback": [
      "\u001b[1;31m---------------------------------------------------------------------------\u001b[0m",
      "\u001b[1;31mTypeError\u001b[0m                                 Traceback (most recent call last)",
      "Cell \u001b[1;32mIn[24], line 4\u001b[0m\n\u001b[0;32m      2\u001b[0m \u001b[38;5;28;01mif\u001b[39;00m(a\u001b[38;5;241m>\u001b[39m\u001b[38;5;241m=\u001b[39m\u001b[38;5;124m'\u001b[39m\u001b[38;5;124mA\u001b[39m\u001b[38;5;124m'\u001b[39m \u001b[38;5;129;01mand\u001b[39;00m a\u001b[38;5;241m<\u001b[39m\u001b[38;5;241m=\u001b[39m\u001b[38;5;124m\"\u001b[39m\u001b[38;5;124mZ\u001b[39m\u001b[38;5;124m\"\u001b[39m):\n\u001b[0;32m      3\u001b[0m     b\u001b[38;5;241m=\u001b[39m\u001b[38;5;28mord\u001b[39m(a)\u001b[38;5;241m+\u001b[39m\u001b[38;5;241m32\u001b[39m\n\u001b[1;32m----> 4\u001b[0m     c\u001b[38;5;241m=\u001b[39m\u001b[38;5;28;43mchr\u001b[39;49m\u001b[43m(\u001b[49m\u001b[43mb\u001b[49m\u001b[43m)\u001b[49m\n\u001b[0;32m      5\u001b[0m     \u001b[38;5;28mprint\u001b[39m(c)\n",
      "\u001b[1;31mTypeError\u001b[0m: 'str' object is not callable"
     ]
    }
   ],
   "source": [
    "a=input()\n",
    "if(a>='A' and a<=\"Z\"):\n",
    "    b=ord(a)+32\n",
    "    c=chr(b)\n",
    "    print(c)"
   ]
  }
 ],
 "metadata": {
  "kernelspec": {
   "display_name": "Python 3",
   "language": "python",
   "name": "python3"
  },
  "language_info": {
   "codemirror_mode": {
    "name": "ipython",
    "version": 3
   },
   "file_extension": ".py",
   "mimetype": "text/x-python",
   "name": "python",
   "nbconvert_exporter": "python",
   "pygments_lexer": "ipython3",
   "version": "3.12.1"
  }
 },
 "nbformat": 4,
 "nbformat_minor": 2
}
