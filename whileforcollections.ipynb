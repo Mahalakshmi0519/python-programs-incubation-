{
 "cells": [
  {
   "cell_type": "code",
   "execution_count": 1,
   "metadata": {},
   "outputs": [
    {
     "name": "stdout",
     "output_type": "stream",
     "text": [
      "p\n",
      "y\n",
      "t\n",
      "h\n",
      "o\n",
      "n\n"
     ]
    }
   ],
   "source": [
    "s=\"python\"\n",
    "i=0\n",
    "while i<len(s):\n",
    "    print(s[i])\n",
    "    i+=1"
   ]
  },
  {
   "cell_type": "code",
   "execution_count": 2,
   "metadata": {},
   "outputs": [
    {
     "name": "stdout",
     "output_type": "stream",
     "text": [
      "Y\n",
      "H\n",
      "O\n"
     ]
    }
   ],
   "source": [
    "s=\"pYtHOn\"\n",
    "i=0\n",
    "while i<len(s):\n",
    "    ch=s[i]\n",
    "    if ch>='A' and ch<=\"Z\":\n",
    "        print(ch)\n",
    "    i+=1"
   ]
  },
  {
   "cell_type": "code",
   "execution_count": 3,
   "metadata": {},
   "outputs": [
    {
     "name": "stdout",
     "output_type": "stream",
     "text": [
      "p\n",
      "t\n"
     ]
    }
   ],
   "source": [
    "s=\"pYtHOn\"\n",
    "i=0\n",
    "while i<len(s):\n",
    "    ch=s[i]\n",
    "    if i%2==0:\n",
    "        if ch>='a' and ch<=\"z\":\n",
    "            print(ch)\n",
    "    i+=1"
   ]
  },
  {
   "cell_type": "code",
   "execution_count": 4,
   "metadata": {},
   "outputs": [
    {
     "name": "stdout",
     "output_type": "stream",
     "text": [
      "e\n",
      "o\n",
      "e\n",
      "i\n",
      "a\n"
     ]
    }
   ],
   "source": [
    "s=\"encylopedia\"\n",
    "i=0\n",
    "while i<len(s):\n",
    "    ch=s[i]\n",
    "    if ch in \"AEIOUaeiou\":\n",
    "        print(ch)\n",
    "    i+=1"
   ]
  },
  {
   "cell_type": "code",
   "execution_count": 6,
   "metadata": {},
   "outputs": [
    {
     "name": "stdout",
     "output_type": "stream",
     "text": [
      "n\n",
      "c\n",
      "y\n",
      "l\n",
      "p\n",
      "d\n"
     ]
    }
   ],
   "source": [
    "s=\"encylopedia\"\n",
    "i=0\n",
    "while i<len(s):\n",
    "    ch=s[i]\n",
    "    if  ch>='a' and ch<=\"z\" or ch>='A' and ch<=\"Z\" :\n",
    "        if ch not in 'aeiouAEIOU':\n",
    "            print(ch)\n",
    "    i+=1"
   ]
  },
  {
   "cell_type": "code",
   "execution_count": 7,
   "metadata": {},
   "outputs": [
    {
     "name": "stdout",
     "output_type": "stream",
     "text": [
      "1\n",
      "2\n",
      "4\n",
      "5\n",
      "6\n",
      "87\n",
      "5\n",
      "4\n",
      "0\n"
     ]
    }
   ],
   "source": [
    "l=[1,2,4,5,6,87,5,4,0]\n",
    "i=0\n",
    "while i<len(l):\n",
    "    print(l[i])\n",
    "    i+=1"
   ]
  },
  {
   "cell_type": "code",
   "execution_count": 8,
   "metadata": {},
   "outputs": [
    {
     "name": "stdout",
     "output_type": "stream",
     "text": [
      "1\n",
      "5\n",
      "87\n",
      "5\n"
     ]
    }
   ],
   "source": [
    "l=[1,2,4,5,6,87,5,4,0]\n",
    "i=0\n",
    "while i<len(l):\n",
    "    if l[i]%2==1:\n",
    "        print(l[i])\n",
    "    i+=1"
   ]
  },
  {
   "cell_type": "code",
   "execution_count": 9,
   "metadata": {},
   "outputs": [
    {
     "name": "stdout",
     "output_type": "stream",
     "text": [
      "114\n"
     ]
    }
   ],
   "source": [
    "l=[1,2,4,5,6,87,5,4,0]\n",
    "i=0\n",
    "s=0\n",
    "while i<len(l):\n",
    "    s=s+l[i]\n",
    "    i+=1\n",
    "print(s)"
   ]
  },
  {
   "cell_type": "code",
   "execution_count": 11,
   "metadata": {},
   "outputs": [
    {
     "name": "stdout",
     "output_type": "stream",
     "text": [
      "2175\n"
     ]
    }
   ],
   "source": [
    "l=[1,2,4,5,6,87,5,4,0]\n",
    "i=0\n",
    "p=1\n",
    "while i<len(l):\n",
    "    if l[i]%2==1:\n",
    "        p=p*l[i]\n",
    "    i+=1\n",
    "print(p)"
   ]
  },
  {
   "cell_type": "code",
   "execution_count": 14,
   "metadata": {},
   "outputs": [
    {
     "name": "stdout",
     "output_type": "stream",
     "text": [
      "8\n"
     ]
    }
   ],
   "source": [
    "l=[1,2,3,4,4,5,6,7,8]\n",
    "g=l[0]\n",
    "i=1\n",
    "while i<len(l):\n",
    "    e=l[i]\n",
    "    if e>g:\n",
    "        g=e\n",
    "    i+=1\n",
    "print(g)"
   ]
  },
  {
   "cell_type": "code",
   "execution_count": 18,
   "metadata": {},
   "outputs": [
    {
     "name": "stdout",
     "output_type": "stream",
     "text": [
      "9\n"
     ]
    }
   ],
   "source": [
    "list=[1,2,3,4,4,5,6,7,8]\n",
    "g=list[0]\n",
    "l=list[0]\n",
    "i=1\n",
    "while i<len(list):\n",
    "    ele=list[i]\n",
    "    if ele>g:\n",
    "        g=ele\n",
    "    if ele<l:\n",
    "        l=ele\n",
    "    i+=1\n",
    "sum=g+l\n",
    "print(sum)"
   ]
  },
  {
   "cell_type": "code",
   "execution_count": null,
   "metadata": {},
   "outputs": [],
   "source": []
  }
 ],
 "metadata": {
  "kernelspec": {
   "display_name": "Python 3",
   "language": "python",
   "name": "python3"
  },
  "language_info": {
   "codemirror_mode": {
    "name": "ipython",
    "version": 3
   },
   "file_extension": ".py",
   "mimetype": "text/x-python",
   "name": "python",
   "nbconvert_exporter": "python",
   "pygments_lexer": "ipython3",
   "version": "3.12.1"
  }
 },
 "nbformat": 4,
 "nbformat_minor": 2
}
