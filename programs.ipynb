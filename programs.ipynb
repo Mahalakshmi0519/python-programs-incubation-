{
 "cells": [
  {
   "cell_type": "code",
   "execution_count": 3,
   "metadata": {},
   "outputs": [
    {
     "name": "stdout",
     "output_type": "stream",
     "text": [
      "[7, 8, 4, 10, 1, 2, 3, 4, 5]\n"
     ]
    }
   ],
   "source": [
    "#111\n",
    "l=[1,2,3,4,5]\n",
    "l1=[7,8,4,10]\n",
    "if type(l[0])==type(l1[0])==int:\n",
    "    l2=l1 + l\n",
    "    print(l2)\n",
    "else:\n",
    "    print(id(l))\n",
    "    print(id(l1))\n",
    " "
   ]
  },
  {
   "cell_type": "code",
   "execution_count": 5,
   "metadata": {},
   "outputs": [
    {
     "name": "stdout",
     "output_type": "stream",
     "text": [
      "-5\n"
     ]
    }
   ],
   "source": [
    "#110\n",
    "l=[1,2,3,4,5,6,7,8,9,0]\n",
    "a=l[0]\n",
    "b=l[len(l)//2]\n",
    "if a%2==b%2==0:\n",
    "    print(a+b)\n",
    "else:\n",
    "    print(a-b)"
   ]
  },
  {
   "cell_type": "code",
   "execution_count": 10,
   "metadata": {},
   "outputs": [
    {
     "name": "stdout",
     "output_type": "stream",
     "text": [
      "ravi buys pen\n"
     ]
    }
   ],
   "source": [
    "#109\n",
    "n=int(input())\n",
    "if (n==10):\n",
    "    pen=int(input())\n",
    "    if pen==10:\n",
    "        print('ravi buys pen')\n",
    "    else:\n",
    "        print('ravi comes outof shop')"
   ]
  },
  {
   "cell_type": "code",
   "execution_count": 14,
   "metadata": {},
   "outputs": [
    {
     "name": "stdout",
     "output_type": "stream",
     "text": [
      "print that cowprint that cowprint that cow\n"
     ]
    }
   ],
   "source": [
    "#108\n",
    "st=input()\n",
    "if len(st)>3 and (st[len(st)//2] in 'aeiouAEIOU') and ord(st[0])%2==0:\n",
    "    print(st*5)\n",
    "    print(st[(len(st)//2)-1])\n",
    "else:\n",
    "    if ord(st[0])%2==1:\n",
    "        st1='print that' + ' '+ st\n",
    "        print(st1*3)"
   ]
  },
  {
   "cell_type": "code",
   "execution_count": 29,
   "metadata": {},
   "outputs": [
    {
     "name": "stdout",
     "output_type": "stream",
     "text": [
      "m 140723368571672\n"
     ]
    }
   ],
   "source": [
    "#107\n",
    "st1='maha'\n",
    "st2='haha'\n",
    "if ( st1 is st2):\n",
    "    print(st2[-1])\n",
    "else:\n",
    "    print(st1[0] , id(st1[0]))\n"
   ]
  },
  {
   "cell_type": "code",
   "execution_count": 31,
   "metadata": {},
   "outputs": [
    {
     "name": "stdout",
     "output_type": "stream",
     "text": [
      "a\n",
      "h\n"
     ]
    }
   ],
   "source": [
    "#106\n",
    "c_1='maha'\n",
    "c_2='haha'\n",
    "if len(st1)==len(st2):\n",
    "    print(c_1[1])\n",
    "    print(c_2[2])\n",
    "else:\n",
    "    print(c_1)\n",
    "    print(c_2)\n"
   ]
  },
  {
   "cell_type": "code",
   "execution_count": 32,
   "metadata": {},
   "outputs": [
    {
     "name": "stdout",
     "output_type": "stream",
     "text": [
      "???\n",
      "?????\n"
     ]
    }
   ],
   "source": [
    "#105\n",
    "c=input()\n",
    "if not((c>=\"A\" and c<=\"Z\") or (c>=\"a\" and c<=\"z\") or (c>=\"0\" and c<=\"9\") ):\n",
    "    print(c*3)\n",
    "    print(c*5)"
   ]
  },
  {
   "cell_type": "code",
   "execution_count": 33,
   "metadata": {},
   "outputs": [
    {
     "name": "stdout",
     "output_type": "stream",
     "text": [
      "140723368508888\n",
      "140723368508888\n"
     ]
    }
   ],
   "source": [
    "#104\n",
    "ip1=int(input())\n",
    "ip2=int(input())\n",
    "if (ip1 is ip2):\n",
    "    print(id(ip1))\n",
    "    print(id(ip2))\n",
    "else:\n",
    "    print(ip1)\n",
    "    print(ip2)"
   ]
  },
  {
   "cell_type": "code",
   "execution_count": 34,
   "metadata": {},
   "outputs": [
    {
     "name": "stdout",
     "output_type": "stream",
     "text": [
      "7\n"
     ]
    }
   ],
   "source": [
    "#103\n",
    "n=int(input())\n",
    "if n%7==0 and n%5!=0:\n",
    "    print(n)\n",
    "else:\n",
    "    print(n*4)"
   ]
  },
  {
   "cell_type": "code",
   "execution_count": 35,
   "metadata": {},
   "outputs": [
    {
     "name": "stdout",
     "output_type": "stream",
     "text": [
      "aahm\n"
     ]
    }
   ],
   "source": [
    "#102\n",
    "s=input()\n",
    "new_s=s[-1]+s[1:-1]+s[0]\n",
    "print(new_s)\n"
   ]
  },
  {
   "cell_type": "code",
   "execution_count": 37,
   "metadata": {},
   "outputs": [
    {
     "name": "stdout",
     "output_type": "stream",
     "text": [
      "[8]\n"
     ]
    }
   ],
   "source": [
    "#9\n",
    "n=int(input())\n",
    "if(n%2==0):\n",
    "    l=[]\n",
    "    l+=[n]\n",
    "    print(l)"
   ]
  },
  {
   "cell_type": "code",
   "execution_count": 39,
   "metadata": {},
   "outputs": [
    {
     "name": "stdout",
     "output_type": "stream",
     "text": [
      "12\n"
     ]
    }
   ],
   "source": [
    "#12\n",
    "n=int(input())\n",
    "if(type(n)==int):\n",
    "    print(n+7)\n"
   ]
  },
  {
   "cell_type": "code",
   "execution_count": 41,
   "metadata": {},
   "outputs": [
    {
     "name": "stdout",
     "output_type": "stream",
     "text": [
      "1\n"
     ]
    }
   ],
   "source": [
    "#14\n",
    "n=int(input())\n",
    "if(n%10 >5):\n",
    "    print(n >> 2)"
   ]
  },
  {
   "cell_type": "code",
   "execution_count": 43,
   "metadata": {},
   "outputs": [
    {
     "name": "stdout",
     "output_type": "stream",
     "text": [
      "2 4\n"
     ]
    }
   ],
   "source": [
    "n=int(input())\n",
    "m=int(input())\n",
    "print(n,m)\n"
   ]
  },
  {
   "cell_type": "code",
   "execution_count": 1,
   "metadata": {},
   "outputs": [
    {
     "name": "stdout",
     "output_type": "stream",
     "text": [
      "{'A': 65}\n"
     ]
    }
   ],
   "source": [
    "#28\n",
    "c=input()\n",
    "if c>='a' and c<='z' or c>=\"A\" and c<=\"Z\":\n",
    "    v=ord(c)\n",
    "    d={c : v}s\n",
    "    print(d)"
   ]
  },
  {
   "cell_type": "code",
   "execution_count": 2,
   "metadata": {},
   "outputs": [
    {
     "name": "stdout",
     "output_type": "stream",
     "text": [
      "109\n"
     ]
    }
   ],
   "source": [
    "#32\n",
    "c=input()\n",
    "a=ord(c)\n",
    "if a>=0 and a<=127:\n",
    "    i=int(a)\n",
    "    print(i)"
   ]
  },
  {
   "cell_type": "code",
   "execution_count": 7,
   "metadata": {},
   "outputs": [
    {
     "name": "stdout",
     "output_type": "stream",
     "text": [
      "single valued datatype\n",
      "45\n"
     ]
    }
   ],
   "source": [
    "#38\n",
    "n=45\n",
    "if type(n) in [int,float,bool,complex,None]:\n",
    "    print('single valued datatype')\n",
    "    print(n)"
   ]
  },
  {
   "cell_type": "code",
   "execution_count": 10,
   "metadata": {},
   "outputs": [
    {
     "name": "stdout",
     "output_type": "stream",
     "text": [
      "multi-valued datatype\n",
      "(1, 2, 3, 4)\n"
     ]
    }
   ],
   "source": [
    "#39\n",
    "n=[1,2,3,4]\n",
    "if type(n) not in [int,float,bool,complex,None]:\n",
    "    print('multi-valued datatype')\n",
    "    print(tuple(n))"
   ]
  },
  {
   "cell_type": "code",
   "execution_count": 11,
   "metadata": {},
   "outputs": [
    {
     "name": "stdout",
     "output_type": "stream",
     "text": [
      "{'h', 'a', 'm'}\n"
     ]
    }
   ],
   "source": [
    "#40\n",
    "n='maha'\n",
    "if type(n)  in [int,float,bool,complex,str,tuple,set]:\n",
    "    print(set(n))"
   ]
  },
  {
   "cell_type": "code",
   "execution_count": 13,
   "metadata": {},
   "outputs": [
    {
     "name": "stdout",
     "output_type": "stream",
     "text": [
      "odd\n",
      "5\n"
     ]
    }
   ],
   "source": [
    "\n",
    "#41\n",
    "l=[1,2,3,4,5,6,7,8]\n",
    "l1=len(l)//2\n",
    "if l[l1]%2==1:\n",
    "    print('odd')\n",
    "    print(l[l1])\n",
    "else:\n",
    "    print(l[l1])"
   ]
  },
  {
   "cell_type": "code",
   "execution_count": 15,
   "metadata": {},
   "outputs": [
    {
     "name": "stdout",
     "output_type": "stream",
     "text": [
      "notabc\n"
     ]
    }
   ],
   "source": [
    "#42\n",
    "st=input()\n",
    "if 'not' in st:\n",
    "    print(st)\n",
    "else:\n",
    "    print('not'+st)"
   ]
  },
  {
   "cell_type": "code",
   "execution_count": 16,
   "metadata": {},
   "outputs": [
    {
     "name": "stdout",
     "output_type": "stream",
     "text": [
      "ma\n"
     ]
    }
   ],
   "source": [
    "#44\n",
    "c=input()\n",
    "if len(c)%2==0:\n",
    "    l=len(c)\n",
    "    print(c[0:l-2])"
   ]
  },
  {
   "cell_type": "code",
   "execution_count": 18,
   "metadata": {},
   "outputs": [
    {
     "name": "stdout",
     "output_type": "stream",
     "text": [
      "haha\n",
      "maha\n"
     ]
    }
   ],
   "source": [
    "#45\n",
    "s1=input()\n",
    "s2=input()\n",
    "if s1==s2:\n",
    "    print(\"same\")\n",
    "else:\n",
    "    s1,s2=s2,s1\n",
    "    print(s1)\n",
    "    print(s2)"
   ]
  },
  {
   "cell_type": "code",
   "execution_count": 22,
   "metadata": {},
   "outputs": [
    {
     "name": "stdout",
     "output_type": "stream",
     "text": [
      "{'<': 60}\n"
     ]
    }
   ],
   "source": [
    "#46\n",
    "c=input()\n",
    "if not((c>=\"A\" and c<=\"Z\") or (c>=\"a\" and c<=\"z\") or (c>=\"0\" and c<=\"9\") ):\n",
    "    \n",
    "    print(dict({c:ord(c)}))"
   ]
  },
  {
   "cell_type": "code",
   "execution_count": 3,
   "metadata": {},
   "outputs": [
    {
     "name": "stdout",
     "output_type": "stream",
     "text": [
      "{'a': 1, 'b': 2, 'c': 3, 'e': 4}\n"
     ]
    }
   ],
   "source": [
    "#47\n",
    "d={'a':1,'b':2,'c':3}\n",
    "k=input()\n",
    "if k in d:\n",
    "    print('present')\n",
    "else:\n",
    "    nv=4\n",
    "    d[k]=nv\n",
    "    print(d)"
   ]
  },
  {
   "cell_type": "code",
   "execution_count": 6,
   "metadata": {},
   "outputs": [
    {
     "name": "stdout",
     "output_type": "stream",
     "text": [
      "mahaakshmi\n"
     ]
    }
   ],
   "source": [
    "#51\n",
    "st=input()\n",
    "n=int(input())\n",
    "if 0<=n<len(st):\n",
    "    nst= st[:n]+st[n+1:]\n",
    "    print(nst)"
   ]
  },
  {
   "cell_type": "code",
   "execution_count": 8,
   "metadata": {},
   "outputs": [
    {
     "name": "stdout",
     "output_type": "stream",
     "text": [
      "abcd 4\n",
      "abcdgf 6\n"
     ]
    }
   ],
   "source": [
    "#52\n",
    "s1=input()\n",
    "s2=input()\n",
    "if not (s1==s2):\n",
    "    print(s1,len(s1))\n",
    "    print(s2,len(s2))"
   ]
  },
  {
   "cell_type": "code",
   "execution_count": 12,
   "metadata": {},
   "outputs": [
    {
     "name": "stdout",
     "output_type": "stream",
     "text": [
      "N\n"
     ]
    }
   ],
   "source": [
    "#56\n",
    "n=int(input())\n",
    "if 45<n<125:\n",
    "    \n",
    "    print(chr(n))"
   ]
  },
  {
   "cell_type": "code",
   "execution_count": 13,
   "metadata": {},
   "outputs": [
    {
     "name": "stdout",
     "output_type": "stream",
     "text": [
      "GOOD MORNING\n"
     ]
    }
   ],
   "source": [
    "#57\n",
    "a=int(input())\n",
    "b=int(input())\n",
    "if(a%3==a%5==0 and b%3==b%5==0):\n",
    "    print('GOOD MORNING')\n",
    "else:\n",
    "    print('GOOD EVENING')"
   ]
  },
  {
   "cell_type": "code",
   "execution_count": 15,
   "metadata": {},
   "outputs": [
    {
     "name": "stdout",
     "output_type": "stream",
     "text": [
      "5\n"
     ]
    }
   ],
   "source": [
    "#63\n",
    "n=int(input())\n",
    "if n%2==0:\n",
    "    print(n+1)\n",
    "else:\n",
    "    print(n+1)    "
   ]
  },
  {
   "cell_type": "code",
   "execution_count": 16,
   "metadata": {},
   "outputs": [
    {
     "name": "stdout",
     "output_type": "stream",
     "text": [
      "25\n"
     ]
    }
   ],
   "source": [
    "#66\n",
    "n=int(input())\n",
    "if(1<n<19):\n",
    "    print(n**2)\n",
    "else:\n",
    "    print(n**3)"
   ]
  },
  {
   "cell_type": "code",
   "execution_count": 19,
   "metadata": {},
   "outputs": [
    {
     "name": "stdout",
     "output_type": "stream",
     "text": [
      "6\n",
      "<class 'str'>\n"
     ]
    }
   ],
   "source": [
    "#65\n",
    "n=int(input())\n",
    "if(n%3==0 and n%5==0):\n",
    "    print(n)\n",
    "else:\n",
    "    n1=str(n)\n",
    "    print(n1)\n",
    "    print(type(n1))"
   ]
  },
  {
   "cell_type": "code",
   "execution_count": 20,
   "metadata": {},
   "outputs": [
    {
     "name": "stdout",
     "output_type": "stream",
     "text": [
      "{'C', 67}\n"
     ]
    }
   ],
   "source": [
    "#69\n",
    "n=int(input())\n",
    "if n<125 and 47<n<125:\n",
    "    print({n,chr(n)})\n",
    "else:\n",
    "    print(list(n))"
   ]
  },
  {
   "cell_type": "code",
   "execution_count": 22,
   "metadata": {},
   "outputs": [
    {
     "name": "stdout",
     "output_type": "stream",
     "text": [
      "102\n"
     ]
    }
   ],
   "source": [
    "#73\n",
    "c=input()\n",
    "if c>='A' and c<='Z':\n",
    "    a=ord(c)+32\n",
    "    print(chr(a))\n",
    "else:\n",
    "    print(ord(c))"
   ]
  },
  {
   "cell_type": "code",
   "execution_count": 26,
   "metadata": {},
   "outputs": [
    {
     "name": "stdout",
     "output_type": "stream",
     "text": [
      "(]}\n"
     ]
    }
   ],
   "source": [
    "#75\n",
    "st=input()\n",
    "if not(c>='A' and c<='Z' or c>='a' and c<='z' or c>='0' and c<='9') :\n",
    "    m=len(st)//2\n",
    "    print(st[m])\n",
    "else:\n",
    "    rev_st=st[::-1]\n",
    "    m=len(rev_st)//2\n",
    "    print(rev_st[:m])"
   ]
  },
  {
   "cell_type": "code",
   "execution_count": 28,
   "metadata": {},
   "outputs": [
    {
     "name": "stdout",
     "output_type": "stream",
     "text": [
      "j\n"
     ]
    }
   ],
   "source": [
    "#77\n",
    "c=input()\n",
    "if c in 'aeiouAEIOU':\n",
    "    a=ord(c)\n",
    "    print(chr(a+1))\n",
    "else:\n",
    "    b=ord(c)\n",
    "    print(chr(b-1))\n"
   ]
  },
  {
   "cell_type": "code",
   "execution_count": 30,
   "metadata": {},
   "outputs": [
    {
     "name": "stdout",
     "output_type": "stream",
     "text": [
      "aham\n"
     ]
    }
   ],
   "source": [
    "#78\n",
    "st=input()\n",
    "c=st[0]\n",
    "if (c>='A' and c<='Z' or c>='a' and c<='z'):\n",
    "    rev_st=st[::-1]\n",
    "    print(rev_st)\n",
    "else:\n",
    "    print(st[len(st)//2])\n"
   ]
  },
  {
   "cell_type": "code",
   "execution_count": 31,
   "metadata": {},
   "outputs": [
    {
     "name": "stdout",
     "output_type": "stream",
     "text": [
      "lakshmi\n"
     ]
    }
   ],
   "source": [
    "#80\n",
    "st=input()\n",
    "l=len(st)//2\n",
    "if l<3:\n",
    "    print(st)\n",
    "else:\n",
    "    x=st[3+1:]\n",
    "    print(x)"
   ]
  },
  {
   "cell_type": "code",
   "execution_count": 1,
   "metadata": {},
   "outputs": [
    {
     "name": "stdout",
     "output_type": "stream",
     "text": [
      "choo\n"
     ]
    }
   ],
   "source": [
    "#82\n",
    "s=input()\n",
    "if len(s)%2==1:\n",
    "    print('haii'+s)\n",
    "else:\n",
    "    s1=s[1:-1]\n",
    "    print(s1)"
   ]
  },
  {
   "cell_type": "code",
   "execution_count": 7,
   "metadata": {},
   "outputs": [
    {
     "name": "stdout",
     "output_type": "stream",
     "text": [
      "ght\n"
     ]
    }
   ],
   "source": [
    "#83\n",
    "s=input()\n",
    "c=s[-1]\n",
    "if not(c>='A' and c<='Z' or c>='a' and c<='z' or c>='0' and c<='9') :\n",
    "    rev_s=s[::-1]\n",
    "    l_c=rev_s[:-1]\n",
    "    print(l_c)\n",
    "elif(len(s)%2==1):\n",
    "    m=len(s)//2\n",
    "    m_e=s[m:]\n",
    "    print(m_e)"
   ]
  },
  {
   "cell_type": "code",
   "execution_count": 9,
   "metadata": {},
   "outputs": [
    {
     "name": "stdout",
     "output_type": "stream",
     "text": [
      "value is not available\n"
     ]
    }
   ],
   "source": [
    "#86\n",
    "v=input()\n",
    "c=input()\n",
    "if v in c:\n",
    "    print('value is availablr')\n",
    "else:\n",
    "    print('value is not available')"
   ]
  },
  {
   "cell_type": "code",
   "execution_count": 11,
   "metadata": {},
   "outputs": [
    {
     "name": "stdout",
     "output_type": "stream",
     "text": [
      "ononon\n"
     ]
    }
   ],
   "source": [
    "#87\n",
    "s=input()\n",
    "if len(s)>2:\n",
    "    new_s=s[-1]+s[1:-1]+s[0]\n",
    "    print(new_s)\n",
    "else:\n",
    "    print(s*3)"
   ]
  },
  {
   "cell_type": "code",
   "execution_count": 12,
   "metadata": {},
   "outputs": [
    {
     "name": "stdout",
     "output_type": "stream",
     "text": [
      "[0.3333333333333333, 2, 3, 4, 5, 6, 7, -9]\n"
     ]
    }
   ],
   "source": [
    "#88\n",
    "l=[1,2,3,4,5,6,7,8]\n",
    "if type(l[0]==type(l[-1])==int):\n",
    "    l[0]=l[0]/3\n",
    "    l[-1]=~l[-1]\n",
    "    print(l)\n",
    "else:\n",
    "    print(l**2)"
   ]
  },
  {
   "cell_type": "code",
   "execution_count": 14,
   "metadata": {},
   "outputs": [
    {
     "name": "stdout",
     "output_type": "stream",
     "text": [
      "twentstringyfive\n"
     ]
    }
   ],
   "source": [
    "#89\n",
    "s=input()\n",
    "if type(s)==str and len(s)>7:\n",
    "    m=len(s)//2\n",
    "    n='string'\n",
    "    x=s[0:m]+n+s[m:]\n",
    "    print(x)\n",
    "else:\n",
    "    print(s*3)"
   ]
  },
  {
   "cell_type": "code",
   "execution_count": 17,
   "metadata": {},
   "outputs": [
    {
     "name": "stdout",
     "output_type": "stream",
     "text": [
      "a b\n",
      "g f\n"
     ]
    }
   ],
   "source": [
    "#90\n",
    "s=input()\n",
    "if ord(s[0])+1==ord(s[1]):\n",
    "    print(s[0],s[1])\n",
    "    print(s[-1],s[-2])\n",
    "else:\n",
    "    m=len(s)//2\n",
    "    r_fh=s[:m][::-1]\n",
    "    sh=s[m:]\n",
    "    n=r_fh+sh\n",
    "    print(n)"
   ]
  },
  {
   "cell_type": "code",
   "execution_count": 20,
   "metadata": {},
   "outputs": [
    {
     "name": "stdout",
     "output_type": "stream",
     "text": [
      "{'1': 'a', '2': 'b', '3': 'c', '4': 'd'}\n"
     ]
    }
   ],
   "source": [
    "#92\n",
    "dic={'1':'a','2':'b','3':'c'}\n",
    "k=input()\n",
    "if k in dic:\n",
    "    print(dic[k])\n",
    "else:\n",
    "    newvalue='d'\n",
    "    dic[k]=newvalue\n",
    "    print(dic)"
   ]
  },
  {
   "cell_type": "code",
   "execution_count": 5,
   "metadata": {},
   "outputs": [
    {
     "name": "stdout",
     "output_type": "stream",
     "text": [
      "{1, 2, 3, 4, '8'}\n"
     ]
    }
   ],
   "source": [
    "#93\n",
    "c={1,2,3,4}\n",
    "if type(c)==set:\n",
    "    n=input()\n",
    "    c.add(n)\n",
    "    print(c)\n",
    "else:\n",
    "    a=set(c)\n",
    "    print(a)\n",
    "    print(type(a))"
   ]
  },
  {
   "cell_type": "code",
   "execution_count": 28,
   "metadata": {},
   "outputs": [
    {
     "name": "stdout",
     "output_type": "stream",
     "text": [
      "madam palindrome\n"
     ]
    }
   ],
   "source": [
    "#95\n",
    "s=input()\n",
    "s1=s[::-1]\n",
    "if s==s1:\n",
    "    print(s,'palindrome')\n",
    "else:\n",
    "    print('not palindrome')"
   ]
  },
  {
   "cell_type": "code",
   "execution_count": 33,
   "metadata": {},
   "outputs": [
    {
     "name": "stdout",
     "output_type": "stream",
     "text": [
      "s 140732719641656\n",
      "l 140732719641320\n"
     ]
    }
   ],
   "source": [
    "#99\n",
    "c1='school'\n",
    "c2='spoon'\n",
    "if c1 is c2:\n",
    "    print(c2[len(c2)//2])\n",
    "else:\n",
    "    print(c1[0],id(c1[0]))\n",
    "    print(c1[-1],id(c1[-1]))"
   ]
  },
  {
   "cell_type": "code",
   "execution_count": 34,
   "metadata": {},
   "outputs": [
    {
     "name": "stdout",
     "output_type": "stream",
     "text": [
      "bagcat\n"
     ]
    }
   ],
   "source": [
    "#98\n",
    "s=input()\n",
    "p=input()\n",
    "if len(s)==len(p):\n",
    "    print(s+p)\n",
    "else:\n",
    "    print(s,len(s))\n",
    "    print(p,len(p))"
   ]
  },
  {
   "cell_type": "code",
   "execution_count": 35,
   "metadata": {},
   "outputs": [
    {
     "name": "stdout",
     "output_type": "stream",
     "text": [
      "abcdefghijklmnopqrstuvwxyzabcdefghijklmnopqrstuvwxyzabcdefghijklmnopqrstuvwxyz\n"
     ]
    }
   ],
   "source": [
    "#100\n",
    "s=input()\n",
    "if len(s)>10 and ord(s[0])+ord(s[-1])%5==0:\n",
    "    p=s[0]\n",
    "    q=s[len(s)//2]\n",
    "    r=s[-1]\n",
    "    print(p,ord(p))\n",
    "    print(q,ord(q))\n",
    "    print(r,ord(r))\n",
    "else:\n",
    "    print(s*3)    "
   ]
  },
  {
   "cell_type": "code",
   "execution_count": 36,
   "metadata": {},
   "outputs": [
    {
     "name": "stdout",
     "output_type": "stream",
     "text": [
      "[1, 2, 3, 'xyz', 4, 5, 6]\n"
     ]
    }
   ],
   "source": [
    "#101\n",
    "l=[1,2,3,'xyz',4,5,6]\n",
    "m=len(l)//2\n",
    "if type(l[m])==str :\n",
    "    print(l)\n",
    "else:\n",
    "    print(l[m])"
   ]
  },
  {
   "cell_type": "code",
   "execution_count": 37,
   "metadata": {},
   "outputs": [
    {
     "name": "stdout",
     "output_type": "stream",
     "text": [
      "9\n"
     ]
    }
   ],
   "source": [
    "#101\n",
    "l=[1,2,3,7,9,4,5,6]\n",
    "m=len(l)//2\n",
    "if type(l[m])==str :\n",
    "    print(l)\n",
    "else:\n",
    "    print(l[m])"
   ]
  }
 ],
 "metadata": {
  "kernelspec": {
   "display_name": "Python 3",
   "language": "python",
   "name": "python3"
  },
  "language_info": {
   "codemirror_mode": {
    "name": "ipython",
    "version": 3
   },
   "file_extension": ".py",
   "mimetype": "text/x-python",
   "name": "python",
   "nbconvert_exporter": "python",
   "pygments_lexer": "ipython3",
   "version": "3.12.1"
  }
 },
 "nbformat": 4,
 "nbformat_minor": 2
}
