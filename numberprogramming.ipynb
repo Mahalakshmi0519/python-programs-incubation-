{
 "cells": [
  {
   "cell_type": "code",
   "execution_count": 1,
   "metadata": {},
   "outputs": [
    {
     "name": "stdout",
     "output_type": "stream",
     "text": [
      "3\n",
      "2\n",
      "1\n"
     ]
    }
   ],
   "source": [
    "n=123                         # general approach\n",
    "print(n%10)\n",
    "n=n//10\n",
    "print(n%10)\n",
    "n=n//10\n",
    "print(n%10)\n",
    "n=n//10"
   ]
  },
  {
   "cell_type": "code",
   "execution_count": 3,
   "metadata": {},
   "outputs": [
    {
     "name": "stdout",
     "output_type": "stream",
     "text": [
      "3\n",
      "2\n",
      "1\n"
     ]
    }
   ],
   "source": [
    "n=123                         # looping approach\n",
    "while n!=0:\n",
    "    print(n%10)\n",
    "n=n//10"
   ]
  },
  {
   "cell_type": "code",
   "execution_count": 4,
   "metadata": {},
   "outputs": [
    {
     "name": "stdout",
     "output_type": "stream",
     "text": [
      "6\n"
     ]
    }
   ],
   "source": [
    "n=123 \n",
    "s=0                       \n",
    "while n!=0:\n",
    "    d=n%10\n",
    "    s=s+d\n",
    "    n=n//10\n",
    "print(s)"
   ]
  },
  {
   "cell_type": "code",
   "execution_count": 5,
   "metadata": {},
   "outputs": [
    {
     "name": "stdout",
     "output_type": "stream",
     "text": [
      "6\n"
     ]
    }
   ],
   "source": [
    "n=123 \n",
    "p=1                       \n",
    "while n!=0:\n",
    "    d=n%10\n",
    "    p=p*d\n",
    "    n=n//10\n",
    "print(p)"
   ]
  },
  {
   "cell_type": "code",
   "execution_count": 6,
   "metadata": {},
   "outputs": [
    {
     "name": "stdout",
     "output_type": "stream",
     "text": [
      "6\n",
      "6\n",
      "spy number\n"
     ]
    }
   ],
   "source": [
    "n=123 \n",
    "s=0   \n",
    "p=1                     \n",
    "while n!=0:\n",
    "    d=n%10\n",
    "    s=s+d\n",
    "    p=p*d\n",
    "    n=n//10\n",
    "print(s)\n",
    "print(p)\n",
    "if s==p:\n",
    "    print('spy number')\n",
    "else:\n",
    "    print('not a spy number')"
   ]
  },
  {
   "cell_type": "code",
   "execution_count": 7,
   "metadata": {},
   "outputs": [
    {
     "name": "stdout",
     "output_type": "stream",
     "text": [
      "5\n",
      "3\n",
      "1\n"
     ]
    }
   ],
   "source": [
    "n=int(input())\n",
    "while n!=0:\n",
    "    a=n%10\n",
    "    if a%2==1:\n",
    "        print(a)\n",
    "    n=n//10"
   ]
  },
  {
   "cell_type": "code",
   "execution_count": 8,
   "metadata": {},
   "outputs": [
    {
     "name": "stdout",
     "output_type": "stream",
     "text": [
      "20\n"
     ]
    }
   ],
   "source": [
    "n=int(input())\n",
    "s=0\n",
    "while n!=0:\n",
    "    a=n%10\n",
    "    if a%2==0:\n",
    "        s=s+a\n",
    "    n=n//10\n",
    "print(s)"
   ]
  },
  {
   "cell_type": "code",
   "execution_count": 10,
   "metadata": {},
   "outputs": [
    {
     "name": "stdout",
     "output_type": "stream",
     "text": [
      "15\n"
     ]
    }
   ],
   "source": [
    "n=123000099987654\n",
    "count=0                        \n",
    "while n!=0:\n",
    "    count+=1\n",
    "    n=n//10\n",
    "print(count)"
   ]
  },
  {
   "cell_type": "code",
   "execution_count": 14,
   "metadata": {},
   "outputs": [
    {
     "name": "stdout",
     "output_type": "stream",
     "text": [
      "not Harshad number\n"
     ]
    }
   ],
   "source": [
    "n=int(input())\n",
    "n1=n\n",
    "s=0                        \n",
    "while n!=0:\n",
    "    d=n%10\n",
    "    s=s+d\n",
    "    n=n//10\n",
    "if n1%s==0:\n",
    "    print('Harshad number')\n",
    "else:\n",
    "    print('not Harshad number')"
   ]
  },
  {
   "cell_type": "code",
   "execution_count": 6,
   "metadata": {},
   "outputs": [
    {
     "name": "stdout",
     "output_type": "stream",
     "text": [
      "7\n"
     ]
    }
   ],
   "source": [
    "n=int(input())\n",
    "max=n%10\n",
    "while n!=0:\n",
    "    d=n%10\n",
    "    if d>max:\n",
    "        \n",
    "        max=d\n",
    "    n=n//10\n",
    "print(max)\n"
   ]
  },
  {
   "cell_type": "code",
   "execution_count": 10,
   "metadata": {},
   "outputs": [
    {
     "name": "stdout",
     "output_type": "stream",
     "text": [
      "max occuring digit 2\n"
     ]
    }
   ],
   "source": [
    "num1=int(input())\n",
    "list=[0]*10\n",
    "\n",
    "while num1!=0:\n",
    "    d=num1%10\n",
    "    list[d]+=1\n",
    "    num1=num1//10\n",
    "\n",
    "max_count=0\n",
    "max_d=0\n",
    "i=0\n",
    "while i<10:\n",
    "    if list[i]>max_count:\n",
    "        max_count=list[i]\n",
    "        max_d=i\n",
    "    i+=1\n",
    "\n",
    "print('max occuring digit',max_d)\n",
    "\n"
   ]
  },
  {
   "cell_type": "code",
   "execution_count": 11,
   "metadata": {},
   "outputs": [
    {
     "name": "stdout",
     "output_type": "stream",
     "text": [
      "6\n"
     ]
    }
   ],
   "source": [
    "n=int(input())\n",
    "last=n%10\n",
    "while n>=10:\n",
    "    n=n//10\n",
    "\n",
    "sum=n+last\n",
    "print(sum)\n"
   ]
  },
  {
   "cell_type": "code",
   "execution_count": 5,
   "metadata": {},
   "outputs": [
    {
     "name": "stdout",
     "output_type": "stream",
     "text": [
      "2 1\n",
      "1 2\n",
      "1 2\n"
     ]
    }
   ],
   "source": [
    "n=112\n",
    "n1=n\n",
    "while n!=0:\n",
    "    n2=n1\n",
    "    d=n%10\n",
    "    c=0\n",
    "    while n2!=0:\n",
    "        if d==n2%10:\n",
    "            c+=1\n",
    "        n2//=10\n",
    "    print(d,c)\n",
    "    n//=10"
   ]
  },
  {
   "cell_type": "code",
   "execution_count": 9,
   "metadata": {},
   "outputs": [
    {
     "name": "stdout",
     "output_type": "stream",
     "text": [
      "3 6\n",
      "2 2\n",
      "1 1\n"
     ]
    }
   ],
   "source": [
    "n=int(input())\n",
    "while n!=0:\n",
    "    d=n%10\n",
    "    fact=1\n",
    "    i=1\n",
    "    while i<=d:\n",
    "        fact=fact*i\n",
    "        i+=1\n",
    "    print(d,fact)\n",
    "    n=n//10"
   ]
  },
  {
   "cell_type": "code",
   "execution_count": 10,
   "metadata": {},
   "outputs": [
    {
     "name": "stdout",
     "output_type": "stream",
     "text": [
      "9\n"
     ]
    }
   ],
   "source": [
    "n=int(input())\n",
    "s=0\n",
    "while n!=0:\n",
    "    d=n%10\n",
    "    fact=1\n",
    "    i=1\n",
    "    while i<=d:\n",
    "        fact=fact*i\n",
    "        i+=1\n",
    "    s=s+fact\n",
    "\n",
    "    n=n//10\n",
    "print(s)"
   ]
  },
  {
   "cell_type": "code",
   "execution_count": null,
   "metadata": {},
   "outputs": [],
   "source": []
  },
  {
   "cell_type": "code",
   "execution_count": 32,
   "metadata": {},
   "outputs": [
    {
     "name": "stdout",
     "output_type": "stream",
     "text": [
      "not a buzz number\n"
     ]
    }
   ],
   "source": [
    "#buzz number\n",
    "n=int(input())\n",
    "n1=n\n",
    "\n",
    "c=0\n",
    "while n!=0 :\n",
    "    c+=1\n",
    "    if c<=1:\n",
    "        d=n%10   \n",
    "    n=n//10\n",
    "if n1%7==0 or d==7:\n",
    "    print(\"buzz number\")\n",
    "    \n",
    "else:\n",
    "    print(\"not a buzz number\")\n",
    "\n"
   ]
  },
  {
   "cell_type": "code",
   "execution_count": 8,
   "metadata": {},
   "outputs": [
    {
     "name": "stdout",
     "output_type": "stream",
     "text": [
      "25\n",
      "625\n",
      "25\n",
      "automorphic number\n"
     ]
    }
   ],
   "source": [
    "#automorphic number\n",
    "n=int(input())\n",
    "sq=n**2\n",
    "print(n)\n",
    "print(sq)\n",
    "n1=n\n",
    "c=0\n",
    "while n!=0:\n",
    "    c+=1\n",
    "    n=n//10\n",
    "d=10**(c)\n",
    "n2=sq%d\n",
    "print(n2)\n",
    "if n1==n2:\n",
    "    print(\"automorphic number\")\n",
    "else:\n",
    "    print(\"not automorphic number\")"
   ]
  },
  {
   "cell_type": "code",
   "execution_count": 14,
   "metadata": {},
   "outputs": [
    {
     "name": "stdout",
     "output_type": "stream",
     "text": [
      "3\n",
      "sunny number\n"
     ]
    }
   ],
   "source": [
    "#sunny number\n",
    "n=int(input())\n",
    "n1=n+1\n",
    "c=0\n",
    "while n!=0:\n",
    "    c+=1\n",
    "    if c<=1:\n",
    "        x=(n1)**0.5\n",
    "        print(x)\n",
    "    n=n//10\n",
    "if type(x)==int:\n",
    "    print(\"sunny number\")\n",
    "else:\n",
    "    print(\"not sunny number\")\n"
   ]
  },
  {
   "cell_type": "code",
   "execution_count": 3,
   "metadata": {},
   "outputs": [
    {
     "name": "stdout",
     "output_type": "stream",
     "text": [
      "2025\n",
      "20\n",
      "25\n",
      "45\n",
      "2025\n",
      "tech number\n"
     ]
    }
   ],
   "source": [
    "#tech number\n",
    "n=int(input())\n",
    "print(n)\n",
    "n1=n\n",
    "n2=n\n",
    "c=0\n",
    "while n!=0:\n",
    "    c+=1\n",
    "    n=n//10\n",
    "if c%2==0:\n",
    "    l=c//2\n",
    "    f=n1//10**l  # 1st half number\n",
    "    print(f)\n",
    "    l=n1%10**l  # 2nd half number\n",
    "    print(l)\n",
    "    sum=f+l\n",
    "    print(sum)\n",
    "    sumsq=sum**2\n",
    "    print(sumsq)\n",
    "if sumsq==n2:\n",
    "    print(\"tech number\")\n",
    "else:\n",
    "    print(\"not tech number\")\n"
   ]
  },
  {
   "cell_type": "code",
   "execution_count": 4,
   "metadata": {},
   "outputs": [
    {
     "name": "stdout",
     "output_type": "stream",
     "text": [
      "<class 'int'>\n"
     ]
    }
   ],
   "source": [
    "#fascinating number\n",
    "n=int(input())\n",
    "n1=str(n)+str(n*2)+str(n*3)\n",
    "n1=int(n1)\n",
    "print(type(n1))\n",
    "l=[0]*10\n"
   ]
  }
 ],
 "metadata": {
  "kernelspec": {
   "display_name": "Python 3",
   "language": "python",
   "name": "python3"
  },
  "language_info": {
   "codemirror_mode": {
    "name": "ipython",
    "version": 3
   },
   "file_extension": ".py",
   "mimetype": "text/x-python",
   "name": "python",
   "nbconvert_exporter": "python",
   "pygments_lexer": "ipython3",
   "version": "3.12.1"
  }
 },
 "nbformat": 4,
 "nbformat_minor": 2
}
