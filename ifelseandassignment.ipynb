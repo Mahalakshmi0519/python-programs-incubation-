{
 "cells": [
  {
   "cell_type": "code",
   "execution_count": 1,
   "metadata": {},
   "outputs": [
    {
     "name": "stdout",
     "output_type": "stream",
     "text": [
      "169\n"
     ]
    }
   ],
   "source": [
    "#if else --> if(condition):  \n",
    "#                   tsb   \n",
    "#            else:       \n",
    "#                   fsb   \n",
    "\n",
    "num=int(input())\n",
    "if(num>10):\n",
    "    print(num**2)\n",
    "else:\n",
    "    print(num)\n",
    "\n"
   ]
  },
  {
   "cell_type": "code",
   "execution_count": 2,
   "metadata": {},
   "outputs": [
    {
     "name": "stdout",
     "output_type": "stream",
     "text": [
      "8\n"
     ]
    }
   ],
   "source": [
    "num=int(input())\n",
    "if(num>10):\n",
    "    print(num**2)\n",
    "else:\n",
    "    print(num)"
   ]
  },
  {
   "cell_type": "code",
   "execution_count": 3,
   "metadata": {},
   "outputs": [
    {
     "name": "stdout",
     "output_type": "stream",
     "text": [
      "361\n"
     ]
    }
   ],
   "source": [
    "num=int(input('enter the input:'))\n",
    "if(num>10):\n",
    "    print(num**2)\n",
    "else:\n",
    "    print(num)"
   ]
  },
  {
   "cell_type": "code",
   "execution_count": 4,
   "metadata": {},
   "outputs": [
    {
     "name": "stdout",
     "output_type": "stream",
     "text": [
      "equal to 15\n"
     ]
    }
   ],
   "source": [
    "num=int(input('enter the input:'))\n",
    "if(num==15):\n",
    "    print('equal to 15')\n",
    "else:\n",
    "    print('not equal ')"
   ]
  },
  {
   "cell_type": "code",
   "execution_count": 5,
   "metadata": {},
   "outputs": [
    {
     "name": "stdout",
     "output_type": "stream",
     "text": [
      "not divisible by 4\n"
     ]
    }
   ],
   "source": [
    "num=int(input())\n",
    "if(num%4==0):\n",
    "    print('divisible by 4')\n",
    "else:\n",
    "    print('not divisible by 4')"
   ]
  },
  {
   "cell_type": "code",
   "execution_count": 6,
   "metadata": {},
   "outputs": [
    {
     "name": "stdout",
     "output_type": "stream",
     "text": [
      "96\n"
     ]
    }
   ],
   "source": [
    "num=int(input())\n",
    "if(num>21 and num<35 and num%2==0):\n",
    "    print(num*3)\n",
    "else:\n",
    "    print(num-20)"
   ]
  },
  {
   "cell_type": "code",
   "execution_count": 9,
   "metadata": {},
   "outputs": [
    {
     "name": "stdout",
     "output_type": "stream",
     "text": [
      "it's an alphabet\n"
     ]
    }
   ],
   "source": [
    "chr=input()\n",
    "if(( chr>=\"A\"and chr<=\"Z\") or ( chr>=\"a\"and chr<=\"z\") ):\n",
    "    print(\"it's an alphabet\")\n",
    "else:\n",
    "    print('not alphabet')"
   ]
  },
  {
   "cell_type": "code",
   "execution_count": 10,
   "metadata": {},
   "outputs": [
    {
     "name": "stdout",
     "output_type": "stream",
     "text": [
      "it's a digit\n"
     ]
    }
   ],
   "source": [
    "chr=input()\n",
    "if( chr>=\"0\"and chr<=\"9\"):\n",
    "    print(\"it's a digit\")\n",
    "else:\n",
    "    print('not a digit')"
   ]
  },
  {
   "cell_type": "code",
   "execution_count": 11,
   "metadata": {},
   "outputs": [
    {
     "name": "stdout",
     "output_type": "stream",
     "text": [
      "it is symbol\n"
     ]
    }
   ],
   "source": [
    "chr=input()\n",
    "if( (chr>=\"A\"and chr<=\"Z\") or ( chr>=\"a\"and chr<=\"z\") or ( chr>=\"0\"and chr<=\"9\")):\n",
    "    print(\"not a symbol\")\n",
    "else:\n",
    "    print('it is symbol')"
   ]
  },
  {
   "cell_type": "code",
   "execution_count": 12,
   "metadata": {},
   "outputs": [
    {
     "name": "stdout",
     "output_type": "stream",
     "text": [
      "109\n"
     ]
    }
   ],
   "source": [
    "chr=input()\n",
    "if(( chr>=\"A\"and chr<=\"Z\") or ( chr>=\"a\"and chr<=\"z\") ):\n",
    "    print(ord(chr))\n",
    "else:\n",
    "    print(chr)"
   ]
  },
  {
   "cell_type": "code",
   "execution_count": 13,
   "metadata": {},
   "outputs": [
    {
     "name": "stdout",
     "output_type": "stream",
     "text": [
      "HAPPY DIWALI\n"
     ]
    }
   ],
   "source": [
    "chr=input()\n",
    "if( not((chr>=\"A\"and chr<=\"Z\") or ( chr>=\"a\"and chr<=\"z\") or ( chr>=\"0\"and chr<=\"9\") and (ord(chr)>70))):\n",
    "    print(\"HAPPY DIWALI\")\n",
    "else:\n",
    "    print('come on wednesday')"
   ]
  },
  {
   "cell_type": "code",
   "execution_count": null,
   "metadata": {},
   "outputs": [
    {
     "name": "stdout",
     "output_type": "stream",
     "text": [
      "HAPPY DIWALI\n"
     ]
    }
   ],
   "source": [
    "chr=input()\n",
    "if( not((chr>=\"A\"and chr<=\"Z\") or ( chr>=\"a\"and chr<=\"z\") or ( chr>=\"0\"and chr<=\"9\") and (ord(chr)>70))):\n",
    "    print(\"HAPPY DIWALI\")\n",
    "else:\n",
    "    print('come on wednesday')"
   ]
  },
  {
   "cell_type": "code",
   "execution_count": 2,
   "metadata": {},
   "outputs": [
    {
     "name": "stdout",
     "output_type": "stream",
     "text": [
      "it's a VOWEL\n"
     ]
    }
   ],
   "source": [
    "chr=input()\n",
    "if( chr in 'aeiouAEIOU' and (chr>=\"A\"and chr<=\"Z\") or ( chr>=\"a\"and chr<=\"z\")):\n",
    "    print(\"it's a VOWEL\")\n",
    "else:\n",
    "    print('not a VOWEL')"
   ]
  },
  {
   "cell_type": "code",
   "execution_count": 3,
   "metadata": {},
   "outputs": [
    {
     "name": "stdout",
     "output_type": "stream",
     "text": [
      "it's a CONSONANT\n"
     ]
    }
   ],
   "source": [
    "chr=input()\n",
    "if( chr not in 'aeiouAEIOU' and (chr>=\"A\"and chr<=\"Z\") or ( chr>=\"a\"and chr<=\"z\")):\n",
    "    print(\"it's a CONSONANT\")\n",
    "else:\n",
    "    print('not a CONSONANT')"
   ]
  },
  {
   "cell_type": "code",
   "execution_count": 4,
   "metadata": {},
   "outputs": [
    {
     "name": "stdout",
     "output_type": "stream",
     "text": [
      "It is odd\n"
     ]
    }
   ],
   "source": [
    "num=int(input())\n",
    "if(num%2==0):\n",
    "    print('It is even')\n",
    "else:\n",
    "    print('It is odd')"
   ]
  },
  {
   "cell_type": "code",
   "execution_count": 5,
   "metadata": {},
   "outputs": [
    {
     "name": "stdout",
     "output_type": "stream",
     "text": [
      "it's uppercase\n"
     ]
    }
   ],
   "source": [
    "chr=input()\n",
    "if( chr>=\"A\"and chr<=\"Z\"):\n",
    "    print(\"it's uppercase\")\n",
    "else:\n",
    "    print('lowercase')"
   ]
  },
  {
   "cell_type": "code",
   "execution_count": 6,
   "metadata": {},
   "outputs": [
    {
     "name": "stdout",
     "output_type": "stream",
     "text": [
      "its is symbol\n"
     ]
    }
   ],
   "source": [
    "chr=input()\n",
    "if( (chr>=\"A\"and chr<=\"Z\") or ( chr>=\"a\"and chr<=\"z\") or ( chr>=\"0\"and chr<=\"9\") and (ord(chr)>70)):\n",
    "    print(\"Uppercase or Lowercase or Digit\")\n",
    "else:\n",
    "    print('its is symbol')"
   ]
  },
  {
   "cell_type": "code",
   "execution_count": 7,
   "metadata": {},
   "outputs": [
    {
     "name": "stdout",
     "output_type": "stream",
     "text": [
      "Divisible by both 2 and 3\n"
     ]
    }
   ],
   "source": [
    "num=int(input())\n",
    "if(num%2==0 and num%3==0):\n",
    "    print('Divisible by both 2 and 3')\n",
    "else:\n",
    "    print('Not divisible by 2 and 3')"
   ]
  },
  {
   "cell_type": "code",
   "execution_count": 8,
   "metadata": {},
   "outputs": [
    {
     "name": "stdout",
     "output_type": "stream",
     "text": [
      "Tata Tata! Good Bye!\n"
     ]
    }
   ],
   "source": [
    "chr=input()\n",
    "if(( chr>=\"A\"and chr<=\"Z\") or ( chr>=\"a\"and chr<=\"z\") and ord(chr)%2==0 ):\n",
    "    print('Hello Good Morning')\n",
    "else:\n",
    "    print('Tata Tata! Good Bye!')"
   ]
  },
  {
   "cell_type": "code",
   "execution_count": 9,
   "metadata": {},
   "outputs": [
    {
     "name": "stdout",
     "output_type": "stream",
     "text": [
      "23\n"
     ]
    }
   ],
   "source": [
    "num=int(input())\n",
    "if(num>5 and num<25 and (num%10)%3==0):\n",
    "    print(num+10)\n",
    "else:\n",
    "    print(num-10)"
   ]
  }
 ],
 "metadata": {
  "kernelspec": {
   "display_name": "Python 3",
   "language": "python",
   "name": "python3"
  },
  "language_info": {
   "codemirror_mode": {
    "name": "ipython",
    "version": 3
   },
   "file_extension": ".py",
   "mimetype": "text/x-python",
   "name": "python",
   "nbconvert_exporter": "python",
   "pygments_lexer": "ipython3",
   "version": "3.12.1"
  }
 },
 "nbformat": 4,
 "nbformat_minor": 2
}
