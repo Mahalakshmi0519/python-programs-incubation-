{
 "cells": [
  {
   "cell_type": "code",
   "execution_count": 3,
   "metadata": {},
   "outputs": [
    {
     "name": "stdout",
     "output_type": "stream",
     "text": [
      "odd\n"
     ]
    }
   ],
   "source": [
    "#nested if --> a conditional statement inside a conditional statement\n",
    "\n",
    "n=int(input())\n",
    "if(n>0):\n",
    "    if(n%2==0):\n",
    "        print('even')\n",
    "    else:\n",
    "        print('odd')\n",
    "elif(n<0):\n",
    "    if(n>-5):\n",
    "        print('greater than -5')\n",
    "    else:\n",
    "        print('less tha -5')"
   ]
  },
  {
   "cell_type": "code",
   "execution_count": 4,
   "metadata": {},
   "outputs": [
    {
     "name": "stdout",
     "output_type": "stream",
     "text": [
      "less tha -5\n"
     ]
    }
   ],
   "source": [
    "n=int(input())\n",
    "if(n>0):\n",
    "    if(n%2==0):\n",
    "        print('even')\n",
    "    else:\n",
    "        print('odd')\n",
    "elif(n<0):\n",
    "    if(n>-5):\n",
    "        print('greater than -5')\n",
    "    else:\n",
    "        print('less tha -5')       "
   ]
  },
  {
   "cell_type": "code",
   "execution_count": 6,
   "metadata": {},
   "outputs": [
    {
     "name": "stdout",
     "output_type": "stream",
     "text": [
      "F\n"
     ]
    }
   ],
   "source": [
    "ch=input()\n",
    "a=ord(ch)\n",
    "\n",
    "if ch>='A' and ch<='Z':\n",
    "    if a%2==0 :\n",
    "        print('even')\n",
    "    else:\n",
    "        print('odd')\n",
    "\n",
    "elif ch>='a' and ch<='z':\n",
    "    b=a-32\n",
    "    print(chr(b))\n",
    "\n",
    "elif ch>='0' and ch<='9':\n",
    "    print(a**2)"
   ]
  },
  {
   "cell_type": "code",
   "execution_count": 7,
   "metadata": {},
   "outputs": [
    {
     "name": "stdout",
     "output_type": "stream",
     "text": [
      "odd\n"
     ]
    }
   ],
   "source": [
    "ch=input()\n",
    "a=ord(ch)\n",
    "\n",
    "if ch>='A' and ch<='Z':\n",
    "    if a%2==0 :\n",
    "        print('even')\n",
    "    else:\n",
    "        print('odd')\n",
    "\n",
    "elif ch>='a' and ch<='z':\n",
    "    b=a-32\n",
    "    print(chr(b))\n",
    "\n",
    "elif ch>='0' and ch<='9':\n",
    "    print(a**2)"
   ]
  },
  {
   "cell_type": "code",
   "execution_count": 9,
   "metadata": {},
   "outputs": [
    {
     "name": "stdout",
     "output_type": "stream",
     "text": [
      "3025\n"
     ]
    }
   ],
   "source": [
    "ch=input()\n",
    "a=ord(ch)\n",
    "\n",
    "if ch>='A' and ch<='Z':\n",
    "    if a%2==0 :\n",
    "        print('even')\n",
    "    else:\n",
    "        print('odd')\n",
    "\n",
    "elif ch>='a' and ch<='z':\n",
    "    b=a-32\n",
    "    print(chr(b))\n",
    "\n",
    "elif ch>='0' and ch<='9':\n",
    "    print(a**2)"
   ]
  },
  {
   "cell_type": "code",
   "execution_count": 10,
   "metadata": {},
   "outputs": [
    {
     "name": "stdout",
     "output_type": "stream",
     "text": [
      "lowercase\n"
     ]
    }
   ],
   "source": [
    "st=input()\n",
    "l=len(st)\n",
    "\n",
    "if l>3:\n",
    "    if st[0]==st[-1]:\n",
    "        print('same')\n",
    "    else:\n",
    "        print('not same')\n",
    "\n",
    "elif l<2:\n",
    "    if st[0]>='A' and st[0]<='Z':\n",
    "        print('uppercase')\n",
    "    else:\n",
    "        print('lowercase')"
   ]
  },
  {
   "cell_type": "code",
   "execution_count": 11,
   "metadata": {},
   "outputs": [
    {
     "name": "stdout",
     "output_type": "stream",
     "text": [
      "not same\n"
     ]
    }
   ],
   "source": [
    "st=input()\n",
    "l=len(st)\n",
    "\n",
    "if l>3:\n",
    "    if st[0]==st[1]:\n",
    "        print('same')\n",
    "    else:\n",
    "        print('not same')\n",
    "\n",
    "elif l<2:\n",
    "    if st[0]>='A' and st[0]<='Z':\n",
    "        print('uppercase')\n",
    "    else:\n",
    "        print('lowercase')"
   ]
  },
  {
   "cell_type": "code",
   "execution_count": 13,
   "metadata": {},
   "outputs": [
    {
     "name": "stdout",
     "output_type": "stream",
     "text": [
      "lowercase\n"
     ]
    }
   ],
   "source": [
    "st=input()\n",
    "l=len(st)\n",
    "\n",
    "if l==5:\n",
    "    m=l//2\n",
    "    if st[m]>='A' and st[m]<='Z':\n",
    "        print('uppercase')\n",
    "    elif st[m]>='a' and st[m]<='z':\n",
    "        print('lowercase')\n",
    "    elif st[m]>='0' and st[m]<='9':\n",
    "        print('digit')\n",
    "    else:\n",
    "        print('symbol')\n",
    "\n",
    "elif(l==2):\n",
    "    if st[0]==st[-1]:\n",
    "        print('same')\n",
    "    else:\n",
    "        print('not same')\n"
   ]
  },
  {
   "cell_type": "code",
   "execution_count": 14,
   "metadata": {},
   "outputs": [
    {
     "name": "stdout",
     "output_type": "stream",
     "text": [
      "uppercase\n"
     ]
    }
   ],
   "source": [
    "st=input()\n",
    "l=len(st)\n",
    "\n",
    "if l==5:\n",
    "    m=l//2\n",
    "    if st[m]>='A' and st[m]<='Z':\n",
    "        print('uppercase')\n",
    "    elif st[m]>='a' and st[m]<='z':\n",
    "        print('lowercase')\n",
    "    elif st[m]>='0' and st[m]<='9':\n",
    "        print('digit')\n",
    "    else:\n",
    "        print('symbol')\n",
    "\n",
    "elif(l==2):\n",
    "    if st[0]==st[-1]:\n",
    "        print('same')\n",
    "    else:\n",
    "        print('not same')\n"
   ]
  },
  {
   "cell_type": "code",
   "execution_count": 15,
   "metadata": {},
   "outputs": [
    {
     "name": "stdout",
     "output_type": "stream",
     "text": [
      "digit\n"
     ]
    }
   ],
   "source": [
    "st=input()\n",
    "l=len(st)\n",
    "\n",
    "if l==5:\n",
    "    m=l//2\n",
    "    if st[m]>='A' and st[m]<='Z':\n",
    "        print('uppercase')\n",
    "    elif st[m]>='a' and st[m]<='z':\n",
    "        print('lowercase')\n",
    "    elif st[m]>='0' and st[m]<='9':\n",
    "        print('digit')\n",
    "    else:\n",
    "        print('symbol')\n",
    "\n",
    "elif(l==2):\n",
    "    if st[0]==st[-1]:\n",
    "        print('same')\n",
    "    else:\n",
    "        print('not same')\n"
   ]
  },
  {
   "cell_type": "code",
   "execution_count": 16,
   "metadata": {},
   "outputs": [
    {
     "name": "stdout",
     "output_type": "stream",
     "text": [
      "same\n"
     ]
    }
   ],
   "source": [
    "st=input()\n",
    "l=len(st)\n",
    "\n",
    "if l==5:\n",
    "    m=l//2\n",
    "    if st[m]>='A' and st[m]<='Z':\n",
    "        print('uppercase')\n",
    "    elif st[m]>='a' and st[m]<='z':\n",
    "        print('lowercase')\n",
    "    elif st[m]>='0' and st[m]<='9':\n",
    "        print('digit')\n",
    "    else:\n",
    "        print('symbol')\n",
    "\n",
    "elif(l==2):\n",
    "    if st[0]==st[-1]:\n",
    "        print('same')\n",
    "    else:\n",
    "        print('not same')\n"
   ]
  }
 ],
 "metadata": {
  "kernelspec": {
   "display_name": "Python 3",
   "language": "python",
   "name": "python3"
  },
  "language_info": {
   "codemirror_mode": {
    "name": "ipython",
    "version": 3
   },
   "file_extension": ".py",
   "mimetype": "text/x-python",
   "name": "python",
   "nbconvert_exporter": "python",
   "pygments_lexer": "ipython3",
   "version": "3.12.1"
  }
 },
 "nbformat": 4,
 "nbformat_minor": 2
}
