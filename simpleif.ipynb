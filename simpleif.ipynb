{
 "cells": [
  {
   "cell_type": "code",
   "execution_count": 2,
   "metadata": {},
   "outputs": [
    {
     "name": "stdout",
     "output_type": "stream",
     "text": [
      "hello\n",
      "hii\n",
      "bye\n",
      "goodbye\n",
      "end\n"
     ]
    }
   ],
   "source": [
    "#Control flow statements -->simple if --> syntax=if(condition):\n",
    "\n",
    "value=15\n",
    "if(value>10):\n",
    "    print('hello')\n",
    "    print('hii')\n",
    "    print('bye')\n",
    "    print('goodbye')\n",
    "print('end')"
   ]
  },
  {
   "cell_type": "code",
   "execution_count": 5,
   "metadata": {},
   "outputs": [
    {
     "name": "stdout",
     "output_type": "stream",
     "text": [
      "divisible by 3\n",
      "9\n",
      "end\n"
     ]
    }
   ],
   "source": [
    "n=9\n",
    "if(n%3==0):\n",
    "    print('divisible by 3')\n",
    "    print(n)\n",
    "print('end')"
   ]
  },
  {
   "cell_type": "code",
   "execution_count": 6,
   "metadata": {},
   "outputs": [
    {
     "name": "stdout",
     "output_type": "stream",
     "text": [
      "end\n"
     ]
    }
   ],
   "source": [
    "n=8\n",
    "if(n%3==0):\n",
    "    print('divisible by 3')\n",
    "    print(n)\n",
    "print('end')"
   ]
  },
  {
   "cell_type": "code",
   "execution_count": 7,
   "metadata": {},
   "outputs": [
    {
     "name": "stdout",
     "output_type": "stream",
     "text": [
      "present between 3 and 5\n",
      "12\n",
      "10\n",
      "end\n"
     ]
    }
   ],
   "source": [
    "n=15\n",
    "if(n%3==0 and n%5==0):\n",
    "    print('present between 3 and 5')\n",
    "    print(n-3)\n",
    "    print(n-5)\n",
    "print('end')"
   ]
  },
  {
   "cell_type": "code",
   "execution_count": 8,
   "metadata": {},
   "outputs": [
    {
     "name": "stdout",
     "output_type": "stream",
     "text": [
      "125\n",
      "end\n"
     ]
    }
   ],
   "source": [
    "n=5\n",
    "if(20%n==0 and 25%n==0):\n",
    "    print(n**3)\n",
    "print('end')"
   ]
  },
  {
   "cell_type": "code",
   "execution_count": 9,
   "metadata": {},
   "outputs": [
    {
     "name": "stdout",
     "output_type": "stream",
     "text": [
      "66\n",
      "end\n"
     ]
    }
   ],
   "source": [
    "ch=\"B\"\n",
    "if(ch>='A' and ch<='Z'):\n",
    "    print(ord(ch))\n",
    "print('end')"
   ]
  },
  {
   "cell_type": "code",
   "execution_count": 10,
   "metadata": {},
   "outputs": [
    {
     "name": "stdout",
     "output_type": "stream",
     "text": [
      "b 98\n",
      "end\n"
     ]
    }
   ],
   "source": [
    "ch='b'\n",
    "if(ch>='a' and ch<='z' and ord(ch)%2==0):\n",
    "    print(ch,ord(ch))\n",
    "print('end')"
   ]
  }
 ],
 "metadata": {
  "kernelspec": {
   "display_name": "Python 3",
   "language": "python",
   "name": "python3"
  },
  "language_info": {
   "codemirror_mode": {
    "name": "ipython",
    "version": 3
   },
   "file_extension": ".py",
   "mimetype": "text/x-python",
   "name": "python",
   "nbconvert_exporter": "python",
   "pygments_lexer": "ipython3",
   "version": "3.12.1"
  }
 },
 "nbformat": 4,
 "nbformat_minor": 2
}
