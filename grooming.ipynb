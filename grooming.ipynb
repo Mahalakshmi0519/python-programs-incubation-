{
 "cells": [
  {
   "cell_type": "code",
   "execution_count": 6,
   "metadata": {},
   "outputs": [
    {
     "name": "stdout",
     "output_type": "stream",
     "text": [
      "56\n",
      "123456\n"
     ]
    }
   ],
   "source": [
    "n=int(input())\n",
    "if 125%n!=0:\n",
    "    d=n%100\n",
    "    print(d)\n",
    "\n",
    "print(n)"
   ]
  },
  {
   "cell_type": "code",
   "execution_count": 5,
   "metadata": {},
   "outputs": [
    {
     "name": "stdout",
     "output_type": "stream",
     "text": [
      "1234\n",
      "12345\n"
     ]
    }
   ],
   "source": [
    "n=int(input())\n",
    "if n%2==1:\n",
    "    r=n//10\n",
    "    print(r)\n",
    "print(n)"
   ]
  },
  {
   "cell_type": "code",
   "execution_count": 10,
   "metadata": {},
   "outputs": [
    {
     "name": "stdout",
     "output_type": "stream",
     "text": [
      "750\n",
      "K\n",
      "75\n"
     ]
    }
   ],
   "source": [
    "n=int(input())\n",
    "if n>50 and n<100:\n",
    "    p=n*10\n",
    "    print(p)\n",
    "    print(chr(n))\n",
    "print(n)"
   ]
  },
  {
   "cell_type": "code",
   "execution_count": 15,
   "metadata": {},
   "outputs": [
    {
     "name": "stdout",
     "output_type": "stream",
     "text": [
      "m 109\n",
      "m\n"
     ]
    }
   ],
   "source": [
    "n=input()\n",
    "if (n>='a' and n<='z') and ord(n)%2==1:\n",
    "    print(n,ord(n))\n",
    "print(n)"
   ]
  },
  {
   "cell_type": "code",
   "execution_count": 19,
   "metadata": {},
   "outputs": [
    {
     "name": "stdout",
     "output_type": "stream",
     "text": [
      "A\n",
      "mahalakshmi\n"
     ]
    }
   ],
   "source": [
    "s=input()\n",
    "m=len(s)//2\n",
    "if ord(s[-1])%2==0:\n",
    "    print(s[-1],ord(s[m]))\n",
    "else:\n",
    "    u=ord(s[m])-32\n",
    "    print(chr(u))\n",
    "print(s)"
   ]
  },
  {
   "cell_type": "code",
   "execution_count": 22,
   "metadata": {},
   "outputs": [
    {
     "name": "stdout",
     "output_type": "stream",
     "text": [
      "0b1000\n",
      "8\n"
     ]
    }
   ],
   "source": [
    "s=input()\n",
    "if s>='0' and s<'9':\n",
    "    if int(s)%2==1:\n",
    "        print(\"it is an odd digit\")\n",
    "    else:\n",
    "        print(bin(int(s)))\n",
    "print(s)"
   ]
  },
  {
   "cell_type": "code",
   "execution_count": 3,
   "metadata": {},
   "outputs": [
    {
     "name": "stdout",
     "output_type": "stream",
     "text": [
      "2\n",
      "a\n",
      "abab\n"
     ]
    }
   ],
   "source": [
    "st=input()\n",
    "i=0\n",
    "c=0\n",
    "m=len(st)//2\n",
    "while i<len(st):\n",
    "    if ord(st[i])%2==1:\n",
    "        c+=1\n",
    "    i+=1\n",
    "print(c)\n",
    "print(st[m])\n",
    "print(st)"
   ]
  },
  {
   "cell_type": "code",
   "execution_count": 4,
   "metadata": {},
   "outputs": [
    {
     "name": "stdout",
     "output_type": "stream",
     "text": [
      "not prime\n"
     ]
    }
   ],
   "source": [
    "ch=input()\n",
    "if ch>='0' and ch<='9':\n",
    "    a=int(ch)**3\n",
    "    i=1\n",
    "    c=0\n",
    "    while i<=a:\n",
    "        if a%i==0:\n",
    "            c+=1\n",
    "        i+=1\n",
    "    if c==2:\n",
    "        print(\"prime\")\n",
    "    else:\n",
    "        print(\"not prime\")"
   ]
  },
  {
   "cell_type": "code",
   "execution_count": 6,
   "metadata": {},
   "outputs": [
    {
     "name": "stdout",
     "output_type": "stream",
     "text": [
      "A\n",
      "97\n"
     ]
    }
   ],
   "source": [
    "d=int(input())\n",
    "ch=chr(d)\n",
    "if ch>=\"A\" and ch<=\"Z\":\n",
    "    print(ch)\n",
    "elif ch>=\"a\" and ch<=\"z\":\n",
    "    u=ord(ch)-32\n",
    "    print(chr(u))\n",
    "print(d)\n"
   ]
  },
  {
   "cell_type": "code",
   "execution_count": 12,
   "metadata": {},
   "outputs": [
    {
     "name": "stdout",
     "output_type": "stream",
     "text": [
      "121\n",
      "strong number\n",
      "11\n"
     ]
    }
   ],
   "source": [
    "n=int(input())\n",
    "n1=n\n",
    "sum=0\n",
    "while n!=0:\n",
    "    d=n%10\n",
    "    if d%2==1:\n",
    "        sum+=d\n",
    "    n=n//10\n",
    "v=sum\n",
    "sum2=0\n",
    "while sum!=0:\n",
    "    d=sum%10\n",
    "    fact=1\n",
    "    i=1\n",
    "    while i<=d:\n",
    "        fact=fact*i\n",
    "        i+=1\n",
    "    sum2+=fact\n",
    "    sum=sum//10\n",
    "    if sum2==v:\n",
    "        print(n1**2)\n",
    "        print(\"strong number\")\n",
    "    else:\n",
    "        print(\"not strong number \")\n",
    "print(n1)\n",
    "\n"
   ]
  },
  {
   "cell_type": "code",
   "execution_count": 14,
   "metadata": {},
   "outputs": [
    {
     "name": "stdout",
     "output_type": "stream",
     "text": [
      "27\n"
     ]
    }
   ],
   "source": [
    "n=int(input())\n",
    "n1=n\n",
    "c=0\n",
    "cd=0\n",
    "while n!=0:\n",
    "    d=n%10\n",
    "    cd+=1\n",
    "    if d%2==1:\n",
    "        c+=1\n",
    "    n//=10\n",
    "i=1\n",
    "count=0\n",
    "while i<=c:\n",
    "    if c%i==0:\n",
    "        count+=1\n",
    "    i+=1\n",
    "if c==2:\n",
    "    print(cd**3)\n",
    "else:\n",
    "    print(c)    \n"
   ]
  },
  {
   "cell_type": "code",
   "execution_count": 16,
   "metadata": {},
   "outputs": [
    {
     "name": "stdout",
     "output_type": "stream",
     "text": [
      "m 109\n",
      "a 97\n",
      "a 97\n",
      "a 97\n",
      "k 107\n",
      "s 115\n",
      "m 109\n",
      "i 105\n",
      "8\n"
     ]
    }
   ],
   "source": [
    "st=input()\n",
    "c=0\n",
    "for i in st:\n",
    "    if ord(i)%2==1:\n",
    "        print(i,ord(i))\n",
    "        c+=1\n",
    "print(c)"
   ]
  },
  {
   "cell_type": "code",
   "execution_count": 4,
   "metadata": {},
   "outputs": [
    {
     "name": "stdout",
     "output_type": "stream",
     "text": [
      "python\n",
      "\n"
     ]
    }
   ],
   "source": [
    "st=\"hello python programming \"\n",
    "res=\"\"\n",
    "for i in st:\n",
    "    if i!=\" \":\n",
    "        res+=i\n",
    "    else:\n",
    "        if res!=\"\" and len(res)%2==0:\n",
    "            print(res)\n",
    "        res=\"\"\n",
    "\n",
    "if res!=0 and len(res)%2==0:\n",
    "    print(res)\n",
    "\n",
    "            \n"
   ]
  },
  {
   "cell_type": "code",
   "execution_count": 3,
   "metadata": {},
   "outputs": [
    {
     "name": "stdout",
     "output_type": "stream",
     "text": [
      "hellopythonprogramming\n",
      "\n"
     ]
    }
   ],
   "source": [
    "st=\"hello python programming \"\n",
    "res=\"\"\n",
    "for i in st:\n",
    "    if i!=\" \":\n",
    "        res+=i\n",
    "    else:\n",
    "        if res!=\"\" and len(res)%2==0:\n",
    "            print(res)\n",
    "            res=\"\"\n",
    "\n",
    "if res!=0 and len(res)%2==0:\n",
    "    print(res)\n"
   ]
  },
  {
   "cell_type": "code",
   "execution_count": 2,
   "metadata": {},
   "outputs": [
    {
     "name": "stdout",
     "output_type": "stream",
     "text": [
      "mahala\n",
      "mahalakshmi\n"
     ]
    }
   ],
   "source": [
    "st=input()\n",
    "half=len(st)//2\n",
    "res=\"\"\n",
    "for i in range(0,half+1):\n",
    "    res+=st[i]\n",
    "print(res)\n",
    "print(st)"
   ]
  },
  {
   "cell_type": "code",
   "execution_count": 1,
   "metadata": {},
   "outputs": [
    {
     "name": "stdout",
     "output_type": "stream",
     "text": [
      "akshmi\n",
      "mahalakshmi\n"
     ]
    }
   ],
   "source": [
    "st=input()\n",
    "half=len(st)//2\n",
    "res=\"\"\n",
    "for i in range(half,len(st)):\n",
    "    res+=st[i]\n",
    "print(res)\n",
    "print(st)"
   ]
  },
  {
   "cell_type": "code",
   "execution_count": 2,
   "metadata": {},
   "outputs": [
    {
     "data": {
      "text/plain": [
       "True"
      ]
     },
     "execution_count": 2,
     "metadata": {},
     "output_type": "execute_result"
    }
   ],
   "source": [
    "def amstrong(n):\n",
    "    n1=n\n",
    "    n2=n\n",
    "    c=0\n",
    "    while n!=0:\n",
    "        c+=1\n",
    "        n//=10\n",
    "    sum=0\n",
    "    while n1!=0:\n",
    "        d=n1%10\n",
    "        sum+=d**c\n",
    "        n1//=10\n",
    "    if sum==n2:\n",
    "        return True\n",
    "    return False\n",
    "amstrong(153)"
   ]
  },
  {
   "cell_type": "code",
   "execution_count": 6,
   "metadata": {},
   "outputs": [
    {
     "data": {
      "text/plain": [
       "('k', 3)"
      ]
     },
     "execution_count": 6,
     "metadata": {},
     "output_type": "execute_result"
    }
   ],
   "source": [
    "def maxoccuredchar(st):\n",
    "    max_ch=st[0]\n",
    "    max_c=0\n",
    "    for i in st:\n",
    "        c=0\n",
    "\n",
    "        for j in st:\n",
    "            if i==j:\n",
    "                c+=1\n",
    "        if c>max_c:\n",
    "            max_c=c\n",
    "            max_ch=i\n",
    "    return (max_ch,max_c)\n",
    "maxoccuredchar(\"mnagahsskkk\")\n",
    "\n",
    "    "
   ]
  },
  {
   "cell_type": "code",
   "execution_count": null,
   "metadata": {},
   "outputs": [],
   "source": []
  }
 ],
 "metadata": {
  "kernelspec": {
   "display_name": "Python 3",
   "language": "python",
   "name": "python3"
  },
  "language_info": {
   "codemirror_mode": {
    "name": "ipython",
    "version": 3
   },
   "file_extension": ".py",
   "mimetype": "text/x-python",
   "name": "python",
   "nbconvert_exporter": "python",
   "pygments_lexer": "ipython3",
   "version": "3.12.1"
  }
 },
 "nbformat": 4,
 "nbformat_minor": 2
}
