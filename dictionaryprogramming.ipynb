{
 "cells": [
  {
   "cell_type": "code",
   "execution_count": 5,
   "metadata": {},
   "outputs": [
    {
     "name": "stdout",
     "output_type": "stream",
     "text": [
      "{1: 4, 2: 16, 3: 36}\n"
     ]
    }
   ],
   "source": [
    "d={1:2,2:4,3:6}\n",
    "for i in d:\n",
    "    d[i]=d[i]*d[i]\n",
    "print(d)"
   ]
  },
  {
   "cell_type": "code",
   "execution_count": 8,
   "metadata": {},
   "outputs": [
    {
     "name": "stdout",
     "output_type": "stream",
     "text": [
      "false\n",
      "false\n",
      "true\n"
     ]
    }
   ],
   "source": [
    "d={1:2,2:4,3:6}\n",
    "n=int(input())\n",
    "for i in d:\n",
    "    if i==n:\n",
    "        print(\"true\")\n",
    "        \n",
    "    else:\n",
    "        print(\"false\")\n",
    "       "
   ]
  },
  {
   "cell_type": "code",
   "execution_count": 15,
   "metadata": {},
   "outputs": [
    {
     "name": "stdout",
     "output_type": "stream",
     "text": [
      "{1: 'rani', 2: 'raja', 3: 'dinga', 4: 'ramu'}\n"
     ]
    }
   ],
   "source": [
    "d={}\n",
    "n=int(input())\n",
    "for i in range(n):\n",
    "    key=int(input())\n",
    "    value=input()\n",
    "    d[key]=value\n",
    "print(d)"
   ]
  },
  {
   "cell_type": "code",
   "execution_count": 14,
   "metadata": {},
   "outputs": [
    {
     "name": "stdout",
     "output_type": "stream",
     "text": [
      "{1: 1, 2: 4, 3: 9, 4: 16, 5: 25}\n"
     ]
    }
   ],
   "source": [
    "d={}\n",
    "n=int(input())\n",
    "for i in range(n):\n",
    "    key=int(input())\n",
    "    value=key\n",
    "    d[key]=value*value\n",
    "print(d)"
   ]
  },
  {
   "cell_type": "code",
   "execution_count": 17,
   "metadata": {},
   "outputs": [
    {
     "name": "stdout",
     "output_type": "stream",
     "text": [
      "true\n"
     ]
    }
   ],
   "source": [
    "d={1:2,2:4,3:6}\n",
    "n=int(input())\n",
    "c=0\n",
    "for i in d:\n",
    "    if i==n:\n",
    "        c+=1\n",
    "if c>0:\n",
    "    print(\"true\")\n",
    "else:\n",
    "    print(\"false\")"
   ]
  },
  {
   "cell_type": "code",
   "execution_count": 20,
   "metadata": {},
   "outputs": [
    {
     "name": "stdout",
     "output_type": "stream",
     "text": [
      "{1: 1, 2: 4, 3: 9, 4: 16, 5: 25}\n",
      "1 1\n",
      "2 4\n",
      "3 9\n",
      "4 16\n",
      "5 25\n"
     ]
    }
   ],
   "source": [
    "d={}\n",
    "n=int(input())\n",
    "for i in range(n):\n",
    "    key=int(input())\n",
    "    value=key\n",
    "    d[key]=value*value\n",
    "print(d)\n",
    "for i in d:\n",
    "    print(i,d[i])"
   ]
  },
  {
   "cell_type": "code",
   "execution_count": 22,
   "metadata": {},
   "outputs": [
    {
     "name": "stdout",
     "output_type": "stream",
     "text": [
      "{0: 0, 1: 1, 2: 4, 3: 9, 4: 16, 5: 25}\n"
     ]
    }
   ],
   "source": [
    "d={}\n",
    "n=int(input())\n",
    "for i in range(n):\n",
    "    d[i]=i*i\n",
    "print(d)"
   ]
  },
  {
   "cell_type": "code",
   "execution_count": 23,
   "metadata": {},
   "outputs": [
    {
     "name": "stdout",
     "output_type": "stream",
     "text": [
      "{0: (0, 0), 1: (1, 1), 2: (2, 4), 3: (3, 9), 4: (4, 16)}\n"
     ]
    }
   ],
   "source": [
    "d={}\n",
    "n=int(input())\n",
    "for i in range(n):\n",
    "    d[i]=(i,i*i)\n",
    "print(d)"
   ]
  },
  {
   "cell_type": "code",
   "execution_count": 30,
   "metadata": {},
   "outputs": [
    {
     "name": "stdout",
     "output_type": "stream",
     "text": [
      "{1: 'lara', 2: 'jean', 3: 'peter', 4: 'kavinsky', 5: 'john', 6: 'ambrose'}\n"
     ]
    }
   ],
   "source": [
    "l1=[1,2,3,4,5,6]\n",
    "l2=['lara','jean','peter','kavinsky','john','ambrose']\n",
    "d={}\n",
    "j=0\n",
    "for i in l1:\n",
    "    d[i]=l2[j]\n",
    "    j+=1\n",
    "print(d)"
   ]
  },
  {
   "cell_type": "code",
   "execution_count": 35,
   "metadata": {},
   "outputs": [
    {
     "name": "stdout",
     "output_type": "stream",
     "text": [
      "{1: 25, 2: 45, 3: 65}\n"
     ]
    }
   ],
   "source": [
    "d1={1:25,2:45,3:65}\n",
    "d2={7:89,6:76}\n",
    "for i in d1:\n",
    "    d2[i]=d1[i]\n",
    "print(d1)"
   ]
  },
  {
   "cell_type": "code",
   "execution_count": 33,
   "metadata": {},
   "outputs": [
    {
     "name": "stdout",
     "output_type": "stream",
     "text": [
      "{'lara': 1, 'jean': 2, 'peter': 3, 'kavinsky': 4, 'john': 5, 'ambrose': 6}\n"
     ]
    }
   ],
   "source": [
    "l1=[1,2,3,4,5,6]\n",
    "l2=['lara','jean','peter','kavinsky','john','ambrose']\n",
    "d={}\n",
    "j=0\n",
    "for i in l2:\n",
    "    d[i]=l1[j]\n",
    "    j+=1\n",
    "print(d)"
   ]
  },
  {
   "cell_type": "code",
   "execution_count": 34,
   "metadata": {},
   "outputs": [
    {
     "name": "stdout",
     "output_type": "stream",
     "text": [
      "{1: 25, 2: 45, 3: 65, 7: 89, 6: 76}\n"
     ]
    }
   ],
   "source": [
    "d1={1:25,2:45,3:65}\n",
    "d2={7:89,6:76}\n",
    "for i in d2:\n",
    "    d1[i]=d2[i]\n",
    "print(d1)"
   ]
  },
  {
   "cell_type": "code",
   "execution_count": 36,
   "metadata": {},
   "outputs": [
    {
     "name": "stdout",
     "output_type": "stream",
     "text": [
      "384\n"
     ]
    }
   ],
   "source": [
    "d={1:2,3:4,5:6,7:8}\n",
    "p=1\n",
    "for i in d:\n",
    "    p*=d[i]\n",
    "print(p)"
   ]
  },
  {
   "cell_type": "code",
   "execution_count": 43,
   "metadata": {},
   "outputs": [
    {
     "name": "stdout",
     "output_type": "stream",
     "text": [
      "{1: 2, 3: 4, 7: 8}\n"
     ]
    }
   ],
   "source": [
    "d={1:2,3:4,5:6,7:8}\n",
    "dn={}\n",
    "key=int(input())\n",
    "for i in d:\n",
    "    if i!=key:\n",
    "        dn[i]=d[i]\n",
    "         \n",
    "print(dn)\n"
   ]
  },
  {
   "cell_type": "code",
   "execution_count": 39,
   "metadata": {},
   "outputs": [
    {
     "name": "stdout",
     "output_type": "stream",
     "text": [
      "20\n"
     ]
    }
   ],
   "source": [
    "d={1:2,3:4,5:6,7:8}\n",
    "s=0\n",
    "for i in d:\n",
    "    s+=d[i]\n",
    "print(s)"
   ]
  },
  {
   "cell_type": "code",
   "execution_count": 73,
   "metadata": {},
   "outputs": [
    {
     "name": "stdout",
     "output_type": "stream",
     "text": [
      "{'r': 1, 'a': 1, 'n': 1, 'i': 1}\n"
     ]
    }
   ],
   "source": [
    "st=input()\n",
    "d={}\n",
    "for i in st:\n",
    "    if i not in d:\n",
    "        d[i]=1\n",
    "        \n",
    "    elif i in d:\n",
    "        d[i]=d[i]+1\n",
    "        \n",
    "print(d)"
   ]
  },
  {
   "cell_type": "code",
   "execution_count": 74,
   "metadata": {},
   "outputs": [
    {
     "name": "stdout",
     "output_type": "stream",
     "text": [
      "{'rani': 1, 'raha': 2, 1: 1, 2: 2, 3: 2}\n"
     ]
    }
   ],
   "source": [
    "st=['rani',\"raha\",'raha',1,2,3,3,2]\n",
    "d={}\n",
    "\n",
    "for i in st:\n",
    "    if i not in d:\n",
    "        d[i]=1\n",
    "        \n",
    "    elif i in d:\n",
    "        d[i]=d[i]+1\n",
    "        \n",
    "print(d)"
   ]
  },
  {
   "cell_type": "code",
   "execution_count": 3,
   "metadata": {},
   "outputs": [
    {
     "name": "stdout",
     "output_type": "stream",
     "text": [
      "{'hello': 1, 'world': 2, 'hii': 1}\n"
     ]
    }
   ],
   "source": [
    "st=\"hello world hii world\"\n",
    "d={}\n",
    "res=\"\"\n",
    "for i in st:\n",
    "    if i!=\" \":\n",
    "        res+=i\n",
    "    elif i==\" \":\n",
    "        \n",
    "            if res not in d:\n",
    "                d[res]=1\n",
    "                res=\"\"\n",
    "            elif i in d:\n",
    "                d[res]=d[res]+1\n",
    "                res=\"\"\n",
    "if res in d:\n",
    "    d[res]=d[res]+1\n",
    "print(d)\n",
    "    \n",
    "\n",
    "  "
   ]
  },
  {
   "cell_type": "code",
   "execution_count": null,
   "metadata": {},
   "outputs": [],
   "source": []
  }
 ],
 "metadata": {
  "kernelspec": {
   "display_name": "Python 3",
   "language": "python",
   "name": "python3"
  },
  "language_info": {
   "codemirror_mode": {
    "name": "ipython",
    "version": 3
   },
   "file_extension": ".py",
   "mimetype": "text/x-python",
   "name": "python",
   "nbconvert_exporter": "python",
   "pygments_lexer": "ipython3",
   "version": "3.12.1"
  }
 },
 "nbformat": 4,
 "nbformat_minor": 2
}
