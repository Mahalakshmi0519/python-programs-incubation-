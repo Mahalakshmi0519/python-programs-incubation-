{
 "cells": [
  {
   "cell_type": "code",
   "execution_count": 1,
   "metadata": {},
   "outputs": [
    {
     "name": "stdout",
     "output_type": "stream",
     "text": [
      "True\n"
     ]
    }
   ],
   "source": [
    "l=[1,2,'raju']\n",
    "l1=[1,2,]\n",
    "print(l>l1)"
   ]
  },
  {
   "cell_type": "code",
   "execution_count": 4,
   "metadata": {},
   "outputs": [
    {
     "name": "stdout",
     "output_type": "stream",
     "text": [
      "not same\n"
     ]
    }
   ],
   "source": [
    "\n",
    "# check whether the ascii value of 1st and last chara is same ,if equal then check whether the ascii value of last but one chara is between 90-100\n",
    "st=input()\n",
    "if(st[0]==st[-1]):\n",
    "    lbc=ord(st[-2])\n",
    "    if(lbc>=90 and lbc<=100):\n",
    "        print('between 90-100')\n",
    "    else:\n",
    "        print('not between 90-100')\n",
    "else:\n",
    "    print('not same')"
   ]
  },
  {
   "cell_type": "code",
   "execution_count": 5,
   "metadata": {},
   "outputs": [
    {
     "name": "stdout",
     "output_type": "stream",
     "text": [
      "not between 90-100\n"
     ]
    }
   ],
   "source": [
    "st=input()\n",
    "if(st[0]==st[-1]):\n",
    "    lbc=ord(st[-2])\n",
    "    if(lbc>=90 and lbc<=100):\n",
    "        print('between 90-100')\n",
    "    else:\n",
    "        print('not between 90-100')\n",
    "else:\n",
    "    print('not same')"
   ]
  },
  {
   "cell_type": "code",
   "execution_count": 14,
   "metadata": {},
   "outputs": [
    {
     "name": "stdout",
     "output_type": "stream",
     "text": [
      "51\n",
      "odd\n"
     ]
    }
   ],
   "source": [
    "#wap to check thes ascii value of the len of string is even or odd\n",
    "\n",
    "st=input()\n",
    "a=ord(str((len(st))))\n",
    "print(a)\n",
    "if a%2==0:\n",
    "    print('even')\n",
    "else:\n",
    "    print('odd')"
   ]
  },
  {
   "cell_type": "code",
   "execution_count": 15,
   "metadata": {},
   "outputs": [
    {
     "name": "stdout",
     "output_type": "stream",
     "text": [
      "\u0003\n",
      "3\n"
     ]
    }
   ],
   "source": [
    "print(chr(3))\n",
    "print(chr(51))"
   ]
  },
  {
   "cell_type": "code",
   "execution_count": 17,
   "metadata": {},
   "outputs": [
    {
     "name": "stdout",
     "output_type": "stream",
     "text": [
      "not equal\n"
     ]
    }
   ],
   "source": [
    "#wap to check whether the ascii value of the middle chara in string is equal to the ascii value of the length of string\n",
    "\n",
    "st=input()\n",
    "l=len(st)\n",
    "m=len(st)//2\n",
    "if ord(st[m])==ord(str(l)):\n",
    "    print('equal')\n",
    "else:\n",
    "    print('not equal')\n"
   ]
  },
  {
   "cell_type": "code",
   "execution_count": 19,
   "metadata": {},
   "outputs": [
    {
     "name": "stdout",
     "output_type": "stream",
     "text": [
      "65\n",
      "program successfully done\n"
     ]
    }
   ],
   "source": [
    "#wap to print  the ascii value of last chara in the given string , next check whether that ascii value is between 50-75 exclusive  -->if so print\"program is successfully done\"A\n",
    "\n",
    "st=input()\n",
    "a=ord(st[-1])\n",
    "print(a)\n",
    "if (a>50 and a<75):\n",
    "    print('program successfully done')\n",
    "else:\n",
    "    print('not done')"
   ]
  }
 ],
 "metadata": {
  "kernelspec": {
   "display_name": "Python 3",
   "language": "python",
   "name": "python3"
  },
  "language_info": {
   "codemirror_mode": {
    "name": "ipython",
    "version": 3
   },
   "file_extension": ".py",
   "mimetype": "text/x-python",
   "name": "python",
   "nbconvert_exporter": "python",
   "pygments_lexer": "ipython3",
   "version": "3.12.1"
  }
 },
 "nbformat": 4,
 "nbformat_minor": 2
}
