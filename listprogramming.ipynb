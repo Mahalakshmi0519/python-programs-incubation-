{
 "cells": [
  {
   "cell_type": "code",
   "execution_count": 16,
   "metadata": {},
   "outputs": [
    {
     "name": "stdout",
     "output_type": "stream",
     "text": [
      "[1, 5, 7, 9, 3]\n"
     ]
    }
   ],
   "source": [
    "l=[1,5,7,9,3]\n",
    "i=0\n",
    "while i<len(l):\n",
    "    if l[i]%2==0:\n",
    "        del l[i]\n",
    "    i+=1\n",
    "print(l)"
   ]
  },
  {
   "cell_type": "code",
   "execution_count": 19,
   "metadata": {},
   "outputs": [
    {
     "name": "stdout",
     "output_type": "stream",
     "text": [
      "[7, 6, 5, 4, 3, 2, 1]\n"
     ]
    }
   ],
   "source": [
    "l=[1,2,3,4,5,6,7]\n",
    "l1=[]\n",
    "i=len(l)-1\n",
    "while i>=0:\n",
    "    e=l[i]\n",
    "    l1+=[e]\n",
    "    i-=1\n",
    "print(l1)"
   ]
  },
  {
   "cell_type": "code",
   "execution_count": 20,
   "metadata": {},
   "outputs": [
    {
     "name": "stdout",
     "output_type": "stream",
     "text": [
      "[7, 6, 5, 4, 3, 2, 1]\n"
     ]
    }
   ],
   "source": [
    "l=[1,2,3,4,5,6,7]\n",
    "l1=l[::-1]\n",
    "print(l1)"
   ]
  },
  {
   "cell_type": "code",
   "execution_count": 1,
   "metadata": {},
   "outputs": [
    {
     "name": "stdout",
     "output_type": "stream",
     "text": [
      "10\n"
     ]
    }
   ],
   "source": [
    "l=[10,83,66,22,77,78,45]\n",
    "max1=l[0]\n",
    "max2=None\n",
    "i=0\n",
    "while i<len(l):\n",
    "    e=l[i]\n",
    "    if e>max1:\n",
    "        max2=max1\n",
    "        max1=e\n",
    "    i+=1\n",
    "print(max2)\n"
   ]
  },
  {
   "cell_type": "code",
   "execution_count": 10,
   "metadata": {},
   "outputs": [
    {
     "name": "stdout",
     "output_type": "stream",
     "text": [
      "[1, 2, 3, 4, 5]\n"
     ]
    }
   ],
   "source": [
    "l=[1,2,3,4,5,2,3]\n",
    "l1=[]\n",
    "for i in l:\n",
    "    if i not in l1:\n",
    "        l1+=[i]\n",
    "print(l1)\n"
   ]
  },
  {
   "cell_type": "code",
   "execution_count": 14,
   "metadata": {},
   "outputs": [
    {
     "name": "stdout",
     "output_type": "stream",
     "text": [
      "2\n",
      "3\n",
      "5\n",
      "7\n"
     ]
    }
   ],
   "source": [
    "\n",
    "integer_list = [1, 2, 3, 4, 5, 6, 7, 8, 9, 10]\n",
    "\n",
    "for num in integer_list:\n",
    "   \n",
    "    if num > 1:\n",
    "        \n",
    "        factors_count = 0  \n",
    "        for i in range(1, num + 1):  \n",
    "               if num % i == 0:  \n",
    "                   factors_count += 1        \n",
    "        \n",
    "        if factors_count == 2:\n",
    "            print(num)\n"
   ]
  },
  {
   "cell_type": "code",
   "execution_count": 15,
   "metadata": {},
   "outputs": [
    {
     "name": "stdout",
     "output_type": "stream",
     "text": [
      "17\n"
     ]
    }
   ],
   "source": [
    "\n",
    "integer_list = [1, 2, 3, 4, 5, 6, 7, 8, 9, 10]\n",
    "s=0\n",
    "for num in integer_list:\n",
    "   \n",
    "    if num > 1:\n",
    "        \n",
    "        factors_count = 0  \n",
    "        for i in range(1, num + 1):  \n",
    "               if num % i == 0:  \n",
    "                   factors_count += 1        \n",
    "        \n",
    "        if factors_count == 2:\n",
    "            s+=num\n",
    "print(s)"
   ]
  },
  {
   "cell_type": "code",
   "execution_count": 24,
   "metadata": {},
   "outputs": [
    {
     "name": "stdout",
     "output_type": "stream",
     "text": [
      "6\n"
     ]
    }
   ],
   "source": [
    "\n",
    "integer_list = [1, 2, 3, 4, 5, 6, 7, 8, 9, 10]\n",
    "\n",
    "for num in integer_list:\n",
    "   \n",
    "    if num > 0:\n",
    "        \n",
    "        i = 1 \n",
    "        s=0 \n",
    "        for i in range(1, num ):  \n",
    "            \n",
    "            if num % i == 0:  \n",
    "                s += i        \n",
    "        \n",
    "        if s == num:\n",
    "             print(num)"
   ]
  },
  {
   "cell_type": "code",
   "execution_count": 55,
   "metadata": {},
   "outputs": [
    {
     "name": "stdout",
     "output_type": "stream",
     "text": [
      "17\n",
      "6\n"
     ]
    }
   ],
   "source": [
    "\n",
    "integer_list = [1, 2, 3, 4, 5, 6, 7, 8, 9, 10]\n",
    "s=0\n",
    "s2=0\n",
    "for num in integer_list:\n",
    "   \n",
    "    if num > 1:\n",
    "        \n",
    "        factors_count = 0  \n",
    "        for i in range(1, num + 1):  \n",
    "               if num % i == 0:  \n",
    "                   factors_count += 1        \n",
    "        \n",
    "        if factors_count == 2:\n",
    "            s+=num \n",
    "        \n",
    "    if num > 0:\n",
    "        j = 1 \n",
    "        s1=0 \n",
    "    \n",
    "        for j in range(1, num ):  \n",
    "\n",
    "            if num % j == 0:  \n",
    "                s1 += j        \n",
    "        \n",
    "        if s1 == num:\n",
    "            \n",
    "            s2+=num\n",
    "            \n",
    "        \n",
    "print(s)\n",
    "print(s2)"
   ]
  },
  {
   "cell_type": "code",
   "execution_count": 51,
   "metadata": {},
   "outputs": [
    {
     "name": "stdout",
     "output_type": "stream",
     "text": [
      "6\n",
      "6\n"
     ]
    }
   ],
   "source": [
    "integer_list = [1, 2, 3, 4, 5, 6, 7, 8, 9, 10]\n",
    "s2=0\n",
    "for num in integer_list:\n",
    "   \n",
    "    if num > 0:\n",
    "        \n",
    "        i = 1 \n",
    "        s=0 \n",
    "        for i in range(1, num ):  \n",
    "            \n",
    "            if num % i == 0:  \n",
    "                s += i        \n",
    "        \n",
    "        if s == num:\n",
    "            print(num)\n",
    "            s2+=num\n",
    "print(s2)"
   ]
  },
  {
   "cell_type": "code",
   "execution_count": 62,
   "metadata": {},
   "outputs": [
    {
     "name": "stdout",
     "output_type": "stream",
     "text": [
      "9\n",
      "8\n",
      "8\n"
     ]
    }
   ],
   "source": [
    "l=['PYspiders@12','JsPiDers@123','QsPiders@1234']\n",
    "for i in range(0,len(l)):\n",
    "    ch=l[i]\n",
    "    c=0\n",
    "    for j in range(len(ch)):\n",
    "        ch1=l[i][j]\n",
    "        if (ch1>='A' and ch1<='Z')  or (ch1>='a' and ch1<=\"z\"):\n",
    "            c+=1\n",
    "    print(c)"
   ]
  },
  {
   "cell_type": "code",
   "execution_count": 63,
   "metadata": {},
   "outputs": [
    {
     "name": "stdout",
     "output_type": "stream",
     "text": [
      "2\n",
      "3\n",
      "4\n"
     ]
    }
   ],
   "source": [
    "l=['PYspiders@12','JsPiDers@123','QsPiders@1234']\n",
    "for i in range(0,len(l)):\n",
    "    ch=l[i]\n",
    "    c=0\n",
    "    for j in range(len(ch)):\n",
    "        ch1=l[i][j]\n",
    "        if (ch1>='0' and ch1<='9') :\n",
    "            c+=1\n",
    "    print(c)"
   ]
  },
  {
   "cell_type": "code",
   "execution_count": 64,
   "metadata": {},
   "outputs": [
    {
     "name": "stdout",
     "output_type": "stream",
     "text": [
      "2\n",
      "2\n",
      "2\n"
     ]
    }
   ],
   "source": [
    "l=['PYspiders@12','JsPiDers@123','QsPiders@1234']\n",
    "for i in range(0,len(l)):\n",
    "    ch=l[i]\n",
    "    c=0\n",
    "    for j in range(len(ch)):\n",
    "        ch1=l[i][j]\n",
    "        if ch1 in \"aeiouAEIOU\" :\n",
    "            c+=1\n",
    "    print(c)"
   ]
  },
  {
   "cell_type": "code",
   "execution_count": 65,
   "metadata": {},
   "outputs": [
    {
     "name": "stdout",
     "output_type": "stream",
     "text": [
      "2\n",
      "3\n",
      "2\n"
     ]
    }
   ],
   "source": [
    "l=['PYspiders@12','JsPiDers@123','QsPiders@1234']\n",
    "for i in range(0,len(l)):\n",
    "    ch=l[i]\n",
    "    c=0\n",
    "    for j in range(len(ch)):\n",
    "        ch1=l[i][j]\n",
    "        if (ch1>='A' and ch1<='Z')  :\n",
    "            c+=1\n",
    "    print(c)"
   ]
  },
  {
   "cell_type": "code",
   "execution_count": 66,
   "metadata": {},
   "outputs": [
    {
     "name": "stdout",
     "output_type": "stream",
     "text": [
      "['dcba', 'zyx', '321@cba']\n"
     ]
    }
   ],
   "source": [
    "l=['abcd','xyz','abc@123']\n",
    "l1=[]\n",
    "for i in range(len(l)):\n",
    "    ch=l[i]\n",
    "    res=''\n",
    "    j=len(ch)-1\n",
    "    while j>=0:\n",
    "        ch2=l[i][j]\n",
    "        res+=ch2\n",
    "        j-=1\n",
    "    l1+=[res]\n",
    "print(l1)"
   ]
  },
  {
   "cell_type": "code",
   "execution_count": 67,
   "metadata": {},
   "outputs": [
    {
     "name": "stdout",
     "output_type": "stream",
     "text": [
      "['dcba', 'zyx', '321@cba']\n"
     ]
    }
   ],
   "source": [
    "l=['abcd','xyz','abc@123']\n",
    "i=0\n",
    "while i<len(l):\n",
    "    res=''\n",
    "    for j in l[i]:\n",
    "        res=j+res\n",
    "    l[i]=res\n",
    "    i+=1\n",
    "print(l)"
   ]
  },
  {
   "cell_type": "code",
   "execution_count": 3,
   "metadata": {},
   "outputs": [
    {
     "name": "stdout",
     "output_type": "stream",
     "text": [
      "9\n"
     ]
    }
   ],
   "source": [
    "l=[1,2,3,4,5]\n",
    "i=0\n",
    "max_s=l[0]+l[1]\n",
    "while i<len(l)-1:\n",
    "    s=l[i]+l[i+1]\n",
    "    if s>max_s:\n",
    "        max_s=s\n",
    "    i+=1\n",
    "print(max_s)"
   ]
  },
  {
   "cell_type": "code",
   "execution_count": 4,
   "metadata": {},
   "outputs": [
    {
     "name": "stdout",
     "output_type": "stream",
     "text": [
      "21\n"
     ]
    }
   ],
   "source": [
    "#1\n",
    "l=[1,2,3,4,5,6]\n",
    "s=0\n",
    "for i in l:\n",
    "    s+=i\n",
    "print(s)"
   ]
  },
  {
   "cell_type": "code",
   "execution_count": 12,
   "metadata": {},
   "outputs": [
    {
     "name": "stdout",
     "output_type": "stream",
     "text": [
      "0\n"
     ]
    }
   ],
   "source": [
    "#2\n",
    "l=[1,2,3,4,5,6,7,8,9,0]\n",
    "min_e=l[0]\n",
    "for i in l:\n",
    "    if i<min_e:\n",
    "        min_e=i\n",
    "print(i)"
   ]
  },
  {
   "cell_type": "code",
   "execution_count": 16,
   "metadata": {},
   "outputs": [
    {
     "name": "stdout",
     "output_type": "stream",
     "text": [
      "8\n"
     ]
    }
   ],
   "source": [
    "#3\n",
    "l=[3,4,5,6,2,8]\n",
    "max_e=l[0]\n",
    "for i in l:\n",
    "    if i>max_e:\n",
    "        max_e=i\n",
    "print(i)"
   ]
  },
  {
   "cell_type": "code",
   "execution_count": 31,
   "metadata": {},
   "outputs": [
    {
     "name": "stdout",
     "output_type": "stream",
     "text": [
      "3\n"
     ]
    }
   ],
   "source": [
    "#4\n",
    "l=[3,4,5,7,1]\n",
    "min_f=l[0]\n",
    "for i in l:\n",
    "    if i<min_f:\n",
    "        min_s=min_f\n",
    "        min_f=i\n",
    "print(min_s)"
   ]
  },
  {
   "cell_type": "code",
   "execution_count": 79,
   "metadata": {},
   "outputs": [
    {
     "name": "stdout",
     "output_type": "stream",
     "text": [
      "8\n"
     ]
    }
   ],
   "source": [
    "#5\n",
    "l=[1,8,7,3,5,41]\n",
    "max_f=l[0]\n",
    "for i in l:\n",
    "    if i>max_f:\n",
    "        max_s=max_f\n",
    "        max_f=i\n",
    "print(max_s)"
   ]
  },
  {
   "cell_type": "code",
   "execution_count": 19,
   "metadata": {},
   "outputs": [
    {
     "name": "stdout",
     "output_type": "stream",
     "text": [
      "3.75\n"
     ]
    }
   ],
   "source": [
    "#6\n",
    "l=[1,2,3,4,5,4,5,6]\n",
    "s=0\n",
    "for i in l:\n",
    "    s+=i\n",
    "avg_v=s/len(l)\n",
    "print(avg_v)"
   ]
  },
  {
   "cell_type": "code",
   "execution_count": 22,
   "metadata": {},
   "outputs": [
    {
     "name": "stdout",
     "output_type": "stream",
     "text": [
      "30\n"
     ]
    }
   ],
   "source": [
    "#7\n",
    "l=[2,6,4,6,9,4,2,7,5,6,8]\n",
    "i=0\n",
    "s=0\n",
    "while i<len(l):\n",
    "    if i%2==0:\n",
    "        s+=l[i]\n",
    "    i+=1\n",
    "print(s)"
   ]
  },
  {
   "cell_type": "code",
   "execution_count": 23,
   "metadata": {},
   "outputs": [
    {
     "name": "stdout",
     "output_type": "stream",
     "text": [
      "29\n"
     ]
    }
   ],
   "source": [
    "#8\n",
    "l=[2,6,4,6,9,4,2,7,5,6,8]\n",
    "i=0\n",
    "s=0\n",
    "while i<len(l):\n",
    "    if i%2==1:\n",
    "        s+=l[i]\n",
    "    i+=1\n",
    "print(s)"
   ]
  },
  {
   "cell_type": "code",
   "execution_count": 25,
   "metadata": {},
   "outputs": [
    {
     "name": "stdout",
     "output_type": "stream",
     "text": [
      "0\n"
     ]
    }
   ],
   "source": [
    "#9\n",
    "l=[6,7,8,4,3,9,0]\n",
    "i=0\n",
    "min_v=l[0]\n",
    "while i<len(l):\n",
    "    if i%2==0:\n",
    "        if l[i]<min_v:\n",
    "            min_v=l[i]\n",
    "    i+=1\n",
    "print(min_v)"
   ]
  },
  {
   "cell_type": "code",
   "execution_count": 29,
   "metadata": {},
   "outputs": [
    {
     "name": "stdout",
     "output_type": "stream",
     "text": [
      "9\n"
     ]
    }
   ],
   "source": [
    "#10\n",
    "l=[6,7,8,4,3,9]\n",
    "i=0\n",
    "max_v=l[0]\n",
    "while i<len(l):\n",
    "    if i%2==1:\n",
    "        if l[i]>max_v:\n",
    "            max_v=l[i]\n",
    "    i+=1\n",
    "print(max_v)"
   ]
  },
  {
   "cell_type": "code",
   "execution_count": 30,
   "metadata": {},
   "outputs": [
    {
     "name": "stdout",
     "output_type": "stream",
     "text": [
      "1.75\n"
     ]
    }
   ],
   "source": [
    "#11\n",
    "l=[1,2,3,4,5,4,5,6]\n",
    "s=0\n",
    "i=0\n",
    "while i<len(l):\n",
    "    if i%2==0:\n",
    "        s+=l[i]\n",
    "    i+=1\n",
    "avg_v=s/len(l)\n",
    "print(avg_v)"
   ]
  },
  {
   "cell_type": "code",
   "execution_count": 32,
   "metadata": {},
   "outputs": [
    {
     "name": "stdout",
     "output_type": "stream",
     "text": [
      "2.0\n"
     ]
    }
   ],
   "source": [
    "#12\n",
    "l=[1,2,3,4,5,4,5,6]\n",
    "s=0\n",
    "i=0\n",
    "while i<len(l):\n",
    "    if i%2==1:\n",
    "        s+=l[i]\n",
    "    i+=1\n",
    "avg_v=s/len(l)\n",
    "print(avg_v)"
   ]
  },
  {
   "cell_type": "code",
   "execution_count": 33,
   "metadata": {},
   "outputs": [
    {
     "name": "stdout",
     "output_type": "stream",
     "text": [
      "29\n"
     ]
    }
   ],
   "source": [
    "#13\n",
    "l=[1,3,6,2,8,0,5,4,7,8,8,9,44,5,77]\n",
    "mid=len(l)//2\n",
    "s=0\n",
    "for i in range(0,mid+1):\n",
    "    s+=l[i]\n",
    "print(s)"
   ]
  },
  {
   "cell_type": "code",
   "execution_count": 34,
   "metadata": {},
   "outputs": [
    {
     "name": "stdout",
     "output_type": "stream",
     "text": [
      "162\n"
     ]
    }
   ],
   "source": [
    "#14\n",
    "l=[1,3,6,2,8,0,5,4,7,8,8,9,44,5,77]\n",
    "mid=len(l)//2\n",
    "s=0\n",
    "for i in range(mid,len(l)):\n",
    "    s+=l[i]\n",
    "print(s)"
   ]
  },
  {
   "cell_type": "code",
   "execution_count": 35,
   "metadata": {},
   "outputs": [
    {
     "name": "stdout",
     "output_type": "stream",
     "text": [
      "0\n"
     ]
    }
   ],
   "source": [
    "#15\n",
    "l=[1,3,6,2,8,0,5,4,7,8,8,9,44,5,77]\n",
    "mid=len(l)//2\n",
    "min_e=l[0]\n",
    "for i in range(0,mid+1):\n",
    "        if l[i]<min_e:\n",
    "            min_e=l[i]\n",
    "print(min_e)\n"
   ]
  },
  {
   "cell_type": "code",
   "execution_count": 36,
   "metadata": {},
   "outputs": [
    {
     "name": "stdout",
     "output_type": "stream",
     "text": [
      "4\n"
     ]
    }
   ],
   "source": [
    "#16\n",
    "l=[1,3,6,2,8,0,5,4,7,8,8,9,44,5,77]\n",
    "mid=len(l)//2\n",
    "min_e=l[mid]\n",
    "for i in range(mid,len(l)):\n",
    "        if l[i]<min_e:\n",
    "            min_e=l[i]\n",
    "print(min_e)"
   ]
  },
  {
   "cell_type": "code",
   "execution_count": 37,
   "metadata": {},
   "outputs": [
    {
     "name": "stdout",
     "output_type": "stream",
     "text": [
      "8\n"
     ]
    }
   ],
   "source": [
    "#17\n",
    "l=[1,3,6,2,8,0,5,4,7,8,8,9,44,5,77]\n",
    "mid=len(l)//2\n",
    "max_e=l[0]\n",
    "for i in range(0,mid+1):\n",
    "        if l[i]>max_e:\n",
    "            max_e=l[i]\n",
    "print(max_e)"
   ]
  },
  {
   "cell_type": "code",
   "execution_count": 39,
   "metadata": {},
   "outputs": [
    {
     "name": "stdout",
     "output_type": "stream",
     "text": [
      "77\n"
     ]
    }
   ],
   "source": [
    "#18\n",
    "l=[1,3,6,2,8,0,5,4,7,8,8,9,44,5,77]\n",
    "mid=len(l)//2\n",
    "max_e=l[mid]\n",
    "for i in range(mid,len(l)):\n",
    "        if l[i]>max_e:\n",
    "            max_e=l[i]\n",
    "print(max_e)"
   ]
  },
  {
   "cell_type": "code",
   "execution_count": 40,
   "metadata": {},
   "outputs": [
    {
     "name": "stdout",
     "output_type": "stream",
     "text": [
      "4.0\n"
     ]
    }
   ],
   "source": [
    "#19\n",
    "l=[1,3,6,2,8,0,5,4,7,8,8,9,44,5,77]\n",
    "mid=len(l)//2\n",
    "s=0\n",
    "for i in range(0,mid+1):\n",
    "        s+=i\n",
    "avg_v=s/mid\n",
    "print(avg_v)\n"
   ]
  },
  {
   "cell_type": "code",
   "execution_count": 41,
   "metadata": {},
   "outputs": [
    {
     "name": "stdout",
     "output_type": "stream",
     "text": [
      "12.0\n"
     ]
    }
   ],
   "source": [
    "#20\n",
    "l=[1,3,6,2,8,0,5,4,7,8,8,9,44,5,77]\n",
    "mid=len(l)//2\n",
    "s=0\n",
    "for i in range(mid,len(l)):\n",
    "        s+=i\n",
    "avg_v=s/mid\n",
    "print(avg_v)"
   ]
  },
  {
   "cell_type": "code",
   "execution_count": 46,
   "metadata": {},
   "outputs": [
    {
     "name": "stdout",
     "output_type": "stream",
     "text": [
      "[7, 6, 1, 9, 7.8, 5, 4, 2.3]\n"
     ]
    }
   ],
   "source": [
    "#21\n",
    "l=[2.3,4,5,7.8,9,1,6,7]\n",
    "i=len(l)-1\n",
    "res=[]\n",
    "while i>=0:\n",
    "    res+=[l[i]]\n",
    "    i-=1\n",
    "print(res)"
   ]
  },
  {
   "cell_type": "code",
   "execution_count": 49,
   "metadata": {},
   "outputs": [
    {
     "name": "stdout",
     "output_type": "stream",
     "text": [
      "[9, 7.8, 5, 4, 2.3]\n"
     ]
    }
   ],
   "source": [
    "#22\n",
    "l=[2.3,4,5,7.8,9,1,6,7,5]\n",
    "mid=len(l)//2\n",
    "res=[]\n",
    "while mid>=0:\n",
    "    res+=[l[mid]]\n",
    "    mid-=1\n",
    "print(res)\n"
   ]
  },
  {
   "cell_type": "code",
   "execution_count": 52,
   "metadata": {},
   "outputs": [
    {
     "name": "stdout",
     "output_type": "stream",
     "text": [
      "[5, 7, 6, 1, 9]\n"
     ]
    }
   ],
   "source": [
    "#23\n",
    "l=[2.3,4,5,7.8,9,1,6,7,5]\n",
    "mid=len(l)//2\n",
    "res=[]\n",
    "while mid<len(l):\n",
    "    res=[l[mid]]+res\n",
    "    mid+=1\n",
    "print(res)"
   ]
  },
  {
   "cell_type": "code",
   "execution_count": 53,
   "metadata": {},
   "outputs": [
    {
     "name": "stdout",
     "output_type": "stream",
     "text": [
      "13\n",
      "7\n",
      "7\n",
      "3\n"
     ]
    }
   ],
   "source": [
    "#24\n",
    "l=[13,5,7,9,7,5,3,1]\n",
    "i=0\n",
    "while i<len(l):\n",
    "    if i%2==0:\n",
    "        print(l[i])\n",
    "    i+=1"
   ]
  },
  {
   "cell_type": "code",
   "execution_count": 54,
   "metadata": {},
   "outputs": [
    {
     "name": "stdout",
     "output_type": "stream",
     "text": [
      "[3, 7, 7, 13]\n"
     ]
    }
   ],
   "source": [
    "#25\n",
    "l=[13,5,7,9,7,5,3,1]\n",
    "i=0\n",
    "res=[]\n",
    "while i<len(l):\n",
    "    if i%2==0:\n",
    "        res=[l[i]]+res\n",
    "    i+=1\n",
    "print(res)"
   ]
  },
  {
   "cell_type": "code",
   "execution_count": 55,
   "metadata": {},
   "outputs": [
    {
     "name": "stdout",
     "output_type": "stream",
     "text": [
      "5\n",
      "9\n",
      "5\n",
      "1\n"
     ]
    }
   ],
   "source": [
    "#26\n",
    "l=[13,5,7,9,7,5,3,1]\n",
    "i=0\n",
    "while i<len(l):\n",
    "    if i%2==1:\n",
    "        print(l[i])\n",
    "    i+=1"
   ]
  },
  {
   "cell_type": "code",
   "execution_count": 56,
   "metadata": {},
   "outputs": [
    {
     "name": "stdout",
     "output_type": "stream",
     "text": [
      "[1, 5, 9, 5]\n"
     ]
    }
   ],
   "source": [
    "#27\n",
    "l=[13,5,7,9,7,5,3,1]\n",
    "i=0\n",
    "res=[]\n",
    "while i<len(l):\n",
    "    if i%2==1:\n",
    "        res=[l[i]]+res\n",
    "    i+=1\n",
    "print(res)"
   ]
  },
  {
   "cell_type": "code",
   "execution_count": 57,
   "metadata": {},
   "outputs": [
    {
     "name": "stdout",
     "output_type": "stream",
     "text": [
      "2\n"
     ]
    }
   ],
   "source": [
    "#28\n",
    "l=[3,4,7,2,9,8]\n",
    "n=int(input())\n",
    "if n in l:\n",
    "    i=0\n",
    "    while i<len(l):\n",
    "        if n==l[i]:\n",
    "            print(i)\n",
    "        i+=1\n",
    "    "
   ]
  },
  {
   "cell_type": "code",
   "execution_count": 87,
   "metadata": {},
   "outputs": [
    {
     "name": "stdout",
     "output_type": "stream",
     "text": [
      "[6, 5, 56, 8, 7, 3, 2, 23, 45, 87]\n"
     ]
    }
   ],
   "source": [
    "#29\n",
    "n1=int(input())\n",
    "n2=int(input())\n",
    "l=[6,5,3,8,7,56,2,23,45,87]\n",
    "i=0\n",
    "if n1<=len(l) and n2<=len(l):\n",
    "    l[n1],l[n2]=l[n2],l[n1]\n",
    "print(l)\n"
   ]
  },
  {
   "cell_type": "code",
   "execution_count": 4,
   "metadata": {},
   "outputs": [
    {
     "name": "stdout",
     "output_type": "stream",
     "text": [
      "8 23\n",
      "[6, 5, 3, 23, 7, 56, 2, 8, 45, 87]\n"
     ]
    }
   ],
   "source": [
    "n1=int(input())\n",
    "n2=int(input())\n",
    "l=[6,5,3,8,7,56,2,23,45,87]\n",
    "i=0\n",
    "if n1<=len(l) and n2<=len(l):\n",
    "    a=l[n1]\n",
    "    b=l[n2]\n",
    "    print(a,b)\n",
    "    l[n2]=a\n",
    "    l[n1]=b\n",
    "print(l)\n",
    "    \n"
   ]
  },
  {
   "cell_type": "code",
   "execution_count": 82,
   "metadata": {},
   "outputs": [
    {
     "name": "stdout",
     "output_type": "stream",
     "text": [
      "[7, 6, 1, 9, 7.8, 5, 4, 2.3]\n"
     ]
    }
   ],
   "source": [
    "#30\n",
    "l=[2.3,4,5,7.8,9,1,6,7]\n",
    "i=len(l)-1\n",
    "res=[]\n",
    "while i>=0:\n",
    "    res+=[l[i]]\n",
    "    i-=1\n",
    "print(res)"
   ]
  },
  {
   "cell_type": "code",
   "execution_count": 13,
   "metadata": {},
   "outputs": [
    {
     "name": "stdout",
     "output_type": "stream",
     "text": [
      "[8, 2, 6, 3, 7, 9, 4]\n"
     ]
    }
   ],
   "source": [
    "#31\n",
    "l=[3,6,2,8,7,9,4]\n",
    "mid=len(l)//2\n",
    "res=[]\n",
    "i=0\n",
    "while i<len(l):\n",
    "    if i<=mid:\n",
    "        res=[l[i]]+res\n",
    "    else:\n",
    "        res+=[l[i]]\n",
    "    i+=1\n",
    "print(res)"
   ]
  },
  {
   "cell_type": "code",
   "execution_count": null,
   "metadata": {},
   "outputs": [],
   "source": [
    "#32\n"
   ]
  },
  {
   "cell_type": "code",
   "execution_count": null,
   "metadata": {},
   "outputs": [],
   "source": []
  },
  {
   "cell_type": "code",
   "execution_count": 8,
   "metadata": {},
   "outputs": [
    {
     "name": "stdout",
     "output_type": "stream",
     "text": [
      "[1, 3, 2, 5, 4, 7, 6, 9, 8]\n"
     ]
    }
   ],
   "source": [
    "#35\n",
    "l=[1,2,3,4,5,6,7,8,9]\n",
    "i=1\n",
    "res=[l[0]]\n",
    "while i<len(l):\n",
    "    ch=l[i]\n",
    "    ch1=l[i+1]\n",
    "    res+=[ch1]\n",
    "    res+=[ch]\n",
    "    i+=2\n",
    "\n",
    "print(res)\n"
   ]
  },
  {
   "cell_type": "code",
   "execution_count": null,
   "metadata": {},
   "outputs": [],
   "source": [
    "#36\n"
   ]
  }
 ],
 "metadata": {
  "kernelspec": {
   "display_name": "Python 3",
   "language": "python",
   "name": "python3"
  },
  "language_info": {
   "codemirror_mode": {
    "name": "ipython",
    "version": 3
   },
   "file_extension": ".py",
   "mimetype": "text/x-python",
   "name": "python",
   "nbconvert_exporter": "python",
   "pygments_lexer": "ipython3",
   "version": "3.12.1"
  }
 },
 "nbformat": 4,
 "nbformat_minor": 2
}
