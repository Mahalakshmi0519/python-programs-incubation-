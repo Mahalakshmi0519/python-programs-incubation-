{
 "cells": [
  {
   "cell_type": "code",
   "execution_count": 1,
   "metadata": {},
   "outputs": [
    {
     "name": "stdout",
     "output_type": "stream",
     "text": [
      "neutral\n"
     ]
    }
   ],
   "source": [
    "#1\n",
    "n=int(input())\n",
    "if n>0:\n",
    "    print('positive')\n",
    "elif n<0:\n",
    "    print('negative')\n",
    "else:\n",
    "    print('neutral')"
   ]
  },
  {
   "cell_type": "code",
   "execution_count": 2,
   "metadata": {},
   "outputs": [
    {
     "name": "stdout",
     "output_type": "stream",
     "text": [
      "7\n"
     ]
    }
   ],
   "source": [
    "#2\n",
    "a=int(input())\n",
    "b=int(input())\n",
    "c=int(input())\n",
    "if a>b and a>c:\n",
    "    print(a)\n",
    "elif b>a and b>c:\n",
    "    print(b)   \n",
    "elif c>a and c>b:\n",
    "    print(c)"
   ]
  },
  {
   "cell_type": "code",
   "execution_count": 3,
   "metadata": {},
   "outputs": [
    {
     "name": "stdout",
     "output_type": "stream",
     "text": [
      "fizzbuzz\n"
     ]
    }
   ],
   "source": [
    "#3\n",
    "n=int(input())\n",
    "if n%3==0 and n%5==0:\n",
    "    print('fizzbuzz')\n",
    "elif n%3==0:\n",
    "    print('fizz')\n",
    "elif n%5==0:\n",
    "    print('buzz')"
   ]
  },
  {
   "cell_type": "code",
   "execution_count": 2,
   "metadata": {},
   "outputs": [
    {
     "name": "stdout",
     "output_type": "stream",
     "text": [
      "5  is greater than  3\n",
      "3  is less than  5\n"
     ]
    }
   ],
   "source": [
    "#4\n",
    "a=int(input())\n",
    "b=int(input())\n",
    "if a>b or b<a:\n",
    "    print(a,' is greater than ',b)\n",
    "    print(b,' is less than ',a)\n",
    "\n",
    "elif a>=b or b<=a:\n",
    "    print(a,' is greater than or equal to ',b)\n",
    "    print(b,' is less than or equal to ',a)\n",
    "\n",
    "elif b>a or a<b:\n",
    "    print(b,' is greater than ',a)\n",
    "    print(a,' is less than ',b)\n",
    "\n",
    "elif b>=a or a<=b:\n",
    "    print(b,' is greater than or equal to ',a)\n",
    "    print(a,' is less than or equal to ',b)"
   ]
  },
  {
   "cell_type": "code",
   "execution_count": 3,
   "metadata": {},
   "outputs": [
    {
     "name": "stdout",
     "output_type": "stream",
     "text": [
      "two digit value 45\n"
     ]
    }
   ],
   "source": [
    "#5\n",
    "n=int(input())\n",
    "if n>=0 and n<=9:\n",
    "    print('one digit value',n)\n",
    "elif n>=10 and n<=99:\n",
    "    print('two digit value',n)\n",
    "elif n>=100 and n<=999:\n",
    "    print('three digit value',n)\n",
    "else:\n",
    "    print('more than 3 digit',n)"
   ]
  },
  {
   "cell_type": "code",
   "execution_count": 6,
   "metadata": {},
   "outputs": [
    {
     "name": "stdout",
     "output_type": "stream",
     "text": [
      "special character ?\n"
     ]
    }
   ],
   "source": [
    "#6\n",
    "char=input()\n",
    "if 'A'<=char<=\"Z\" or 'a'<=char<='z':\n",
    "    print('The alphabet',char)\n",
    "elif char>='0' and char<='9':\n",
    "    print('The ascii number',ord(char))\n",
    "elif not 'A'<=char<=\"Z\" or 'a'<=char<='z' or char>='0' and char<='9':\n",
    "    print('special character',char)\n",
    "else:\n",
    "    print('invalid')"
   ]
  },
  {
   "cell_type": "code",
   "execution_count": 7,
   "metadata": {},
   "outputs": [
    {
     "name": "stdout",
     "output_type": "stream",
     "text": [
      "four\n"
     ]
    }
   ],
   "source": [
    "#7\n",
    "n=int(input())\n",
    "if n==1:\n",
    "    print('one')\n",
    "elif n==2:\n",
    "    print('two')\n",
    "elif n==3:\n",
    "    print('three')\n",
    "elif n==4:\n",
    "    print('four')\n",
    "elif n==5:\n",
    "    print('five')\n",
    "else:\n",
    "    print('number out of range')"
   ]
  },
  {
   "cell_type": "code",
   "execution_count": 8,
   "metadata": {},
   "outputs": [
    {
     "name": "stdout",
     "output_type": "stream",
     "text": [
      "lowecase\n"
     ]
    }
   ],
   "source": [
    "#8\n",
    "char=input()\n",
    "if 'A'<=char and char<=\"Z\" :\n",
    "    print('uppercase')\n",
    "elif char>='0' and char<='9':\n",
    "    print('digit')\n",
    "elif char>='a' and char<='z':\n",
    "    print('lowecase')\n",
    "else:\n",
    "    print('special character')"
   ]
  },
  {
   "cell_type": "code",
   "execution_count": 2,
   "metadata": {},
   "outputs": [
    {
     "name": "stdout",
     "output_type": "stream",
     "text": [
      ">\n",
      "?\n",
      "@\n"
     ]
    }
   ],
   "source": [
    "#9\n",
    "char=input()\n",
    "if 'A'<=char and char<=\"Z\" :\n",
    "    ch=ord(char)+32\n",
    "    print(chr(ch))\n",
    "elif char>='a' and char<='z':\n",
    "    ch=ord(char)-32\n",
    "    print(chr(ch))\n",
    "elif not ('A'<=char and char<=\"Z\" or char>='a' and char<='z' or char>='0' and char<='9'):\n",
    "    p=ord(char)-1\n",
    "    n=ord(char)+1\n",
    "    print(chr(p)) \n",
    "    print(char)   \n",
    "    print(chr(n))"
   ]
  },
  {
   "cell_type": "code",
   "execution_count": 3,
   "metadata": {},
   "outputs": [
    {
     "name": "stdout",
     "output_type": "stream",
     "text": [
      "uppercase\n"
     ]
    }
   ],
   "source": [
    "#10\n",
    "char=input()\n",
    "if 'A'<=char and char<=\"Z\" :\n",
    "    print('uppercase')\n",
    "elif char>='0' and char<='9':\n",
    "    print('numeric')\n",
    "elif char>='a' and char<='z':\n",
    "    print('lowecase')\n",
    "else:\n",
    "    print('special character')"
   ]
  },
  {
   "cell_type": "code",
   "execution_count": 5,
   "metadata": {},
   "outputs": [
    {
     "name": "stdout",
     "output_type": "stream",
     "text": [
      "fail\n"
     ]
    }
   ],
   "source": [
    "#11\n",
    "n=float(input())\n",
    "if n>=90:\n",
    "    print('first grade')\n",
    "elif n>=80:\n",
    "    print('second grade')\n",
    "elif n>=70:\n",
    "    print('third grade')\n",
    "else:\n",
    "    print('fail')"
   ]
  },
  {
   "cell_type": "code",
   "execution_count": 6,
   "metadata": {},
   "outputs": [
    {
     "name": "stdout",
     "output_type": "stream",
     "text": [
      "Floor division\n",
      "1\n"
     ]
    }
   ],
   "source": [
    "#12\n",
    "a=int(input())\n",
    "b=int(input())\n",
    "choice=int(input())\n",
    "if choice==1:\n",
    "    print('Addition')\n",
    "    print(a+b) \n",
    "elif choice==2:\n",
    "    print('subtraction')\n",
    "    print(a-b)\n",
    "elif choice==3:\n",
    "    print('Multiplication')\n",
    "    print(a*b)\n",
    "elif choice==4:\n",
    "    print('Division')\n",
    "    print(a/b)\n",
    "elif choice==5:\n",
    "    print('Floor division')\n",
    "    print(a//b)\n",
    "elif choice==6:\n",
    "    print('modulus')\n",
    "    print(a%b)\n",
    "else:\n",
    "    print('power')\n",
    "    print(a**b)\n"
   ]
  },
  {
   "cell_type": "code",
   "execution_count": null,
   "metadata": {},
   "outputs": [],
   "source": [
    "#13\n",
    "n=int(input())\n",
    "if n>=0 and n<=9:\n",
    "    print('one digit value',n)\n",
    "elif n>=10 and n<=99:\n",
    "    print('two digit value',n)\n",
    "elif n>=100 and n<=999:\n",
    "    print('three digit value',n)\n",
    "else:\n",
    "    print('more than 3 digit',n)"
   ]
  },
  {
   "cell_type": "code",
   "execution_count": 14,
   "metadata": {},
   "outputs": [
    {
     "name": "stdout",
     "output_type": "stream",
     "text": [
      "{'9': 57}\n"
     ]
    }
   ],
   "source": [
    "#14\n",
    "v='kal'\n",
    "n=input()\n",
    "if type(v)==list:\n",
    "    mid=len(v)//2\n",
    "    new=v[:mid]+[n]+v[mid:]\n",
    "    print(new)\n",
    "elif type(v)==tuple:\n",
    "    new=(n)+v[0:]\n",
    "    print(new)\n",
    "elif type(v)==set:\n",
    "    v.add(n)\n",
    "    print(v)\n",
    "else:\n",
    "    d={n:ord(n)}\n",
    "    print(d)\n"
   ]
  },
  {
   "cell_type": "code",
   "execution_count": 24,
   "metadata": {},
   "outputs": [
    {
     "name": "stdout",
     "output_type": "stream",
     "text": [
      "[(7+4j)]\n"
     ]
    }
   ],
   "source": [
    "#15\n",
    "v=7+4j\n",
    "if type(v)==int:\n",
    "    print(v/5)\n",
    "elif type(v)==float:\n",
    "    print(v | 15)\n",
    "elif type(v)==str:\n",
    "    v1=v[-1]+v[0:-1]\n",
    "    print(v1)\n",
    "else:\n",
    "    l=[v]\n",
    "    print(l)\n"
   ]
  },
  {
   "cell_type": "code",
   "execution_count": 27,
   "metadata": {},
   "outputs": [
    {
     "name": "stdout",
     "output_type": "stream",
     "text": [
      "49\n"
     ]
    }
   ],
   "source": [
    "#16\n",
    "char=input()\n",
    "if 'A'<=char and char<=\"Z\" :\n",
    "    l=ord(char)+32\n",
    "    n=l+1\n",
    "    print(chr(l)+chr(n))\n",
    "elif char>='0' and char<='9':\n",
    "    av=ord(char)-6\n",
    "    print(av)\n",
    "else:\n",
    "    print('invalid input')"
   ]
  },
  {
   "cell_type": "code",
   "execution_count": 29,
   "metadata": {},
   "outputs": [
    {
     "name": "stdout",
     "output_type": "stream",
     "text": [
      "area of circle 1384.74\n"
     ]
    }
   ],
   "source": [
    "#17\n",
    "n=int(input())\n",
    "if n%2==0:\n",
    "    if n%4==0:\n",
    "        print(n**2)\n",
    "else:\n",
    "    if n%3==0 and n%7==0:\n",
    "        print( 'area of circle',3.14*(n**2))"
   ]
  },
  {
   "cell_type": "code",
   "execution_count": 32,
   "metadata": {},
   "outputs": [
    {
     "name": "stdout",
     "output_type": "stream",
     "text": [
      "b\n"
     ]
    }
   ],
   "source": [
    "#18\n",
    "ip=input()\n",
    "c=\"abcdefghijklmnopqrstuvwxyzABCDEFGHIJKLMNOPQRSTUVWXYZ\"\n",
    "if ip in c:\n",
    "    if ip>='A' and ip<=\"Z\":\n",
    "        av=ord(ip)+32\n",
    "        print(chr(av))\n",
    "    elif ip>='a' and ip<=\"z\":\n",
    "        av=ord(ip)-32\n",
    "        print(chr(av))\n",
    "else:\n",
    "    print('invalid')"
   ]
  },
  {
   "cell_type": "code",
   "execution_count": 33,
   "metadata": {},
   "outputs": [
    {
     "name": "stdout",
     "output_type": "stream",
     "text": [
      "even indexed items srncleto\n"
     ]
    }
   ],
   "source": [
    "#19\n",
    "ip=input()\n",
    "sc=\"stringcollection\"\n",
    "if ip in sc:\n",
    "    if len(sc)%2==0:\n",
    "        print('even indexed items',sc[0::2])\n",
    "    else:\n",
    "        print(\"odd indexed items\",sc[1::2])\n",
    "else:\n",
    "    print(sc)\n",
    "\n"
   ]
  },
  {
   "cell_type": "code",
   "execution_count": 35,
   "metadata": {},
   "outputs": [
    {
     "name": "stdout",
     "output_type": "stream",
     "text": [
      "special character >\n"
     ]
    }
   ],
   "source": [
    "#20\n",
    "char=input()\n",
    "if 'A'<=char and char<=\"Z\" :\n",
    "    if char in\"AEIOU\":\n",
    "        nc=ord(char)+1\n",
    "        print(chr(nc))\n",
    "    else:\n",
    "        if char>='a' and char<='z':\n",
    "            av=ord(ip)-32\n",
    "            print(chr(av))\n",
    "else:\n",
    "    if char>='0' and char<='9':\n",
    "        print('numeric',char)\n",
    "    else:\n",
    "        print('special character',char)"
   ]
  },
  {
   "cell_type": "code",
   "execution_count": 43,
   "metadata": {},
   "outputs": [
    {
     "name": "stdout",
     "output_type": "stream",
     "text": [
      "-5\n"
     ]
    }
   ],
   "source": [
    "#21\n",
    "v=4\n",
    "n=9\n",
    "if type(v) not in [int,float,complex,bool,None]:\n",
    "    if type(v) in [list,dict,set]:\n",
    "        if type(v)==list:\n",
    "            mid=len(v)//2\n",
    "            v[mid]=n\n",
    "            print(v)\n",
    "        elif type(v)==dict:\n",
    "                print(v)\n",
    "            \n",
    "        elif type(v)==set:\n",
    "            new=list(v)\n",
    "            print(new[0])\n",
    "            print(new[-1])\n",
    "    else:\n",
    "        mu=list(v)\n",
    "        swap=mu[-1]+mu[1:-1]+mu[0]\n",
    "        print(swap)  \n",
    "else:\n",
    "    print(~v)      \n"
   ]
  },
  {
   "cell_type": "code",
   "execution_count": 38,
   "metadata": {},
   "outputs": [
    {
     "name": "stdout",
     "output_type": "stream",
     "text": [
      "1\n"
     ]
    }
   ],
   "source": [
    "a=1\n",
    "b=a\n",
    "print(b)"
   ]
  },
  {
   "cell_type": "code",
   "execution_count": 1,
   "metadata": {},
   "outputs": [
    {
     "name": "stdout",
     "output_type": "stream",
     "text": [
      "2\n"
     ]
    }
   ],
   "source": [
    "d={1:2,2:3}\n",
    "print(len(d))"
   ]
  }
 ],
 "metadata": {
  "kernelspec": {
   "display_name": "Python 3",
   "language": "python",
   "name": "python3"
  },
  "language_info": {
   "codemirror_mode": {
    "name": "ipython",
    "version": 3
   },
   "file_extension": ".py",
   "mimetype": "text/x-python",
   "name": "python",
   "nbconvert_exporter": "python",
   "pygments_lexer": "ipython3",
   "version": "3.12.1"
  }
 },
 "nbformat": 4,
 "nbformat_minor": 2
}
