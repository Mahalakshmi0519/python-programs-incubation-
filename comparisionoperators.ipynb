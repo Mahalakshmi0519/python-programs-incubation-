{
 "cells": [
  {
   "cell_type": "code",
   "execution_count": 1,
   "metadata": {},
   "outputs": [
    {
     "name": "stdout",
     "output_type": "stream",
     "text": [
      "True\n",
      "False\n",
      "False\n",
      "True\n",
      "True\n",
      "True\n",
      "True\n",
      "False\n"
     ]
    }
   ],
   "source": [
    "#comparision operators (==) --> gives either true or false\n",
    "\n",
    "n=10\n",
    "n2=10\n",
    "print(n==n2)\n",
    "\n",
    "n=10\n",
    "n2=115\n",
    "print(n==n2)\n",
    "\n",
    "n=10+2j\n",
    "n2=10\n",
    "print(n==n2)\n",
    "\n",
    "st='raja'\n",
    "st1='raja'\n",
    "print(st==st1)\n",
    "\n",
    "l1=[1,2,3]\n",
    "l2=[1,2,3]\n",
    "print(l1==l2)\n",
    "\n",
    "s1={1,2,3}\n",
    "s2={3,2,1}\n",
    "print(s1==s2)\n",
    "\n",
    "d={1:100,2:0}\n",
    "d2={1:100,2:0}\n",
    "print(d==d2)\n",
    "\n",
    "t=(1,3,6)\n",
    "t1=[2,3,5]\n",
    "print(t==t1)"
   ]
  },
  {
   "cell_type": "code",
   "execution_count": 2,
   "metadata": {},
   "outputs": [
    {
     "name": "stdout",
     "output_type": "stream",
     "text": [
      "False\n",
      "True\n",
      "True\n",
      "False\n",
      "True\n",
      "False\n",
      "True\n",
      "True\n"
     ]
    }
   ],
   "source": [
    "#comparision operators (!=) --> gives either true or false\n",
    "\n",
    "n=10\n",
    "n2=10\n",
    "print(n!=n2)\n",
    "\n",
    "n=10\n",
    "n2=115\n",
    "print(n!=n2)\n",
    "\n",
    "n=10+2j\n",
    "n2=10\n",
    "print(n!=n2)\n",
    "\n",
    "st='raja'\n",
    "st1='raja'\n",
    "print(st!=st1)\n",
    "\n",
    "l1=[1,2,3]\n",
    "l2=[1,2,3,4]\n",
    "print(l1!=l2)\n",
    "\n",
    "s1={1,2,3}\n",
    "s2={3,2,1}\n",
    "print(s1!=s2)\n",
    "\n",
    "d={1:100,2:79}\n",
    "d2={1:100,2:0}\n",
    "print(d!=d2)\n",
    "\n",
    "t=(1,3,6)\n",
    "t1=[2,3,5]\n",
    "print(t!=t1)"
   ]
  }
 ],
 "metadata": {
  "kernelspec": {
   "display_name": "Python 3",
   "language": "python",
   "name": "python3"
  },
  "language_info": {
   "codemirror_mode": {
    "name": "ipython",
    "version": 3
   },
   "file_extension": ".py",
   "mimetype": "text/x-python",
   "name": "python",
   "nbconvert_exporter": "python",
   "pygments_lexer": "ipython3",
   "version": "3.12.1"
  }
 },
 "nbformat": 4,
 "nbformat_minor": 2
}
