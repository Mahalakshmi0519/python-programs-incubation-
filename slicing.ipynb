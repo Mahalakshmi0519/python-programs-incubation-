{
 "cells": [
  {
   "cell_type": "markdown",
   "metadata": {},
   "source": [
    "slicing --> to get sequence of characters from a given collection\n",
    "--> applicable for string,list,tuple and values of dict\n",
    "--> without step -->s[si:ei]---- si to ei-1 elements\n",
    "--> with step --> s[si:ei:step]-----if step is +ve = left to right ,elseif step=-ve -- right to left"
   ]
  },
  {
   "cell_type": "code",
   "execution_count": 1,
   "metadata": {},
   "outputs": [
    {
     "name": "stdout",
     "output_type": "stream",
     "text": [
      "ram\n",
      "\n",
      "amanu\n",
      "ram\n",
      "ramanujan\n",
      "manujan\n",
      "raman\n",
      "\n",
      "u\n"
     ]
    }
   ],
   "source": [
    "s='ramanujan'       #---> without step\n",
    "print(s[0:3])\n",
    "print(s[3:1])\n",
    "print(s[-8:-3])\n",
    "print(s[-9:-6])\n",
    "print(s[:])\n",
    "print(s[2:])\n",
    "print(s[:5])\n",
    "print(s[-4:5])\n",
    "print(s[-4:6])"
   ]
  },
  {
   "cell_type": "code",
   "execution_count": 3,
   "metadata": {},
   "outputs": [
    {
     "name": "stdout",
     "output_type": "stream",
     "text": [
      "ramanujan\n",
      "raman\n",
      "\n",
      "unama\n",
      "aju\n",
      "najunamar\n",
      "namar\n",
      "rmnjn\n",
      "njnmr\n",
      "ra\n",
      "ju\n",
      "m\n",
      "rnn\n"
     ]
    }
   ],
   "source": [
    "s='ramanujan'     #--> with step\n",
    "print(s[::])\n",
    "print(s[0:5:])\n",
    "print(s[0:5:-1])\n",
    "print(s[5:0:-1])\n",
    "print(s[7:-5:-1])\n",
    "print(s[::-1])\n",
    "print(s[-5::-1])\n",
    "print(s[::2])\n",
    "print(s[::-2])\n",
    "print(s[0:4:3])\n",
    "print(s[6:4:-1])\n",
    "print(s[-7:4:2])\n",
    "print(s[::4])"
   ]
  },
  {
   "cell_type": "code",
   "execution_count": 17,
   "metadata": {},
   "outputs": [
    {
     "name": "stdout",
     "output_type": "stream",
     "text": [
      "[1, 2]\n",
      "[3, 'jack sparrow']\n",
      "Wayne\n",
      "city\n",
      "['Manchester city', 'Wayne Rooney']\n",
      "[3, 2, 1]\n",
      "['Wayne Rooney', 3, 1]\n",
      "['Manchester city', 'jack sparrow']\n",
      "spa\n",
      "Roo\n",
      "ytic\n",
      "jack\n",
      "jk\n",
      "Roe\n",
      "sarw\n",
      "worraps kcaj\n",
      "saow\n"
     ]
    }
   ],
   "source": [
    "l=[1,2,3,'jack sparrow','Wayne Rooney',\"Manchester city\"]\n",
    "print(l[0:2])\n",
    "print(l[2:4])\n",
    "print(l[4][0:5:1])\n",
    "print(l[5][11:])\n",
    "print(l[5:3:-1])\n",
    "print(l[2::-1])\n",
    "print(l[4::-2])\n",
    "print(l[5:2:-2])\n",
    "print(l[3][5:8])\n",
    "print(l[4][6:9])\n",
    "print(l[5][14:10:-1])\n",
    "print(l[3][0:4])\n",
    "print(l[3][0:4:3])\n",
    "print(l[4][6:11:2])\n",
    "print(l[3][5::2])\n",
    "print(l[3][::-1])\n",
    "s1=l[3][5:8:2]\n",
    "s2=l[3][10:]\n",
    "print(s1+s2)"
   ]
  },
  {
   "cell_type": "code",
   "execution_count": 7,
   "metadata": {},
   "outputs": [
    {
     "name": "stdout",
     "output_type": "stream",
     "text": [
      "jor\n",
      "will\n",
      "james\n",
      "[40, 200, 300]\n",
      "{'name': 'Meason Mount', 'age': 24, 'club': 'chelsen'}\n",
      "Mount\n",
      "['name', 'age', 'club']\n",
      "['club', 'age']\n",
      "chelsen\n",
      "540\n",
      "42\n"
     ]
    }
   ],
   "source": [
    "l=['jordan','will blake',[300,200,40,'james willson'],{1:{'name':'Meason Mount', 'age':24,'club':'chelsen'}}]\n",
    "print(l[0][0:3])\n",
    "print(l[1][0:4])\n",
    "print(l[2][3][0:5])\n",
    "print(l[2][2::-1])\n",
    "print(l[3][1])\n",
    "print(l[3][1]['name'][7:])\n",
    "print(list(l[3][1]))\n",
    "print((list(l[3][1]))[2:0:-1])\n",
    "print(l[3][1]['club'][:])\n",
    "print(l[2][0]+l[2][1]+l[2][2])\n",
    "print((str(l[3][1]['age'])[::-1]))"
   ]
  },
  {
   "cell_type": "code",
   "execution_count": 13,
   "metadata": {},
   "outputs": [
    {
     "name": "stdout",
     "output_type": "stream",
     "text": [
      "onePlus\n",
      "Apple\n",
      "venug\n",
      "opal\n",
      "Amaresh\n",
      "Anaconda\n",
      "elppA\n",
      "sulP\n",
      "['Apple', 'onePlus']\n",
      "Ana\n",
      "resh\n",
      "lap\n",
      "pp\n",
      "hse\n",
      "onePlusApple\n",
      "venugresh\n"
     ]
    }
   ],
   "source": [
    "d={1:['onePlus','Apple'],2:{'name1':'venugopal','name2':'Amaresh'},'a':'Anaconda'}\n",
    "print(d[1][0])\n",
    "print(d[1][1])\n",
    "print(d[2]['name1'][0:5])\n",
    "print(d[2]['name1'][5:])\n",
    "print(d[2]['name2'])\n",
    "print(d['a'])\n",
    "print(d[1][1][::-1])\n",
    "print(d[1][0][6:2:-1])\n",
    "print(d[1][::-1])\n",
    "print(d['a'][0:3])\n",
    "print(d[2]['name2'][3:])\n",
    "print(d[2]['name1'][8:5:-1])\n",
    "print(d[1][1][1:3])\n",
    "print(d[2]['name2'][6:3:-1])\n",
    "print(d[1][0]+d[1][1])\n",
    "print(d[2]['name1'][0:5]+d[2]['name2'][3:])"
   ]
  }
 ],
 "metadata": {
  "kernelspec": {
   "display_name": "Python 3",
   "language": "python",
   "name": "python3"
  },
  "language_info": {
   "codemirror_mode": {
    "name": "ipython",
    "version": 3
   },
   "file_extension": ".py",
   "mimetype": "text/x-python",
   "name": "python",
   "nbconvert_exporter": "python",
   "pygments_lexer": "ipython3",
   "version": "3.12.1"
  }
 },
 "nbformat": 4,
 "nbformat_minor": 2
}
